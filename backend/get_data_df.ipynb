{
 "cells": [
  {
   "cell_type": "code",
   "execution_count": 78,
   "metadata": {},
   "outputs": [],
   "source": [
    "import glob\n",
    "import pandas as pd\n",
    "import numpy as np\n",
    "import re,os\n",
    "import time,random"
   ]
  },
  {
   "cell_type": "code",
   "execution_count": 79,
   "metadata": {},
   "outputs": [
    {
     "name": "stdout",
     "output_type": "stream",
     "text": [
      "--------------1\n",
      "2586\n",
      "--------------1\n"
     ]
    }
   ],
   "source": [
    "files_seq = []\n",
    "for fi_seq in glob.iglob('bird_strike/*20*/**/*.seq', recursive=True) :\n",
    "# for fi_seq in glob.iglob('bird_strike/*.seq', recursive=True) :\n",
    "    files_seq.append(fi_seq)\n",
    "print('--------------1')\n",
    "print(len(files_seq))\n",
    "print('--------------1')"
   ]
  },
  {
   "cell_type": "code",
   "execution_count": 80,
   "metadata": {},
   "outputs": [
    {
     "data": {
      "text/plain": [
       "('20200427',)"
      ]
     },
     "execution_count": 80,
     "metadata": {},
     "output_type": "execute_result"
    }
   ],
   "source": [
    "s = 'bird_strike20200427&20200506潮汕机场2个萧山机场7个样品结果/测序结果/cytb/良好/ZSHC-2020-07_L14995-H16065_C2291.L14995.PW005090042.seq'\n",
    "re.search(r'(?<=bird_strike)(\\d+)',s).groups()"
   ]
  },
  {
   "cell_type": "code",
   "execution_count": 81,
   "metadata": {},
   "outputs": [
    {
     "name": "stdout",
     "output_type": "stream",
     "text": [
      "bird_strike/20200427&20200506潮汕机场2个萧山机场7个样品结果/测序结果/cytb/良好/ZSHC-2020-07_L14995-H16065_C2291.L14995.PW005090042.seq\n",
      "bird_strike/20200427&20200506潮汕机场2个萧山机场7个样品结果/测序结果/cytb/良好/ZSHC-2020-04_L14995-H16065_C2291.L14995.PW005090036.seq\n",
      "bird_strike/20200427&20200506潮汕机场2个萧山机场7个样品结果/测序结果/cytb/良好/ZSHC-2020-02_L14995-H16065_C2291.L14995.PW005090028.seq\n"
     ]
    },
    {
     "data": {
      "text/plain": [
       "[None, None, None]"
      ]
     },
     "execution_count": 81,
     "metadata": {},
     "output_type": "execute_result"
    }
   ],
   "source": [
    "[print(i) for i in files_seq[:3]]"
   ]
  },
  {
   "cell_type": "code",
   "execution_count": 82,
   "metadata": {},
   "outputs": [
    {
     "name": "stdout",
     "output_type": "stream",
     "text": [
      "bird_strike/20200924北京大兴机场44&常州机场4个样品结果/测序结果/COI-1/良好/ZBAD2020-300-yumao_COI-1_C2890.COI-1-bird-F.PW009290069.seq\n",
      "---------------\n",
      "ZBAD2020-300-yumao_COI-1_C2890.COI-1-bird-F.PW009290069.seq\n",
      "ZBAD2020-300-yumao_\n",
      "ZBAD2020-300-yum\n",
      "date:\n",
      "20200924\n",
      "ZBAD2020-300-yum\n",
      "infoall:\n",
      "['bird_strike', '20200924北京大兴机场44&常州机场4个样品结果', '测序结果', 'COI-1', '良好', 'ZBAD2020-300-yumao_COI-1_C2890.COI-1-bird-F.PW009290069.seq']\n",
      "---\n",
      "file_name:\n",
      "ZBAD2020-300-yumao_COI-1_C2890.COI-1-bird-F.PW009290069.seq\n",
      "info：\n",
      "['ZBAD2020-300-yumao_', 'COI-1', '_C2890.', 'COI-1', '-bird-F.PW009290069.seq']\n",
      "info.strip:\n",
      "ZBAD2020-300-yumao\n",
      "---------------\n"
     ]
    }
   ],
   "source": [
    "# i = 'bird_strike/20200427&20200506潮汕机场2个萧山机场7个样品结果/测序结果/cytb/良好/ZSHC-2020-02_L14995-H16065_C2291.L14995.PW005090028.seq'\n",
    "i = 'bird_strike/20200924北京大兴机场44&常州机场4个样品结果/测序结果/COI-1/良好/ZBAD2020-300-yumao_COI-1_C2890.COI-1-bird-F.PW009290069.seq'\n",
    "date = re.search(r'(?<=bird_strike/)(\\d+)',i).groups()[0]\n",
    "infoall = i.split('/')\n",
    "file_name = os.path.basename(i)\n",
    "# info = re.split(r'(COI-1|COI-2|L6615|H7956|cytb|L14995|H16065|BirdF1|BirdR1|Vercytb|L14841|H15149|ND2|L5219|H6313)',file_name)\n",
    "info =   re.split(r'(COI-1|COI-2|L6615|H7956|cytb|L14995|H16065|BirdF1|BirdR1|Vercytb|L14841|H15149|ND2|L5219|H6313|cytB|COI|C1431|P905221|P905221|P2572|P905220|P2570|P905219|P905222)',file_name)\n",
    "\n",
    "sample_code = info[0].strip('(_|-|\\.|fangdang|zuojiyi)')\n",
    "\n",
    "print(i)\n",
    "print('---------------')\n",
    "print(file_name)\n",
    "print(info[0])\n",
    "print(info[0].strip('(fangdang)|(zuojiyi)|_|-|\\.'))\n",
    "print('date:')\n",
    "print(date)\n",
    "print(sample_code)\n",
    "print('infoall:')\n",
    "print(infoall)\n",
    "print('---')\n",
    "print('file_name:')\n",
    "print(file_name)\n",
    "print('info：')\n",
    "print(info)\n",
    "print('info.strip:')\n",
    "print(info[0].strip('(_|-)'))\n",
    "print('---------------')"
   ]
  },
  {
   "cell_type": "code",
   "execution_count": 83,
   "metadata": {},
   "outputs": [
    {
     "name": "stdout",
     "output_type": "stream",
     "text": [
      "2586\n",
      "2586\n",
      "2586\n",
      "2586\n",
      "not gene:0\n"
     ]
    }
   ],
   "source": [
    "gene_lst = []\n",
    "code_lst = []\n",
    "sample_code_lst = []\n",
    "file_name_lst = []\n",
    "date_lst = []\n",
    "path_lst = []\n",
    "not_gene = 0\n",
    "for i in files_seq:\n",
    "    date = re.search(r'(?<=bird_strike/)(\\d+)',i).groups()[0]\n",
    "    infoall = i.split('/')\n",
    "    file_name = os.path.basename(i)\n",
    "#     file_name = re.sub(r'(?<=[a-zA-Z])-?\\d.*\\b','',file_name)\n",
    "    try:\n",
    "        date_lst.append(date)\n",
    "        file_name_lst.append(file_name)\n",
    "        info = re.split(r'(COI-1|COI-2|L6615|H7956|cytb|L14995|H16065|BirdF1|BirdR1|Vercytb|L14841|H15149|ND2|L5219|H6313|cytB|COI|C1431|P905221|P905221|P2572|P905220|P2570|P905219|P905222)',file_name)\n",
    "        sample_code = info[0].strip('(_|-|\\.|-yumao|fangdang|zuojiyi)')\n",
    "        code = info[0].strip('(_|-|\\.)')\n",
    "#         name_lst.append(info[0].strip('(_|-)'))  \n",
    "        code = re.sub(r'(?<=[a-zA-Z])-?\\d.*\\b','',code)\n",
    "        code_lst.append(code)\n",
    "        sample_code_lst.append(sample_code)\n",
    "        if len(info)>1:\n",
    "            gene_lst.append(info[1])\n",
    "        else:\n",
    "            gene_lst.append('-')\n",
    "            not_gene += 1\n",
    "#              if len(info)>0:\n",
    "        path_lst.append(i)\n",
    "    except Exception as e:\n",
    "        print(file_name)\n",
    "        print(e)\n",
    "        raise(e)\n",
    "#         pass\n",
    "df_m = pd.DataFrame([date_lst,code_lst,gene_lst,file_name_lst,path_lst,sample_code_lst]).T\n",
    "print(len(gene_lst))\n",
    "print(len(file_name_lst))\n",
    "print(len(date_lst))\n",
    "print(len(path_lst))\n",
    "print('not gene:'+str(not_gene))"
   ]
  },
  {
   "cell_type": "code",
   "execution_count": 84,
   "metadata": {},
   "outputs": [
    {
     "data": {
      "text/html": [
       "<div>\n",
       "<style scoped>\n",
       "    .dataframe tbody tr th:only-of-type {\n",
       "        vertical-align: middle;\n",
       "    }\n",
       "\n",
       "    .dataframe tbody tr th {\n",
       "        vertical-align: top;\n",
       "    }\n",
       "\n",
       "    .dataframe thead th {\n",
       "        text-align: right;\n",
       "    }\n",
       "</style>\n",
       "<table border=\"1\" class=\"dataframe\">\n",
       "  <thead>\n",
       "    <tr style=\"text-align: right;\">\n",
       "      <th></th>\n",
       "      <th>date</th>\n",
       "      <th>code</th>\n",
       "      <th>gene_name</th>\n",
       "      <th>file_name</th>\n",
       "      <th>path</th>\n",
       "      <th>sample_code</th>\n",
       "    </tr>\n",
       "  </thead>\n",
       "  <tbody>\n",
       "    <tr>\n",
       "      <th>0</th>\n",
       "      <td>20200427</td>\n",
       "      <td>ZSHC</td>\n",
       "      <td>L14995</td>\n",
       "      <td>ZSHC-2020-07_L14995-H16065_C2291.L14995.PW0050...</td>\n",
       "      <td>bird_strike/20200427&amp;20200506潮汕机场2个萧山机场7个样品结果/...</td>\n",
       "      <td>ZSHC-2020-07</td>\n",
       "    </tr>\n",
       "    <tr>\n",
       "      <th>1</th>\n",
       "      <td>20200427</td>\n",
       "      <td>ZSHC</td>\n",
       "      <td>L14995</td>\n",
       "      <td>ZSHC-2020-04_L14995-H16065_C2291.L14995.PW0050...</td>\n",
       "      <td>bird_strike/20200427&amp;20200506潮汕机场2个萧山机场7个样品结果/...</td>\n",
       "      <td>ZSHC-2020-04</td>\n",
       "    </tr>\n",
       "    <tr>\n",
       "      <th>2</th>\n",
       "      <td>20200427</td>\n",
       "      <td>ZSHC</td>\n",
       "      <td>L14995</td>\n",
       "      <td>ZSHC-2020-02_L14995-H16065_C2291.L14995.PW0050...</td>\n",
       "      <td>bird_strike/20200427&amp;20200506潮汕机场2个萧山机场7个样品结果/...</td>\n",
       "      <td>ZSHC-2020-02</td>\n",
       "    </tr>\n",
       "    <tr>\n",
       "      <th>3</th>\n",
       "      <td>20200427</td>\n",
       "      <td>JYCS</td>\n",
       "      <td>L14995</td>\n",
       "      <td>JYCS2020-03_L14995-H16065_C2291.L14995.PW00509...</td>\n",
       "      <td>bird_strike/20200427&amp;20200506潮汕机场2个萧山机场7个样品结果/...</td>\n",
       "      <td>JYCS2020-03</td>\n",
       "    </tr>\n",
       "    <tr>\n",
       "      <th>4</th>\n",
       "      <td>20200427</td>\n",
       "      <td>ZSHC</td>\n",
       "      <td>L14995</td>\n",
       "      <td>ZSHC-2020-03_L14995-H16065_C2291.L14995.PW0050...</td>\n",
       "      <td>bird_strike/20200427&amp;20200506潮汕机场2个萧山机场7个样品结果/...</td>\n",
       "      <td>ZSHC-2020-03</td>\n",
       "    </tr>\n",
       "    <tr>\n",
       "      <th>...</th>\n",
       "      <td>...</td>\n",
       "      <td>...</td>\n",
       "      <td>...</td>\n",
       "      <td>...</td>\n",
       "      <td>...</td>\n",
       "      <td>...</td>\n",
       "    </tr>\n",
       "    <tr>\n",
       "      <th>2581</th>\n",
       "      <td>20200825</td>\n",
       "      <td>KN</td>\n",
       "      <td>L14995</td>\n",
       "      <td>KN2928_L14995-H16065_C2777.L14995.PW009022109.seq</td>\n",
       "      <td>bird_strike/20200825&amp;0826萧山机场4个&amp;北京大兴机场44个样品结果/...</td>\n",
       "      <td>KN2928</td>\n",
       "    </tr>\n",
       "    <tr>\n",
       "      <th>2582</th>\n",
       "      <td>20200825</td>\n",
       "      <td>MF</td>\n",
       "      <td>L14995</td>\n",
       "      <td>MF8169_L14995-H16065_C2777.L14995.PW009022080.seq</td>\n",
       "      <td>bird_strike/20200825&amp;0826萧山机场4个&amp;北京大兴机场44个样品结果/...</td>\n",
       "      <td>MF8169</td>\n",
       "    </tr>\n",
       "    <tr>\n",
       "      <th>2583</th>\n",
       "      <td>20200825</td>\n",
       "      <td>CZ</td>\n",
       "      <td>L14995</td>\n",
       "      <td>CZ6715_L14995-H16065_C2777.L14995.PW009022092.seq</td>\n",
       "      <td>bird_strike/20200825&amp;0826萧山机场4个&amp;北京大兴机场44个样品结果/...</td>\n",
       "      <td>CZ6715</td>\n",
       "    </tr>\n",
       "    <tr>\n",
       "      <th>2584</th>\n",
       "      <td>20200413</td>\n",
       "      <td>JYCS</td>\n",
       "      <td>L14995</td>\n",
       "      <td>JYCS2020-01_L14995-H16065_C2243.L14995.PW00417...</td>\n",
       "      <td>bird_strike/20200413潮汕机场1个样品结果/测序结果/cytb/JYCS2...</td>\n",
       "      <td>JYCS2020-01</td>\n",
       "    </tr>\n",
       "    <tr>\n",
       "      <th>2585</th>\n",
       "      <td>20200413</td>\n",
       "      <td>JYCS</td>\n",
       "      <td>COI-1</td>\n",
       "      <td>JYCS2020-01_COI-1_C2243.COI-1-bird-F.PW0041701...</td>\n",
       "      <td>bird_strike/20200413潮汕机场1个样品结果/测序结果/COI/JYCS20...</td>\n",
       "      <td>JYCS2020-01</td>\n",
       "    </tr>\n",
       "  </tbody>\n",
       "</table>\n",
       "<p>2586 rows × 6 columns</p>\n",
       "</div>"
      ],
      "text/plain": [
       "          date  code gene_name  \\\n",
       "0     20200427  ZSHC    L14995   \n",
       "1     20200427  ZSHC    L14995   \n",
       "2     20200427  ZSHC    L14995   \n",
       "3     20200427  JYCS    L14995   \n",
       "4     20200427  ZSHC    L14995   \n",
       "...        ...   ...       ...   \n",
       "2581  20200825    KN    L14995   \n",
       "2582  20200825    MF    L14995   \n",
       "2583  20200825    CZ    L14995   \n",
       "2584  20200413  JYCS    L14995   \n",
       "2585  20200413  JYCS     COI-1   \n",
       "\n",
       "                                              file_name  \\\n",
       "0     ZSHC-2020-07_L14995-H16065_C2291.L14995.PW0050...   \n",
       "1     ZSHC-2020-04_L14995-H16065_C2291.L14995.PW0050...   \n",
       "2     ZSHC-2020-02_L14995-H16065_C2291.L14995.PW0050...   \n",
       "3     JYCS2020-03_L14995-H16065_C2291.L14995.PW00509...   \n",
       "4     ZSHC-2020-03_L14995-H16065_C2291.L14995.PW0050...   \n",
       "...                                                 ...   \n",
       "2581  KN2928_L14995-H16065_C2777.L14995.PW009022109.seq   \n",
       "2582  MF8169_L14995-H16065_C2777.L14995.PW009022080.seq   \n",
       "2583  CZ6715_L14995-H16065_C2777.L14995.PW009022092.seq   \n",
       "2584  JYCS2020-01_L14995-H16065_C2243.L14995.PW00417...   \n",
       "2585  JYCS2020-01_COI-1_C2243.COI-1-bird-F.PW0041701...   \n",
       "\n",
       "                                                   path   sample_code  \n",
       "0     bird_strike/20200427&20200506潮汕机场2个萧山机场7个样品结果/...  ZSHC-2020-07  \n",
       "1     bird_strike/20200427&20200506潮汕机场2个萧山机场7个样品结果/...  ZSHC-2020-04  \n",
       "2     bird_strike/20200427&20200506潮汕机场2个萧山机场7个样品结果/...  ZSHC-2020-02  \n",
       "3     bird_strike/20200427&20200506潮汕机场2个萧山机场7个样品结果/...   JYCS2020-03  \n",
       "4     bird_strike/20200427&20200506潮汕机场2个萧山机场7个样品结果/...  ZSHC-2020-03  \n",
       "...                                                 ...           ...  \n",
       "2581  bird_strike/20200825&0826萧山机场4个&北京大兴机场44个样品结果/...        KN2928  \n",
       "2582  bird_strike/20200825&0826萧山机场4个&北京大兴机场44个样品结果/...        MF8169  \n",
       "2583  bird_strike/20200825&0826萧山机场4个&北京大兴机场44个样品结果/...        CZ6715  \n",
       "2584  bird_strike/20200413潮汕机场1个样品结果/测序结果/cytb/JYCS2...   JYCS2020-01  \n",
       "2585  bird_strike/20200413潮汕机场1个样品结果/测序结果/COI/JYCS20...   JYCS2020-01  \n",
       "\n",
       "[2586 rows x 6 columns]"
      ]
     },
     "execution_count": 84,
     "metadata": {},
     "output_type": "execute_result"
    }
   ],
   "source": [
    "df_m.columns = ['date','code','gene_name','file_name','path','sample_code']\n",
    "df_m"
   ]
  },
  {
   "cell_type": "code",
   "execution_count": 85,
   "metadata": {},
   "outputs": [],
   "source": [
    "# df_m.iloc[:,[0,1,2,3]].replace('L14995','cytb',inplace=True) \n",
    "df_m.replace({'gene_name':'L14995'},'cytb',inplace=True)"
   ]
  },
  {
   "cell_type": "code",
   "execution_count": 86,
   "metadata": {},
   "outputs": [
    {
     "data": {
      "text/html": [
       "<div>\n",
       "<style scoped>\n",
       "    .dataframe tbody tr th:only-of-type {\n",
       "        vertical-align: middle;\n",
       "    }\n",
       "\n",
       "    .dataframe tbody tr th {\n",
       "        vertical-align: top;\n",
       "    }\n",
       "\n",
       "    .dataframe thead th {\n",
       "        text-align: right;\n",
       "    }\n",
       "</style>\n",
       "<table border=\"1\" class=\"dataframe\">\n",
       "  <thead>\n",
       "    <tr style=\"text-align: right;\">\n",
       "      <th></th>\n",
       "      <th>date</th>\n",
       "      <th>code</th>\n",
       "      <th>gene_name</th>\n",
       "      <th>file_name</th>\n",
       "      <th>path</th>\n",
       "      <th>sample_code</th>\n",
       "    </tr>\n",
       "  </thead>\n",
       "  <tbody>\n",
       "    <tr>\n",
       "      <th>0</th>\n",
       "      <td>20200427</td>\n",
       "      <td>ZSHC</td>\n",
       "      <td>cytb</td>\n",
       "      <td>ZSHC-2020-07_L14995-H16065_C2291.L14995.PW0050...</td>\n",
       "      <td>bird_strike/20200427&amp;20200506潮汕机场2个萧山机场7个样品结果/...</td>\n",
       "      <td>ZSHC-2020-07</td>\n",
       "    </tr>\n",
       "    <tr>\n",
       "      <th>1</th>\n",
       "      <td>20200427</td>\n",
       "      <td>ZSHC</td>\n",
       "      <td>cytb</td>\n",
       "      <td>ZSHC-2020-04_L14995-H16065_C2291.L14995.PW0050...</td>\n",
       "      <td>bird_strike/20200427&amp;20200506潮汕机场2个萧山机场7个样品结果/...</td>\n",
       "      <td>ZSHC-2020-04</td>\n",
       "    </tr>\n",
       "    <tr>\n",
       "      <th>2</th>\n",
       "      <td>20200427</td>\n",
       "      <td>ZSHC</td>\n",
       "      <td>cytb</td>\n",
       "      <td>ZSHC-2020-02_L14995-H16065_C2291.L14995.PW0050...</td>\n",
       "      <td>bird_strike/20200427&amp;20200506潮汕机场2个萧山机场7个样品结果/...</td>\n",
       "      <td>ZSHC-2020-02</td>\n",
       "    </tr>\n",
       "  </tbody>\n",
       "</table>\n",
       "</div>"
      ],
      "text/plain": [
       "       date  code gene_name  \\\n",
       "0  20200427  ZSHC      cytb   \n",
       "1  20200427  ZSHC      cytb   \n",
       "2  20200427  ZSHC      cytb   \n",
       "\n",
       "                                           file_name  \\\n",
       "0  ZSHC-2020-07_L14995-H16065_C2291.L14995.PW0050...   \n",
       "1  ZSHC-2020-04_L14995-H16065_C2291.L14995.PW0050...   \n",
       "2  ZSHC-2020-02_L14995-H16065_C2291.L14995.PW0050...   \n",
       "\n",
       "                                                path   sample_code  \n",
       "0  bird_strike/20200427&20200506潮汕机场2个萧山机场7个样品结果/...  ZSHC-2020-07  \n",
       "1  bird_strike/20200427&20200506潮汕机场2个萧山机场7个样品结果/...  ZSHC-2020-04  \n",
       "2  bird_strike/20200427&20200506潮汕机场2个萧山机场7个样品结果/...  ZSHC-2020-02  "
      ]
     },
     "execution_count": 86,
     "metadata": {},
     "output_type": "execute_result"
    }
   ],
   "source": [
    "df_m.iloc[[0,1,2],]"
   ]
  },
  {
   "cell_type": "code",
   "execution_count": 87,
   "metadata": {},
   "outputs": [
    {
     "data": {
      "text/html": [
       "<div>\n",
       "<style scoped>\n",
       "    .dataframe tbody tr th:only-of-type {\n",
       "        vertical-align: middle;\n",
       "    }\n",
       "\n",
       "    .dataframe tbody tr th {\n",
       "        vertical-align: top;\n",
       "    }\n",
       "\n",
       "    .dataframe thead th {\n",
       "        text-align: right;\n",
       "    }\n",
       "</style>\n",
       "<table border=\"1\" class=\"dataframe\">\n",
       "  <thead>\n",
       "    <tr style=\"text-align: right;\">\n",
       "      <th></th>\n",
       "      <th>date</th>\n",
       "      <th>code</th>\n",
       "      <th>gene_name</th>\n",
       "      <th>file_name</th>\n",
       "      <th>path</th>\n",
       "      <th>sample_code</th>\n",
       "    </tr>\n",
       "  </thead>\n",
       "  <tbody>\n",
       "    <tr>\n",
       "      <th>0</th>\n",
       "      <td>20200427</td>\n",
       "      <td>ZSHC</td>\n",
       "      <td>cytb</td>\n",
       "      <td>ZSHC-2020-07_L14995-H16065_C2291.L14995.PW0050...</td>\n",
       "      <td>bird_strike/20200427&amp;20200506潮汕机场2个萧山机场7个样品结果/...</td>\n",
       "      <td>ZSHC-2020-07</td>\n",
       "    </tr>\n",
       "    <tr>\n",
       "      <th>1</th>\n",
       "      <td>20200427</td>\n",
       "      <td>ZSHC</td>\n",
       "      <td>cytb</td>\n",
       "      <td>ZSHC-2020-04_L14995-H16065_C2291.L14995.PW0050...</td>\n",
       "      <td>bird_strike/20200427&amp;20200506潮汕机场2个萧山机场7个样品结果/...</td>\n",
       "      <td>ZSHC-2020-04</td>\n",
       "    </tr>\n",
       "    <tr>\n",
       "      <th>2</th>\n",
       "      <td>20200427</td>\n",
       "      <td>ZSHC</td>\n",
       "      <td>cytb</td>\n",
       "      <td>ZSHC-2020-02_L14995-H16065_C2291.L14995.PW0050...</td>\n",
       "      <td>bird_strike/20200427&amp;20200506潮汕机场2个萧山机场7个样品结果/...</td>\n",
       "      <td>ZSHC-2020-02</td>\n",
       "    </tr>\n",
       "  </tbody>\n",
       "</table>\n",
       "</div>"
      ],
      "text/plain": [
       "       date  code gene_name  \\\n",
       "0  20200427  ZSHC      cytb   \n",
       "1  20200427  ZSHC      cytb   \n",
       "2  20200427  ZSHC      cytb   \n",
       "\n",
       "                                           file_name  \\\n",
       "0  ZSHC-2020-07_L14995-H16065_C2291.L14995.PW0050...   \n",
       "1  ZSHC-2020-04_L14995-H16065_C2291.L14995.PW0050...   \n",
       "2  ZSHC-2020-02_L14995-H16065_C2291.L14995.PW0050...   \n",
       "\n",
       "                                                path   sample_code  \n",
       "0  bird_strike/20200427&20200506潮汕机场2个萧山机场7个样品结果/...  ZSHC-2020-07  \n",
       "1  bird_strike/20200427&20200506潮汕机场2个萧山机场7个样品结果/...  ZSHC-2020-04  \n",
       "2  bird_strike/20200427&20200506潮汕机场2个萧山机场7个样品结果/...  ZSHC-2020-02  "
      ]
     },
     "execution_count": 87,
     "metadata": {},
     "output_type": "execute_result"
    }
   ],
   "source": [
    "df_m.iloc[[0,1,2],]"
   ]
  },
  {
   "cell_type": "code",
   "execution_count": 88,
   "metadata": {},
   "outputs": [],
   "source": [
    "length_df = len(df_m['path'])\n",
    "\n",
    "df_m['random_num'] = [str(random.randint(10000, 99999)) for i in range(length_df) ]"
   ]
  },
  {
   "cell_type": "code",
   "execution_count": 89,
   "metadata": {},
   "outputs": [],
   "source": [
    "df_m['data_num'] = df_m['code'] + df_m['gene_name']+df_m['date']+ df_m['random_num']"
   ]
  },
  {
   "cell_type": "code",
   "execution_count": null,
   "metadata": {},
   "outputs": [],
   "source": []
  },
  {
   "cell_type": "code",
   "execution_count": 90,
   "metadata": {},
   "outputs": [],
   "source": [
    "df_m.to_csv('airport.csv',encoding='utf_8_sig')"
   ]
  },
  {
   "cell_type": "code",
   "execution_count": 91,
   "metadata": {},
   "outputs": [
    {
     "data": {
      "text/plain": [
       "0        True\n",
       "1        True\n",
       "2        True\n",
       "3        True\n",
       "4        True\n",
       "        ...  \n",
       "2581     True\n",
       "2582     True\n",
       "2583     True\n",
       "2584    False\n",
       "2585    False\n",
       "Name: path, Length: 2586, dtype: bool"
      ]
     },
     "execution_count": 91,
     "metadata": {},
     "output_type": "execute_result"
    }
   ],
   "source": [
    "df_m.iloc[:,4].str.contains('&')"
   ]
  },
  {
   "cell_type": "code",
   "execution_count": 92,
   "metadata": {},
   "outputs": [
    {
     "data": {
      "text/plain": [
       "0       False\n",
       "1       False\n",
       "2       False\n",
       "3       False\n",
       "4       False\n",
       "        ...  \n",
       "2581    False\n",
       "2582    False\n",
       "2583    False\n",
       "2584     True\n",
       "2585     True\n",
       "Name: path, Length: 2586, dtype: bool"
      ]
     },
     "execution_count": 92,
     "metadata": {},
     "output_type": "execute_result"
    }
   ],
   "source": [
    "~df_m.iloc[:,4].str.contains('&')"
   ]
  },
  {
   "cell_type": "code",
   "execution_count": 93,
   "metadata": {},
   "outputs": [
    {
     "data": {
      "text/plain": [
       "12      bird_strike/20210428北京大兴机场1个检测结果/测序结果/COI-1/ZB...\n",
       "13      bird_strike/20210428北京大兴机场1个检测结果/测序结果/COI-1/ZB...\n",
       "14      bird_strike/20210428北京大兴机场1个检测结果/测序结果/ND2/ZBAD...\n",
       "15      bird_strike/20210428北京大兴机场1个检测结果/测序结果/ND2/ZBAD...\n",
       "16      bird_strike/20210428北京大兴机场1个检测结果/测序结果/Cytb/ZBA...\n",
       "                              ...                        \n",
       "2510    bird_strike/20200612萧山机场1个加急样品结果/测序结果/ND2/ZSHC...\n",
       "2511    bird_strike/20200612萧山机场1个加急样品结果/测序结果/COI-2/ZS...\n",
       "2512    bird_strike/20200612萧山机场1个加急样品结果/测序结果/COI-2/ZS...\n",
       "2584    bird_strike/20200413潮汕机场1个样品结果/测序结果/cytb/JYCS2...\n",
       "2585    bird_strike/20200413潮汕机场1个样品结果/测序结果/COI/JYCS20...\n",
       "Name: path, Length: 1777, dtype: object"
      ]
     },
     "execution_count": 93,
     "metadata": {},
     "output_type": "execute_result"
    }
   ],
   "source": [
    "df_m[~df_m.iloc[:,4].str.contains('&')].iloc[:,4]"
   ]
  },
  {
   "cell_type": "code",
   "execution_count": 94,
   "metadata": {},
   "outputs": [],
   "source": [
    "single_df = df_m[~df_m.iloc[:,4].str.contains('&')]"
   ]
  },
  {
   "cell_type": "code",
   "execution_count": 95,
   "metadata": {},
   "outputs": [],
   "source": [
    "single_df.to_csv('single_df.csv',encoding='utf_8_sig')"
   ]
  },
  {
   "cell_type": "code",
   "execution_count": null,
   "metadata": {},
   "outputs": [],
   "source": []
  },
  {
   "cell_type": "code",
   "execution_count": 96,
   "metadata": {},
   "outputs": [
    {
     "data": {
      "text/plain": [
       "'20200305北京大兴机场12个样品结果'"
      ]
     },
     "execution_count": 96,
     "metadata": {},
     "output_type": "execute_result"
    }
   ],
   "source": [
    "s = '20200305北京大兴机场12个样品结果/测序结果/Cytb/ZBAD2020-09_L14995-H16065_C2175.L14995.PW003110010.seq'\n",
    "s.split('/')[0]"
   ]
  },
  {
   "cell_type": "code",
   "execution_count": null,
   "metadata": {},
   "outputs": [],
   "source": []
  },
  {
   "cell_type": "code",
   "execution_count": 97,
   "metadata": {},
   "outputs": [
    {
     "data": {
      "text/plain": [
       "'8329'"
      ]
     },
     "execution_count": 97,
     "metadata": {},
     "output_type": "execute_result"
    }
   ],
   "source": [
    "randnum = str(random.randint(1000, 9999))\n",
    "randnum            \n"
   ]
  },
  {
   "cell_type": "code",
   "execution_count": 98,
   "metadata": {},
   "outputs": [
    {
     "data": {
      "text/html": [
       "<div>\n",
       "<style scoped>\n",
       "    .dataframe tbody tr th:only-of-type {\n",
       "        vertical-align: middle;\n",
       "    }\n",
       "\n",
       "    .dataframe tbody tr th {\n",
       "        vertical-align: top;\n",
       "    }\n",
       "\n",
       "    .dataframe thead th {\n",
       "        text-align: right;\n",
       "    }\n",
       "</style>\n",
       "<table border=\"1\" class=\"dataframe\">\n",
       "  <thead>\n",
       "    <tr style=\"text-align: right;\">\n",
       "      <th></th>\n",
       "      <th>date</th>\n",
       "      <th>code</th>\n",
       "      <th>gene_name</th>\n",
       "      <th>file_name</th>\n",
       "      <th>path</th>\n",
       "      <th>sample_code</th>\n",
       "      <th>random_num</th>\n",
       "      <th>data_num</th>\n",
       "    </tr>\n",
       "  </thead>\n",
       "  <tbody>\n",
       "    <tr>\n",
       "      <th>0</th>\n",
       "      <td>20200427</td>\n",
       "      <td>ZSHC</td>\n",
       "      <td>cytb</td>\n",
       "      <td>ZSHC-2020-07_L14995-H16065_C2291.L14995.PW0050...</td>\n",
       "      <td>bird_strike/20200427&amp;20200506潮汕机场2个萧山机场7个样品结果/...</td>\n",
       "      <td>ZSHC-2020-07</td>\n",
       "      <td>40749</td>\n",
       "      <td>ZSHCcytb2020042740749</td>\n",
       "    </tr>\n",
       "    <tr>\n",
       "      <th>1</th>\n",
       "      <td>20200427</td>\n",
       "      <td>ZSHC</td>\n",
       "      <td>cytb</td>\n",
       "      <td>ZSHC-2020-04_L14995-H16065_C2291.L14995.PW0050...</td>\n",
       "      <td>bird_strike/20200427&amp;20200506潮汕机场2个萧山机场7个样品结果/...</td>\n",
       "      <td>ZSHC-2020-04</td>\n",
       "      <td>26039</td>\n",
       "      <td>ZSHCcytb2020042726039</td>\n",
       "    </tr>\n",
       "    <tr>\n",
       "      <th>2</th>\n",
       "      <td>20200427</td>\n",
       "      <td>ZSHC</td>\n",
       "      <td>cytb</td>\n",
       "      <td>ZSHC-2020-02_L14995-H16065_C2291.L14995.PW0050...</td>\n",
       "      <td>bird_strike/20200427&amp;20200506潮汕机场2个萧山机场7个样品结果/...</td>\n",
       "      <td>ZSHC-2020-02</td>\n",
       "      <td>37879</td>\n",
       "      <td>ZSHCcytb2020042737879</td>\n",
       "    </tr>\n",
       "    <tr>\n",
       "      <th>3</th>\n",
       "      <td>20200427</td>\n",
       "      <td>JYCS</td>\n",
       "      <td>cytb</td>\n",
       "      <td>JYCS2020-03_L14995-H16065_C2291.L14995.PW00509...</td>\n",
       "      <td>bird_strike/20200427&amp;20200506潮汕机场2个萧山机场7个样品结果/...</td>\n",
       "      <td>JYCS2020-03</td>\n",
       "      <td>76260</td>\n",
       "      <td>JYCScytb2020042776260</td>\n",
       "    </tr>\n",
       "    <tr>\n",
       "      <th>4</th>\n",
       "      <td>20200427</td>\n",
       "      <td>ZSHC</td>\n",
       "      <td>cytb</td>\n",
       "      <td>ZSHC-2020-03_L14995-H16065_C2291.L14995.PW0050...</td>\n",
       "      <td>bird_strike/20200427&amp;20200506潮汕机场2个萧山机场7个样品结果/...</td>\n",
       "      <td>ZSHC-2020-03</td>\n",
       "      <td>84663</td>\n",
       "      <td>ZSHCcytb2020042784663</td>\n",
       "    </tr>\n",
       "    <tr>\n",
       "      <th>...</th>\n",
       "      <td>...</td>\n",
       "      <td>...</td>\n",
       "      <td>...</td>\n",
       "      <td>...</td>\n",
       "      <td>...</td>\n",
       "      <td>...</td>\n",
       "      <td>...</td>\n",
       "      <td>...</td>\n",
       "    </tr>\n",
       "    <tr>\n",
       "      <th>2581</th>\n",
       "      <td>20200825</td>\n",
       "      <td>KN</td>\n",
       "      <td>cytb</td>\n",
       "      <td>KN2928_L14995-H16065_C2777.L14995.PW009022109.seq</td>\n",
       "      <td>bird_strike/20200825&amp;0826萧山机场4个&amp;北京大兴机场44个样品结果/...</td>\n",
       "      <td>KN2928</td>\n",
       "      <td>12815</td>\n",
       "      <td>KNcytb2020082512815</td>\n",
       "    </tr>\n",
       "    <tr>\n",
       "      <th>2582</th>\n",
       "      <td>20200825</td>\n",
       "      <td>MF</td>\n",
       "      <td>cytb</td>\n",
       "      <td>MF8169_L14995-H16065_C2777.L14995.PW009022080.seq</td>\n",
       "      <td>bird_strike/20200825&amp;0826萧山机场4个&amp;北京大兴机场44个样品结果/...</td>\n",
       "      <td>MF8169</td>\n",
       "      <td>21483</td>\n",
       "      <td>MFcytb2020082521483</td>\n",
       "    </tr>\n",
       "    <tr>\n",
       "      <th>2583</th>\n",
       "      <td>20200825</td>\n",
       "      <td>CZ</td>\n",
       "      <td>cytb</td>\n",
       "      <td>CZ6715_L14995-H16065_C2777.L14995.PW009022092.seq</td>\n",
       "      <td>bird_strike/20200825&amp;0826萧山机场4个&amp;北京大兴机场44个样品结果/...</td>\n",
       "      <td>CZ6715</td>\n",
       "      <td>92233</td>\n",
       "      <td>CZcytb2020082592233</td>\n",
       "    </tr>\n",
       "    <tr>\n",
       "      <th>2584</th>\n",
       "      <td>20200413</td>\n",
       "      <td>JYCS</td>\n",
       "      <td>cytb</td>\n",
       "      <td>JYCS2020-01_L14995-H16065_C2243.L14995.PW00417...</td>\n",
       "      <td>bird_strike/20200413潮汕机场1个样品结果/测序结果/cytb/JYCS2...</td>\n",
       "      <td>JYCS2020-01</td>\n",
       "      <td>56870</td>\n",
       "      <td>JYCScytb2020041356870</td>\n",
       "    </tr>\n",
       "    <tr>\n",
       "      <th>2585</th>\n",
       "      <td>20200413</td>\n",
       "      <td>JYCS</td>\n",
       "      <td>COI-1</td>\n",
       "      <td>JYCS2020-01_COI-1_C2243.COI-1-bird-F.PW0041701...</td>\n",
       "      <td>bird_strike/20200413潮汕机场1个样品结果/测序结果/COI/JYCS20...</td>\n",
       "      <td>JYCS2020-01</td>\n",
       "      <td>78042</td>\n",
       "      <td>JYCSCOI-12020041378042</td>\n",
       "    </tr>\n",
       "  </tbody>\n",
       "</table>\n",
       "<p>2586 rows × 8 columns</p>\n",
       "</div>"
      ],
      "text/plain": [
       "          date  code gene_name  \\\n",
       "0     20200427  ZSHC      cytb   \n",
       "1     20200427  ZSHC      cytb   \n",
       "2     20200427  ZSHC      cytb   \n",
       "3     20200427  JYCS      cytb   \n",
       "4     20200427  ZSHC      cytb   \n",
       "...        ...   ...       ...   \n",
       "2581  20200825    KN      cytb   \n",
       "2582  20200825    MF      cytb   \n",
       "2583  20200825    CZ      cytb   \n",
       "2584  20200413  JYCS      cytb   \n",
       "2585  20200413  JYCS     COI-1   \n",
       "\n",
       "                                              file_name  \\\n",
       "0     ZSHC-2020-07_L14995-H16065_C2291.L14995.PW0050...   \n",
       "1     ZSHC-2020-04_L14995-H16065_C2291.L14995.PW0050...   \n",
       "2     ZSHC-2020-02_L14995-H16065_C2291.L14995.PW0050...   \n",
       "3     JYCS2020-03_L14995-H16065_C2291.L14995.PW00509...   \n",
       "4     ZSHC-2020-03_L14995-H16065_C2291.L14995.PW0050...   \n",
       "...                                                 ...   \n",
       "2581  KN2928_L14995-H16065_C2777.L14995.PW009022109.seq   \n",
       "2582  MF8169_L14995-H16065_C2777.L14995.PW009022080.seq   \n",
       "2583  CZ6715_L14995-H16065_C2777.L14995.PW009022092.seq   \n",
       "2584  JYCS2020-01_L14995-H16065_C2243.L14995.PW00417...   \n",
       "2585  JYCS2020-01_COI-1_C2243.COI-1-bird-F.PW0041701...   \n",
       "\n",
       "                                                   path   sample_code  \\\n",
       "0     bird_strike/20200427&20200506潮汕机场2个萧山机场7个样品结果/...  ZSHC-2020-07   \n",
       "1     bird_strike/20200427&20200506潮汕机场2个萧山机场7个样品结果/...  ZSHC-2020-04   \n",
       "2     bird_strike/20200427&20200506潮汕机场2个萧山机场7个样品结果/...  ZSHC-2020-02   \n",
       "3     bird_strike/20200427&20200506潮汕机场2个萧山机场7个样品结果/...   JYCS2020-03   \n",
       "4     bird_strike/20200427&20200506潮汕机场2个萧山机场7个样品结果/...  ZSHC-2020-03   \n",
       "...                                                 ...           ...   \n",
       "2581  bird_strike/20200825&0826萧山机场4个&北京大兴机场44个样品结果/...        KN2928   \n",
       "2582  bird_strike/20200825&0826萧山机场4个&北京大兴机场44个样品结果/...        MF8169   \n",
       "2583  bird_strike/20200825&0826萧山机场4个&北京大兴机场44个样品结果/...        CZ6715   \n",
       "2584  bird_strike/20200413潮汕机场1个样品结果/测序结果/cytb/JYCS2...   JYCS2020-01   \n",
       "2585  bird_strike/20200413潮汕机场1个样品结果/测序结果/COI/JYCS20...   JYCS2020-01   \n",
       "\n",
       "     random_num                data_num  \n",
       "0         40749   ZSHCcytb2020042740749  \n",
       "1         26039   ZSHCcytb2020042726039  \n",
       "2         37879   ZSHCcytb2020042737879  \n",
       "3         76260   JYCScytb2020042776260  \n",
       "4         84663   ZSHCcytb2020042784663  \n",
       "...         ...                     ...  \n",
       "2581      12815     KNcytb2020082512815  \n",
       "2582      21483     MFcytb2020082521483  \n",
       "2583      92233     CZcytb2020082592233  \n",
       "2584      56870   JYCScytb2020041356870  \n",
       "2585      78042  JYCSCOI-12020041378042  \n",
       "\n",
       "[2586 rows x 8 columns]"
      ]
     },
     "execution_count": 98,
     "metadata": {},
     "output_type": "execute_result"
    }
   ],
   "source": [
    "df_m"
   ]
  },
  {
   "cell_type": "code",
   "execution_count": 99,
   "metadata": {},
   "outputs": [
    {
     "data": {
      "text/plain": [
       "0       ZSHC-2020-07_L14995-H16065_C2291.L14995.PW0050...\n",
       "1       ZSHC-2020-04_L14995-H16065_C2291.L14995.PW0050...\n",
       "2       ZSHC-2020-02_L14995-H16065_C2291.L14995.PW0050...\n",
       "3       JYCS2020-03_L14995-H16065_C2291.L14995.PW00509...\n",
       "4       ZSHC-2020-03_L14995-H16065_C2291.L14995.PW0050...\n",
       "                              ...                        \n",
       "2581    KN2928_L14995-H16065_C2777.L14995.PW009022109.seq\n",
       "2582    MF8169_L14995-H16065_C2777.L14995.PW009022080.seq\n",
       "2583    CZ6715_L14995-H16065_C2777.L14995.PW009022092.seq\n",
       "2584    JYCS2020-01_L14995-H16065_C2243.L14995.PW00417...\n",
       "2585    JYCS2020-01_COI-1_C2243.COI-1-bird-F.PW0041701...\n",
       "Name: file_name, Length: 2586, dtype: object"
      ]
     },
     "execution_count": 99,
     "metadata": {},
     "output_type": "execute_result"
    }
   ],
   "source": [
    "df_m['file_name']"
   ]
  },
  {
   "cell_type": "code",
   "execution_count": null,
   "metadata": {},
   "outputs": [],
   "source": []
  },
  {
   "cell_type": "code",
   "execution_count": 100,
   "metadata": {},
   "outputs": [
    {
     "data": {
      "text/plain": [
       "'ZBAD2021-jiaji1'"
      ]
     },
     "execution_count": 100,
     "metadata": {},
     "output_type": "execute_result"
    }
   ],
   "source": [
    "s  = 'ZBAD2021-jiaji1'\n",
    "s.strip('\\d.*?')"
   ]
  },
  {
   "cell_type": "code",
   "execution_count": 101,
   "metadata": {},
   "outputs": [
    {
     "data": {
      "text/plain": [
       "'ZBAD'"
      ]
     },
     "execution_count": 101,
     "metadata": {},
     "output_type": "execute_result"
    }
   ],
   "source": [
    "re.sub(r'\\d.*\\b','',s)"
   ]
  },
  {
   "cell_type": "code",
   "execution_count": 102,
   "metadata": {},
   "outputs": [
    {
     "data": {
      "text/plain": [
       "'ZBAD'"
      ]
     },
     "execution_count": 102,
     "metadata": {},
     "output_type": "execute_result"
    }
   ],
   "source": [
    "# s = '92'\n",
    "s  = 'ZBAD-2021-jiaji1'\n",
    "re.sub(r'(?<=[a-zA-Z])-?\\d.*\\b','',s)"
   ]
  },
  {
   "cell_type": "code",
   "execution_count": 103,
   "metadata": {},
   "outputs": [
    {
     "data": {
      "text/plain": [
       "''"
      ]
     },
     "execution_count": 103,
     "metadata": {},
     "output_type": "execute_result"
    }
   ],
   "source": [
    "s = '92'\n",
    "# s  = 'ZBAD2021-jiaji1'\n",
    "re.sub(r'\\w+','',s)"
   ]
  },
  {
   "cell_type": "code",
   "execution_count": 104,
   "metadata": {},
   "outputs": [
    {
     "data": {
      "text/plain": [
       "'ZSHC'"
      ]
     },
     "execution_count": 104,
     "metadata": {},
     "output_type": "execute_result"
    }
   ],
   "source": [
    "s = 'ZSHC-2019-87_L'\n",
    "re.sub(r'(?<=[a-zA-Z])-\\d.*\\b','',s)"
   ]
  },
  {
   "cell_type": "code",
   "execution_count": null,
   "metadata": {},
   "outputs": [],
   "source": []
  },
  {
   "cell_type": "code",
   "execution_count": 105,
   "metadata": {},
   "outputs": [],
   "source": [
    "#测试or的逻辑来合并的 ，地址 https://stackoverflow.com/questions/43925603/python-pandas-merge-with-or-logic\n",
    "df = pd.DataFrame([[1, 2], [3, 4], [5, 6],[7,8]], columns=[\"A\", \"B\"])\n",
    "df2 = pd.DataFrame([[1, 7], [2, 8], [4, 9],[11,12]], columns=[\"C\", \"D\"])"
   ]
  },
  {
   "cell_type": "code",
   "execution_count": 106,
   "metadata": {},
   "outputs": [
    {
     "data": {
      "text/html": [
       "<div>\n",
       "<style scoped>\n",
       "    .dataframe tbody tr th:only-of-type {\n",
       "        vertical-align: middle;\n",
       "    }\n",
       "\n",
       "    .dataframe tbody tr th {\n",
       "        vertical-align: top;\n",
       "    }\n",
       "\n",
       "    .dataframe thead th {\n",
       "        text-align: right;\n",
       "    }\n",
       "</style>\n",
       "<table border=\"1\" class=\"dataframe\">\n",
       "  <thead>\n",
       "    <tr style=\"text-align: right;\">\n",
       "      <th></th>\n",
       "      <th>A</th>\n",
       "      <th>B</th>\n",
       "    </tr>\n",
       "  </thead>\n",
       "  <tbody>\n",
       "    <tr>\n",
       "      <th>0</th>\n",
       "      <td>1</td>\n",
       "      <td>2</td>\n",
       "    </tr>\n",
       "    <tr>\n",
       "      <th>1</th>\n",
       "      <td>3</td>\n",
       "      <td>4</td>\n",
       "    </tr>\n",
       "    <tr>\n",
       "      <th>2</th>\n",
       "      <td>5</td>\n",
       "      <td>6</td>\n",
       "    </tr>\n",
       "    <tr>\n",
       "      <th>3</th>\n",
       "      <td>7</td>\n",
       "      <td>8</td>\n",
       "    </tr>\n",
       "  </tbody>\n",
       "</table>\n",
       "</div>"
      ],
      "text/plain": [
       "   A  B\n",
       "0  1  2\n",
       "1  3  4\n",
       "2  5  6\n",
       "3  7  8"
      ]
     },
     "execution_count": 106,
     "metadata": {},
     "output_type": "execute_result"
    }
   ],
   "source": [
    "df"
   ]
  },
  {
   "cell_type": "code",
   "execution_count": 107,
   "metadata": {},
   "outputs": [
    {
     "data": {
      "text/html": [
       "<div>\n",
       "<style scoped>\n",
       "    .dataframe tbody tr th:only-of-type {\n",
       "        vertical-align: middle;\n",
       "    }\n",
       "\n",
       "    .dataframe tbody tr th {\n",
       "        vertical-align: top;\n",
       "    }\n",
       "\n",
       "    .dataframe thead th {\n",
       "        text-align: right;\n",
       "    }\n",
       "</style>\n",
       "<table border=\"1\" class=\"dataframe\">\n",
       "  <thead>\n",
       "    <tr style=\"text-align: right;\">\n",
       "      <th></th>\n",
       "      <th>C</th>\n",
       "      <th>D</th>\n",
       "    </tr>\n",
       "  </thead>\n",
       "  <tbody>\n",
       "    <tr>\n",
       "      <th>0</th>\n",
       "      <td>1</td>\n",
       "      <td>7</td>\n",
       "    </tr>\n",
       "    <tr>\n",
       "      <th>1</th>\n",
       "      <td>2</td>\n",
       "      <td>8</td>\n",
       "    </tr>\n",
       "    <tr>\n",
       "      <th>2</th>\n",
       "      <td>4</td>\n",
       "      <td>9</td>\n",
       "    </tr>\n",
       "    <tr>\n",
       "      <th>3</th>\n",
       "      <td>11</td>\n",
       "      <td>12</td>\n",
       "    </tr>\n",
       "  </tbody>\n",
       "</table>\n",
       "</div>"
      ],
      "text/plain": [
       "    C   D\n",
       "0   1   7\n",
       "1   2   8\n",
       "2   4   9\n",
       "3  11  12"
      ]
     },
     "execution_count": 107,
     "metadata": {},
     "output_type": "execute_result"
    }
   ],
   "source": [
    "df2"
   ]
  },
  {
   "cell_type": "code",
   "execution_count": 108,
   "metadata": {},
   "outputs": [
    {
     "data": {
      "text/html": [
       "<div>\n",
       "<style scoped>\n",
       "    .dataframe tbody tr th:only-of-type {\n",
       "        vertical-align: middle;\n",
       "    }\n",
       "\n",
       "    .dataframe tbody tr th {\n",
       "        vertical-align: top;\n",
       "    }\n",
       "\n",
       "    .dataframe thead th {\n",
       "        text-align: right;\n",
       "    }\n",
       "</style>\n",
       "<table border=\"1\" class=\"dataframe\">\n",
       "  <thead>\n",
       "    <tr style=\"text-align: right;\">\n",
       "      <th></th>\n",
       "      <th>A</th>\n",
       "      <th>B</th>\n",
       "      <th>C</th>\n",
       "      <th>D</th>\n",
       "    </tr>\n",
       "  </thead>\n",
       "  <tbody>\n",
       "    <tr>\n",
       "      <th>0</th>\n",
       "      <td>1</td>\n",
       "      <td>2</td>\n",
       "      <td>2.0</td>\n",
       "      <td>8.0</td>\n",
       "    </tr>\n",
       "    <tr>\n",
       "      <th>1</th>\n",
       "      <td>3</td>\n",
       "      <td>4</td>\n",
       "      <td>4.0</td>\n",
       "      <td>9.0</td>\n",
       "    </tr>\n",
       "    <tr>\n",
       "      <th>2</th>\n",
       "      <td>5</td>\n",
       "      <td>6</td>\n",
       "      <td>NaN</td>\n",
       "      <td>NaN</td>\n",
       "    </tr>\n",
       "    <tr>\n",
       "      <th>3</th>\n",
       "      <td>7</td>\n",
       "      <td>8</td>\n",
       "      <td>NaN</td>\n",
       "      <td>NaN</td>\n",
       "    </tr>\n",
       "  </tbody>\n",
       "</table>\n",
       "</div>"
      ],
      "text/plain": [
       "   A  B    C    D\n",
       "0  1  2  2.0  8.0\n",
       "1  3  4  4.0  9.0\n",
       "2  5  6  NaN  NaN\n",
       "3  7  8  NaN  NaN"
      ]
     },
     "execution_count": 108,
     "metadata": {},
     "output_type": "execute_result"
    }
   ],
   "source": [
    "res = df.merge(df2, left_on=\"B\", right_on=\"C\", how=\"left\")\n",
    "res"
   ]
  },
  {
   "cell_type": "code",
   "execution_count": 109,
   "metadata": {},
   "outputs": [
    {
     "data": {
      "text/html": [
       "<div>\n",
       "<style scoped>\n",
       "    .dataframe tbody tr th:only-of-type {\n",
       "        vertical-align: middle;\n",
       "    }\n",
       "\n",
       "    .dataframe tbody tr th {\n",
       "        vertical-align: top;\n",
       "    }\n",
       "\n",
       "    .dataframe thead th {\n",
       "        text-align: right;\n",
       "    }\n",
       "</style>\n",
       "<table border=\"1\" class=\"dataframe\">\n",
       "  <thead>\n",
       "    <tr style=\"text-align: right;\">\n",
       "      <th></th>\n",
       "      <th>A</th>\n",
       "      <th>B</th>\n",
       "      <th>C</th>\n",
       "      <th>D</th>\n",
       "    </tr>\n",
       "  </thead>\n",
       "  <tbody>\n",
       "    <tr>\n",
       "      <th>0</th>\n",
       "      <td>1</td>\n",
       "      <td>2</td>\n",
       "      <td>1.0</td>\n",
       "      <td>7.0</td>\n",
       "    </tr>\n",
       "    <tr>\n",
       "      <th>1</th>\n",
       "      <td>3</td>\n",
       "      <td>4</td>\n",
       "      <td>NaN</td>\n",
       "      <td>NaN</td>\n",
       "    </tr>\n",
       "    <tr>\n",
       "      <th>2</th>\n",
       "      <td>5</td>\n",
       "      <td>6</td>\n",
       "      <td>NaN</td>\n",
       "      <td>NaN</td>\n",
       "    </tr>\n",
       "    <tr>\n",
       "      <th>3</th>\n",
       "      <td>7</td>\n",
       "      <td>8</td>\n",
       "      <td>NaN</td>\n",
       "      <td>NaN</td>\n",
       "    </tr>\n",
       "  </tbody>\n",
       "</table>\n",
       "</div>"
      ],
      "text/plain": [
       "   A  B    C    D\n",
       "0  1  2  1.0  7.0\n",
       "1  3  4  NaN  NaN\n",
       "2  5  6  NaN  NaN\n",
       "3  7  8  NaN  NaN"
      ]
     },
     "execution_count": 109,
     "metadata": {},
     "output_type": "execute_result"
    }
   ],
   "source": [
    "pd.merge(df,df2,left_on='A',right_on='C',how='left')\n",
    "# res"
   ]
  },
  {
   "cell_type": "code",
   "execution_count": 110,
   "metadata": {},
   "outputs": [
    {
     "data": {
      "text/html": [
       "<div>\n",
       "<style scoped>\n",
       "    .dataframe tbody tr th:only-of-type {\n",
       "        vertical-align: middle;\n",
       "    }\n",
       "\n",
       "    .dataframe tbody tr th {\n",
       "        vertical-align: top;\n",
       "    }\n",
       "\n",
       "    .dataframe thead th {\n",
       "        text-align: right;\n",
       "    }\n",
       "</style>\n",
       "<table border=\"1\" class=\"dataframe\">\n",
       "  <thead>\n",
       "    <tr style=\"text-align: right;\">\n",
       "      <th></th>\n",
       "      <th>A</th>\n",
       "      <th>B</th>\n",
       "      <th>C</th>\n",
       "      <th>D</th>\n",
       "    </tr>\n",
       "  </thead>\n",
       "  <tbody>\n",
       "    <tr>\n",
       "      <th>0</th>\n",
       "      <td>1</td>\n",
       "      <td>2</td>\n",
       "      <td>1.0</td>\n",
       "      <td>7.0</td>\n",
       "    </tr>\n",
       "    <tr>\n",
       "      <th>1</th>\n",
       "      <td>3</td>\n",
       "      <td>4</td>\n",
       "      <td>4.0</td>\n",
       "      <td>9.0</td>\n",
       "    </tr>\n",
       "    <tr>\n",
       "      <th>2</th>\n",
       "      <td>5</td>\n",
       "      <td>6</td>\n",
       "      <td>NaN</td>\n",
       "      <td>NaN</td>\n",
       "    </tr>\n",
       "    <tr>\n",
       "      <th>3</th>\n",
       "      <td>7</td>\n",
       "      <td>8</td>\n",
       "      <td>NaN</td>\n",
       "      <td>NaN</td>\n",
       "    </tr>\n",
       "  </tbody>\n",
       "</table>\n",
       "</div>"
      ],
      "text/plain": [
       "   A  B    C    D\n",
       "0  1  2  1.0  7.0\n",
       "1  3  4  4.0  9.0\n",
       "2  5  6  NaN  NaN\n",
       "3  7  8  NaN  NaN"
      ]
     },
     "execution_count": 110,
     "metadata": {},
     "output_type": "execute_result"
    }
   ],
   "source": [
    "res.update(pd.merge(df,df2,left_on='A',right_on='C',how='left'))\n",
    "res"
   ]
  },
  {
   "cell_type": "code",
   "execution_count": 111,
   "metadata": {},
   "outputs": [
    {
     "name": "stdout",
     "output_type": "stream",
     "text": [
      "   A  B    C    D\n",
      "0  1  2  1.0  7.0\n",
      "1  3  4  4.0  9.0\n",
      "2  5  6  NaN  NaN\n",
      "3  7  8  NaN  NaN\n"
     ]
    }
   ],
   "source": [
    "print(res)"
   ]
  },
  {
   "cell_type": "code",
   "execution_count": 112,
   "metadata": {},
   "outputs": [
    {
     "data": {
      "text/html": [
       "<div>\n",
       "<style scoped>\n",
       "    .dataframe tbody tr th:only-of-type {\n",
       "        vertical-align: middle;\n",
       "    }\n",
       "\n",
       "    .dataframe tbody tr th {\n",
       "        vertical-align: top;\n",
       "    }\n",
       "\n",
       "    .dataframe thead th {\n",
       "        text-align: right;\n",
       "    }\n",
       "</style>\n",
       "<table border=\"1\" class=\"dataframe\">\n",
       "  <thead>\n",
       "    <tr style=\"text-align: right;\">\n",
       "      <th></th>\n",
       "      <th>A</th>\n",
       "      <th>B</th>\n",
       "    </tr>\n",
       "  </thead>\n",
       "  <tbody>\n",
       "    <tr>\n",
       "      <th>0</th>\n",
       "      <td>1</td>\n",
       "      <td>2</td>\n",
       "    </tr>\n",
       "    <tr>\n",
       "      <th>1</th>\n",
       "      <td>3</td>\n",
       "      <td>4</td>\n",
       "    </tr>\n",
       "    <tr>\n",
       "      <th>2</th>\n",
       "      <td>5</td>\n",
       "      <td>6</td>\n",
       "    </tr>\n",
       "    <tr>\n",
       "      <th>3</th>\n",
       "      <td>7</td>\n",
       "      <td>8</td>\n",
       "    </tr>\n",
       "  </tbody>\n",
       "</table>\n",
       "</div>"
      ],
      "text/plain": [
       "   A  B\n",
       "0  1  2\n",
       "1  3  4\n",
       "2  5  6\n",
       "3  7  8"
      ]
     },
     "execution_count": 112,
     "metadata": {},
     "output_type": "execute_result"
    }
   ],
   "source": [
    "df"
   ]
  },
  {
   "cell_type": "code",
   "execution_count": 113,
   "metadata": {},
   "outputs": [
    {
     "name": "stdout",
     "output_type": "stream",
     "text": [
      "{'A': 1, 'B': 2}\n",
      "{'A': 3, 'B': 4}\n",
      "{'A': 5, 'B': 6}\n",
      "{'A': 7, 'B': 8}\n"
     ]
    }
   ],
   "source": [
    "for i,v in df.iterrows():\n",
    "    print(v.to_dict())"
   ]
  },
  {
   "cell_type": "code",
   "execution_count": null,
   "metadata": {},
   "outputs": [],
   "source": []
  }
 ],
 "metadata": {
  "kernelspec": {
   "display_name": "venvpy3",
   "language": "python",
   "name": "venvpy3"
  },
  "language_info": {
   "codemirror_mode": {
    "name": "ipython",
    "version": 3
   },
   "file_extension": ".py",
   "mimetype": "text/x-python",
   "name": "python",
   "nbconvert_exporter": "python",
   "pygments_lexer": "ipython3",
   "version": "3.6.7"
  }
 },
 "nbformat": 4,
 "nbformat_minor": 2
}
