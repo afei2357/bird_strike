{
 "cells": [
  {
   "cell_type": "code",
   "execution_count": 14,
   "metadata": {},
   "outputs": [],
   "source": [
    "from app import create_app\n",
    "app = create_app()\n",
    "app_context =  app.app_context()\n",
    "app_context.push()\n",
    "# app_context.pop()"
   ]
  },
  {
   "cell_type": "code",
   "execution_count": 15,
   "metadata": {},
   "outputs": [],
   "source": [
    "from app.models1 import *\n",
    "from app.models import *\n",
    "import random\n",
    "from datetime import datetime\n"
   ]
  },
  {
   "cell_type": "code",
   "execution_count": 16,
   "metadata": {},
   "outputs": [
    {
     "name": "stdout",
     "output_type": "stream",
     "text": [
      "None\n"
     ]
    }
   ],
   "source": [
    "c = Channel.query.filter_by(id=1).first()\n",
    "print(c)"
   ]
  },
  {
   "cell_type": "markdown",
   "metadata": {},
   "source": [
    "各个机场代码如下：其中山东临沂机场没有代码，而南宁吴圩国际机场和上海浦东国际机场有两个，在存数据库时用其中一个\n",
    "```\n",
    "ZYTL\t大连周水子国际机场\n",
    "ZGGG\t广州白云国际机场\n",
    "ZSHC\t杭州萧山国际机场\n",
    "WHJC\t武汉机场\n",
    "ZGSD\t珠港机场\n",
    "JYCS\t揭阳潮汕机场\n",
    "nng\t南宁吴圩国际机场\n",
    "NNG\t南宁吴圩国际机场\n",
    "#\t山东临沂机场\n",
    "ZSPD\t上海浦东国际机场\n",
    "ZSPDbs\t上海浦东国际机场\n",
    "ZGSZ\t深圳机场\n",
    "ZBTJ\t天津滨海国际机场\n",
    "YW\t浙江省义乌机场\n",
    "ZHCC\t郑州新郑国际机场\n",
    "ZUCK\t重庆机场集团公司飞行区管理部\n",
    "CSX\t长沙黄花国际机场\n",
    "CZX\t常州国际机场有限公司\n",
    "XZ\t徐州机场\n",
    "ZBAD\t北京大兴国际机场\n",
    "ZSNT\t南通兴东国际机场\n",
    "```\n"
   ]
  },
  {
   "cell_type": "code",
   "execution_count": 17,
   "metadata": {},
   "outputs": [
    {
     "data": {
      "text/plain": [
       "18"
      ]
     },
     "execution_count": 17,
     "metadata": {},
     "output_type": "execute_result"
    }
   ],
   "source": [
    "code1 = ['ZYTL','ZGGG','ZSHC','WHJC','ZGSD','JYCS','NNG','ZSPD',\n",
    "        'ZGSZ','ZBTJ','YW','ZHCC','ZUCK','CSX','CZX','XZ','ZBAD','ZSNT']\n",
    "name1 = ['大连周水子国际机场','广州白云国际机场','杭州萧山国际机场','武汉机场','珠港机场','揭阳潮汕机场',\n",
    "        '南宁吴圩国际机场','上海浦东国际机场','深圳机场',\n",
    "        '天津滨海国际机场','浙江省义乌机场','郑州新郑国际机场','重庆机场集团公司飞行区管理部',\n",
    "        '长沙黄花国际机场','常州国际机场有限公司','徐州机场','北京大兴国际机场','南通兴东国际机场']\n",
    "len(name1)"
   ]
  },
  {
   "cell_type": "code",
   "execution_count": 18,
   "metadata": {},
   "outputs": [],
   "source": [
    "# 加入各个机场（渠道）信息\n",
    "for i in range(18):\n",
    "    c = Channel.query.filter_by(code=code1[i]).first()\n",
    "    if not c :\n",
    "        c = Channel(code1[i],name1[i])\n",
    "        db.session.add(c)\n",
    "db.session.commit()"
   ]
  },
  {
   "cell_type": "code",
   "execution_count": 19,
   "metadata": {},
   "outputs": [],
   "source": [
    "# 创建用户信息：\n",
    "for i in range(18):\n",
    "    u = User.query.filter_by(username=name1[i]).first()\n",
    "    if not u :\n",
    "        u = User()\n",
    "        u.username = name1[i]\n",
    "        u.set_password(code1[i])\n",
    "        \n",
    "        c = Channel.query.filter_by(code=code1[i]).first()\n",
    "        u.channel =c \n",
    "        db.session.add(u)\n",
    "db.session.commit()"
   ]
  },
  {
   "cell_type": "code",
   "execution_count": 20,
   "metadata": {},
   "outputs": [
    {
     "data": {
      "text/plain": [
       "[<User 大连周水子国际机场>,\n",
       " <User 广州白云国际机场>,\n",
       " <User 杭州萧山国际机场>,\n",
       " <User 武汉机场>,\n",
       " <User 珠港机场>,\n",
       " <User 揭阳潮汕机场>,\n",
       " <User 南宁吴圩国际机场>,\n",
       " <User 上海浦东国际机场>,\n",
       " <User 深圳机场>,\n",
       " <User 天津滨海国际机场>,\n",
       " <User 浙江省义乌机场>,\n",
       " <User 郑州新郑国际机场>,\n",
       " <User 重庆机场集团公司飞行区管理部>,\n",
       " <User 长沙黄花国际机场>,\n",
       " <User 常州国际机场有限公司>,\n",
       " <User 徐州机场>,\n",
       " <User 北京大兴国际机场>,\n",
       " <User 南通兴东国际机场>]"
      ]
     },
     "execution_count": 20,
     "metadata": {},
     "output_type": "execute_result"
    }
   ],
   "source": [
    "User.query.all()"
   ]
  },
  {
   "cell_type": "code",
   "execution_count": 21,
   "metadata": {},
   "outputs": [
    {
     "data": {
      "text/plain": [
       "20"
      ]
     },
     "execution_count": 21,
     "metadata": {},
     "output_type": "execute_result"
    }
   ],
   "source": [
    "# 由于测序数据的code并不统一，有些机场有两个编码：\n",
    "code = ['ZYTL','ZGGG','ZSHC','WHJC','ZGSD','JYCS','nng','NNG','ZSPD','ZSPDbs',\n",
    "        'ZGSZ','ZBTJ','YW','ZHCC','ZUCK','CSX','CZX','XZ','ZBAD','ZSNT']\n",
    "name = ['大连周水子国际机场','广州白云国际机场','杭州萧山国际机场','武汉机场','珠港机场','揭阳潮汕机场',\n",
    "        '南宁吴圩国际机场','南宁吴圩国际机场','上海浦东国际机场','上海浦东国际机场','深圳机场',\n",
    "        '天津滨海国际机场','浙江省义乌机场','郑州新郑国际机场','重庆机场集团公司飞行区管理部',\n",
    "        '长沙黄花国际机场','常州国际机场有限公司','徐州机场','北京大兴国际机场','南通兴东国际机场']\n",
    "len(name)"
   ]
  },
  {
   "cell_type": "code",
   "execution_count": 22,
   "metadata": {},
   "outputs": [
    {
     "name": "stdout",
     "output_type": "stream",
     "text": [
      "{'ZYTL': '大连周水子国际机场', 'ZGGG': '广州白云国际机场', 'ZSHC': '杭州萧山国际机场', 'WHJC': '武汉机场', 'ZGSD': '珠港机场', 'JYCS': '揭阳潮汕机场', 'nng': '南宁吴圩国际机场', 'NNG': '南宁吴圩国际机场', 'ZSPD': '上海浦东国际机场', 'ZSPDbs': '上海浦东国际机场', 'ZGSZ': '深圳机场', 'ZBTJ': '天津滨海国际机场', 'YW': '浙江省义乌机场', 'ZHCC': '郑州新郑国际机场', 'ZUCK': '重庆机场集团公司飞行区管理部', 'CSX': '长沙黄花国际机场', 'CZX': '常州国际机场有限公司', 'XZ': '徐州机场', 'ZBAD': '北京大兴国际机场', 'ZSNT': '南通兴东国际机场'}\n"
     ]
    }
   ],
   "source": [
    "airport_dict = dict(zip(code,name))\n",
    "print(airport_dict)"
   ]
  },
  {
   "cell_type": "code",
   "execution_count": 27,
   "metadata": {},
   "outputs": [],
   "source": [
    "# old_date和old_code的目的是为了判断是否是同一个订单同一个机场\n",
    "old_code = ''\n",
    "old_date = ''\n",
    "old_order  = None\n",
    "i = 0\n",
    "with open('airport.csv') as fh,open('cannot_find_code.tsv','w') as out:\n",
    "    header  = fh.readline()\n",
    "    for line in fh:\n",
    "        line = line.strip()\n",
    "        if line:\n",
    "            lst = line.split(',')\n",
    "#             print(lst)\n",
    "            date = lst[1]\n",
    "#             sample_date = datetime.strptime(date,'%Y%m%d')\n",
    "            sample_date = datetime.now()\n",
    "            code = lst[2]\n",
    "            if code == 'ZSPDbs': #上海浦东国际机场里有ZSPD和ZSPDbs\n",
    "                code = 'ZSPD'\n",
    "            if code == 'nng': #南宁吴圩国际机场的原始数据里面有nng和NNG\n",
    "                code = 'NNG'\n",
    "            if code == 'zuck': #重庆\n",
    "                code = 'ZUCK'                \n",
    "            #\n",
    "            gene = lst[3]\n",
    "            path = lst[5]\n",
    "            raw_data = ''\n",
    "            with open(path) as p:\n",
    "                raw_data = p.read()            \n",
    "\n",
    "            # \n",
    "#             data = SeqData(path,gene,'F',sample_date,'')\n",
    "            data = SeqData(path,gene,'F',sample_date,'')\n",
    "            data.raw_data = raw_data\n",
    "#             break\n",
    "\n",
    "            channel = Channel.query.filter_by(code=code).first()\n",
    "            if channel:\n",
    "                if old_date == date: #相同则说明是同一天下单测序的：\n",
    "                    if old_code == code : #相同则说明是同一个订单同一个机场（渠道）\n",
    "                        order = old_order\n",
    "                        order.seqData.append(data)\n",
    "                    else:\n",
    "                        randnum = str(random.randint(1000, 9999))\n",
    "                        order_num = date+'_'+randnum\n",
    "                        order = OrderSeq(order_num,sample_date)\n",
    "                        db.session.add(order)\n",
    "                else: # 不同一天，就建立新的订单：  \n",
    "                    randnum = str(random.randint(1000, 9999))\n",
    "                    order_num = date+'_'+randnum\n",
    "                    order = OrderSeq(order_num,sample_date)\n",
    "\n",
    "                u = User.query.filter_by(username = channel.name).first()\n",
    "                if order not in u.orders_seq:\n",
    "                    u.orders_seq.append(order)\n",
    "                db.session.add(data)\n",
    "            else:\n",
    "                #找不到对应的编码的机场就记录下来：\n",
    "                out.write(line+'\\n')\n",
    "\n",
    "            old_date = date\n",
    "            old_code = code\n",
    "            old_order = order\n",
    "            \n",
    "\n",
    "db.session.commit()   \n",
    "#2300条测序记录保存到sqlite里面，sqlite的大小大概3.4M"
   ]
  },
  {
   "cell_type": "code",
   "execution_count": null,
   "metadata": {},
   "outputs": [],
   "source": [
    "date = '20200427'"
   ]
  },
  {
   "cell_type": "code",
   "execution_count": null,
   "metadata": {},
   "outputs": [],
   "source": [
    "datetime.now()"
   ]
  },
  {
   "cell_type": "code",
   "execution_count": null,
   "metadata": {},
   "outputs": [],
   "source": [
    "datetime.strptime(date,'%Y%m%d')"
   ]
  },
  {
   "cell_type": "markdown",
   "metadata": {},
   "source": [
    "p = 'bird_strike/20190729杭州萧山6个样品/测序结果/COI-2/良好/ZSHC-2019-64_COI-2_C1578.COI-2-F.PW908011904.seq'\n",
    "with open(p) as o:\n",
    "    raw = o.read()\n",
    "len(raw)"
   ]
  },
  {
   "cell_type": "markdown",
   "metadata": {},
   "source": [
    "with open('airport.csv') as fh,open('cannot_find_code.tsv','w') as out:\n",
    "    header  = fh.readline()\n",
    "    for line in fh:\n",
    "        line = line.strip()\n",
    "        if line:\n",
    "            lst = line.split(',')\n",
    "#             print(lst)\n",
    "            date = lst[1]\n",
    "#             sample_date = datetime.strptime(date,'%Y%m%d')\n",
    "            sample_date = datetime.now()\n",
    "            code = lst[2]\n",
    "            gene = lst[3]\n",
    "            path = lst[5]\n",
    "            raw_data = ''\n",
    "            with open(path) as p:\n",
    "                raw_data = p.read()\n",
    "                print(len(raw_data))"
   ]
  },
  {
   "cell_type": "code",
   "execution_count": 6,
   "metadata": {},
   "outputs": [
    {
     "name": "stdout",
     "output_type": "stream",
     "text": [
      "ZBAD2020-300-yum\n"
     ]
    }
   ],
   "source": [
    "import re\n",
    "file_name = 'ZBAD2020-300-yumao_COI-1_C2890.COI-1-bird-F.PW009290069.seq'\n",
    "info = re.split(r'(COI-1|COI-2|L6615|H7956|cytb|L14995|H16065|BirdF1|BirdR1|Vercytb|L14841|H15149|ND2|L5219|H6313)',file_name)\n",
    "print(info[0].strip('(fangdang)|(zuojiyi)|_|-|\\.'))"
   ]
  },
  {
   "cell_type": "code",
   "execution_count": 10,
   "metadata": {},
   "outputs": [
    {
     "data": {
      "text/plain": [
       "'ZBAD2020-300-'"
      ]
     },
     "execution_count": 10,
     "metadata": {},
     "output_type": "execute_result"
    }
   ],
   "source": [
    "i = 'ZBAD2020-300-yumao'\n",
    "i.rstrip('ymoau')"
   ]
  },
  {
   "cell_type": "code",
   "execution_count": 12,
   "metadata": {},
   "outputs": [
    {
     "data": {
      "text/plain": [
       "True"
      ]
     },
     "execution_count": 12,
     "metadata": {},
     "output_type": "execute_result"
    }
   ],
   "source": [
    "i.endswith('ao')"
   ]
  },
  {
   "cell_type": "code",
   "execution_count": null,
   "metadata": {},
   "outputs": [],
   "source": [
    "re.sub()"
   ]
  }
 ],
 "metadata": {
  "kernelspec": {
   "display_name": "bird_strike_venvpy3",
   "language": "python",
   "name": "bird_strike_venvpy3"
  },
  "language_info": {
   "codemirror_mode": {
    "name": "ipython",
    "version": 3
   },
   "file_extension": ".py",
   "mimetype": "text/x-python",
   "name": "python",
   "nbconvert_exporter": "python",
   "pygments_lexer": "ipython3",
   "version": "3.7.2"
  }
 },
 "nbformat": 4,
 "nbformat_minor": 2
}
