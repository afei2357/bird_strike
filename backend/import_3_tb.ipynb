{
 "cells": [
  {
   "cell_type": "code",
   "execution_count": 66,
   "metadata": {},
   "outputs": [],
   "source": [
    "import pandas as pd\n",
    "import numpy as np\n",
    "from numpy import nan \n",
    "import random"
   ]
  },
  {
   "cell_type": "code",
   "execution_count": 67,
   "metadata": {},
   "outputs": [],
   "source": [
    "order_df = pd.read_csv('order.table.xls',header=0,sep='\\t')\n",
    "dna_df = pd.read_csv('DNA.table.xls',header=0,sep='\\t')\n",
    "delivery_df = pd.read_csv('delivery.table.xls',header=0,sep='\\t')\n",
    " "
   ]
  },
  {
   "cell_type": "code",
   "execution_count": 68,
   "metadata": {},
   "outputs": [],
   "source": [
    "# order_df\n",
    "# dna_df\n",
    "# delivery_df"
   ]
  },
  {
   "cell_type": "code",
   "execution_count": 69,
   "metadata": {},
   "outputs": [],
   "source": [
    "order_df['receive_date'] = delivery_df['receive_date']"
   ]
  },
  {
   "cell_type": "code",
   "execution_count": 70,
   "metadata": {},
   "outputs": [],
   "source": [
    "# order_df['receive_date'] "
   ]
  },
  {
   "cell_type": "code",
   "execution_count": 71,
   "metadata": {},
   "outputs": [],
   "source": [
    "order_df['receive_date'] = order_df['receive_date'].str.strip(' 00:00:00').str.replace('-','.')"
   ]
  },
  {
   "cell_type": "code",
   "execution_count": 72,
   "metadata": {},
   "outputs": [],
   "source": [
    "# 部分样品编码含有反斜杠，这些反斜杠在数据保存的路径被‘-’代替了 \n",
    "order_df['sample_code_format'] =  order_df['sample_code'].str.replace('/','-').str.replace(' ','-').str.replace(u'加急','jiaji')"
   ]
  },
  {
   "cell_type": "code",
   "execution_count": 73,
   "metadata": {},
   "outputs": [
    {
     "data": {
      "text/plain": [
       "sample_code                  ZBAD2021-加急1\n",
       "detection_items                飞鸟残骸鉴定（加急）\n",
       "department                       北京大兴国际机场\n",
       "order_date            2021-04-28 00:00:00\n",
       "order_num                             NaN\n",
       "report_date                           NaN\n",
       "conclusion                            NaN\n",
       "receive_date                    2021.04.3\n",
       "sample_code_format        ZBAD2021-jiaji1\n",
       "Name: 1958, dtype: object"
      ]
     },
     "execution_count": 73,
     "metadata": {},
     "output_type": "execute_result"
    }
   ],
   "source": [
    "order_df.iloc[1958,:]"
   ]
  },
  {
   "cell_type": "code",
   "execution_count": 74,
   "metadata": {},
   "outputs": [],
   "source": [
    "# 找到那些不含有日期的字符，使他为nan：\n",
    "order_df[order_df['receive_date'] == '.'] = nan\n",
    "# 填充空缺的日期：\n",
    "order_df['receive_date'].fillna(method='ffill',axis=0,inplace=True)\n",
    "\n"
   ]
  },
  {
   "cell_type": "code",
   "execution_count": 75,
   "metadata": {},
   "outputs": [],
   "source": [
    "# order_df[order_df['receive_date'].str.contains('\\b\\.\\b')]\n",
    "\n",
    "# 由于日期格式不统一，所以 将字符串都转为日期类型：\n",
    "order_df['receive_date'] = order_df['receive_date'].apply(pd.to_datetime,infer_datetime_format=True)\n"
   ]
  },
  {
   "cell_type": "code",
   "execution_count": 76,
   "metadata": {},
   "outputs": [],
   "source": [
    "# order_df['receive_date'].apply(pd.to_datetime,infer_datetime_format=True)\n",
    "# 再将日期转回字符串：\n",
    "order_df['receive_date'] = order_df['receive_date'].apply(lambda x : x.strftime('%Y%m%d'))"
   ]
  },
  {
   "cell_type": "code",
   "execution_count": 77,
   "metadata": {},
   "outputs": [],
   "source": [
    "length_df = len(order_df['receive_date'])\n",
    "order_df['random_num'] = [str(random.randint(10000, 99999)) for i in range(length_df) ]"
   ]
  },
  {
   "cell_type": "code",
   "execution_count": 78,
   "metadata": {},
   "outputs": [],
   "source": [
    "# order_df.random_num\n",
    "order_df['order_num'] = order_df['receive_date']+ order_df['random_num'] \n",
    "\n",
    "# order_df['order_num'] "
   ]
  },
  {
   "cell_type": "code",
   "execution_count": 79,
   "metadata": {},
   "outputs": [],
   "source": [
    "# 由于有部分测序路径的文件名是以航班号而非样本名来命名，所以有必要吧航班号放进来：\n",
    "order_df['event_flight']  = delivery_df['event_flight']"
   ]
  },
  {
   "cell_type": "code",
   "execution_count": 80,
   "metadata": {},
   "outputs": [],
   "source": [
    "# 测试填空值：\n",
    "# df = pd.DataFrame(np.random.randn(6,3))\n",
    "# df.iloc[1:4,1] = nan\n",
    "# df.iloc[2:5,2] = nan\n",
    "# df.fillna(method='ffill',axis=0)"
   ]
  },
  {
   "cell_type": "code",
   "execution_count": 81,
   "metadata": {},
   "outputs": [
    {
     "name": "stdout",
     "output_type": "stream",
     "text": [
      "---1\n"
     ]
    }
   ],
   "source": [
    "order_df['id'] = order_df.index +1 \n",
    "# del order_df['random_num']\n",
    "# del order_df['receive_date']\n",
    "order_df.to_csv('order_df.tsv',encoding='utf_8_sig',index=False)\n",
    "print('---1')"
   ]
  },
  {
   "cell_type": "code",
   "execution_count": 82,
   "metadata": {},
   "outputs": [],
   "source": [
    "#有些样品是没有样品名的，先挑出来，以后在处理这些样品。\n",
    "order_df_null_samplecode = order_df[order_df['sample_code'].isnull()]\n",
    "order_df_null_samplecode.to_csv('order_df_null_samplecode.tsv',encoding='utf_8_sig',index=False)"
   ]
  },
  {
   "cell_type": "code",
   "execution_count": 83,
   "metadata": {},
   "outputs": [],
   "source": [
    "\n",
    "# order_df.loc[[8,9,10],'sample_code']\n",
    "\n"
   ]
  },
  {
   "cell_type": "code",
   "execution_count": 84,
   "metadata": {},
   "outputs": [],
   "source": [
    "dna_df.to_csv('dna_df.tsv',encoding='utf_8_sig',index=False)"
   ]
  },
  {
   "cell_type": "code",
   "execution_count": 85,
   "metadata": {},
   "outputs": [],
   "source": [
    "delivery_df.to_csv('delivery_df.tsv',encoding='utf_8_sig',index=False)"
   ]
  },
  {
   "cell_type": "code",
   "execution_count": null,
   "metadata": {},
   "outputs": [],
   "source": []
  },
  {
   "cell_type": "code",
   "execution_count": 86,
   "metadata": {},
   "outputs": [],
   "source": [
    "path_df = pd.read_csv('airport.csv',header=0,sep=',')"
   ]
  },
  {
   "cell_type": "code",
   "execution_count": 87,
   "metadata": {},
   "outputs": [
    {
     "data": {
      "text/plain": [
       "<bound method NDFrame.head of       Unnamed: 0      date  code gene_name  \\\n",
       "0              0  20200427  ZSHC      cytb   \n",
       "1              1  20200427  ZSHC      cytb   \n",
       "2              2  20200427  ZSHC      cytb   \n",
       "3              3  20200427  JYCS      cytb   \n",
       "4              4  20200427  ZSHC      cytb   \n",
       "...          ...       ...   ...       ...   \n",
       "2581        2581  20200825    KN      cytb   \n",
       "2582        2582  20200825    MF      cytb   \n",
       "2583        2583  20200825    CZ      cytb   \n",
       "2584        2584  20200413  JYCS      cytb   \n",
       "2585        2585  20200413  JYCS     COI-1   \n",
       "\n",
       "                                              file_name  \\\n",
       "0     ZSHC-2020-07_L14995-H16065_C2291.L14995.PW0050...   \n",
       "1     ZSHC-2020-04_L14995-H16065_C2291.L14995.PW0050...   \n",
       "2     ZSHC-2020-02_L14995-H16065_C2291.L14995.PW0050...   \n",
       "3     JYCS2020-03_L14995-H16065_C2291.L14995.PW00509...   \n",
       "4     ZSHC-2020-03_L14995-H16065_C2291.L14995.PW0050...   \n",
       "...                                                 ...   \n",
       "2581  KN2928_L14995-H16065_C2777.L14995.PW009022109.seq   \n",
       "2582  MF8169_L14995-H16065_C2777.L14995.PW009022080.seq   \n",
       "2583  CZ6715_L14995-H16065_C2777.L14995.PW009022092.seq   \n",
       "2584  JYCS2020-01_L14995-H16065_C2243.L14995.PW00417...   \n",
       "2585  JYCS2020-01_COI-1_C2243.COI-1-bird-F.PW0041701...   \n",
       "\n",
       "                                                   path   sample_code  \n",
       "0     bird_strike/20200427&20200506潮汕机场2个萧山机场7个样品结果/...  ZSHC-2020-07  \n",
       "1     bird_strike/20200427&20200506潮汕机场2个萧山机场7个样品结果/...  ZSHC-2020-04  \n",
       "2     bird_strike/20200427&20200506潮汕机场2个萧山机场7个样品结果/...  ZSHC-2020-02  \n",
       "3     bird_strike/20200427&20200506潮汕机场2个萧山机场7个样品结果/...   JYCS2020-03  \n",
       "4     bird_strike/20200427&20200506潮汕机场2个萧山机场7个样品结果/...  ZSHC-2020-03  \n",
       "...                                                 ...           ...  \n",
       "2581  bird_strike/20200825&0826萧山机场4个&北京大兴机场44个样品结果/...        KN2928  \n",
       "2582  bird_strike/20200825&0826萧山机场4个&北京大兴机场44个样品结果/...        MF8169  \n",
       "2583  bird_strike/20200825&0826萧山机场4个&北京大兴机场44个样品结果/...        CZ6715  \n",
       "2584  bird_strike/20200413潮汕机场1个样品结果/测序结果/cytb/JYCS2...   JYCS2020-01  \n",
       "2585  bird_strike/20200413潮汕机场1个样品结果/测序结果/COI/JYCS20...   JYCS2020-01  \n",
       "\n",
       "[2586 rows x 7 columns]>"
      ]
     },
     "execution_count": 87,
     "metadata": {},
     "output_type": "execute_result"
    }
   ],
   "source": [
    "path_df.head"
   ]
  },
  {
   "cell_type": "code",
   "execution_count": 88,
   "metadata": {},
   "outputs": [],
   "source": [
    "result_df = pd.merge(order_df,path_df,left_on=['sample_code_format'],right_on=['sample_code'],how='outer')\n",
    "result_df_event_flight = pd.merge(order_df,path_df,left_on=['event_flight'],right_on=['sample_code'],how='inner') # "
   ]
  },
  {
   "cell_type": "code",
   "execution_count": 89,
   "metadata": {},
   "outputs": [],
   "source": [
    "result_df.to_csv('result_df.tsv',encoding='utf_8_sig',index=False)\n",
    "result_df_event_flight.to_csv('result_df_event_flight.tsv',encoding='utf_8_sig',index=False)"
   ]
  },
  {
   "cell_type": "code",
   "execution_count": 90,
   "metadata": {},
   "outputs": [
    {
     "data": {
      "text/html": [
       "<div>\n",
       "<style scoped>\n",
       "    .dataframe tbody tr th:only-of-type {\n",
       "        vertical-align: middle;\n",
       "    }\n",
       "\n",
       "    .dataframe tbody tr th {\n",
       "        vertical-align: top;\n",
       "    }\n",
       "\n",
       "    .dataframe thead th {\n",
       "        text-align: right;\n",
       "    }\n",
       "</style>\n",
       "<table border=\"1\" class=\"dataframe\">\n",
       "  <thead>\n",
       "    <tr style=\"text-align: right;\">\n",
       "      <th></th>\n",
       "      <th>sample_code_x</th>\n",
       "      <th>detection_items</th>\n",
       "      <th>department</th>\n",
       "      <th>order_date</th>\n",
       "      <th>order_num</th>\n",
       "      <th>report_date</th>\n",
       "      <th>conclusion</th>\n",
       "      <th>receive_date</th>\n",
       "      <th>sample_code_format</th>\n",
       "      <th>random_num</th>\n",
       "      <th>event_flight</th>\n",
       "      <th>id</th>\n",
       "      <th>Unnamed: 0</th>\n",
       "      <th>date</th>\n",
       "      <th>code</th>\n",
       "      <th>gene_name</th>\n",
       "      <th>file_name</th>\n",
       "      <th>path</th>\n",
       "      <th>sample_code_y</th>\n",
       "    </tr>\n",
       "  </thead>\n",
       "  <tbody>\n",
       "    <tr>\n",
       "      <th>0</th>\n",
       "      <td>ZSHC/2017/81</td>\n",
       "      <td>飞鸟残骸鉴定（常规）</td>\n",
       "      <td>杭州萧山国际机场有限公司</td>\n",
       "      <td>2018.4.9</td>\n",
       "      <td>2018041664591</td>\n",
       "      <td>NaN</td>\n",
       "      <td>NaN</td>\n",
       "      <td>20180416</td>\n",
       "      <td>ZSHC-2017-81</td>\n",
       "      <td>64591</td>\n",
       "      <td>9C8555</td>\n",
       "      <td>1.0</td>\n",
       "      <td>NaN</td>\n",
       "      <td>NaN</td>\n",
       "      <td>NaN</td>\n",
       "      <td>NaN</td>\n",
       "      <td>NaN</td>\n",
       "      <td>NaN</td>\n",
       "      <td>NaN</td>\n",
       "    </tr>\n",
       "    <tr>\n",
       "      <th>1</th>\n",
       "      <td>ZSHC/2017/80</td>\n",
       "      <td>飞鸟残骸鉴定（常规）</td>\n",
       "      <td>杭州萧山国际机场有限公司</td>\n",
       "      <td>2018.4.9</td>\n",
       "      <td>2018041664812</td>\n",
       "      <td>NaN</td>\n",
       "      <td>NaN</td>\n",
       "      <td>20180416</td>\n",
       "      <td>ZSHC-2017-80</td>\n",
       "      <td>64812</td>\n",
       "      <td>JD0472</td>\n",
       "      <td>2.0</td>\n",
       "      <td>NaN</td>\n",
       "      <td>NaN</td>\n",
       "      <td>NaN</td>\n",
       "      <td>NaN</td>\n",
       "      <td>NaN</td>\n",
       "      <td>NaN</td>\n",
       "      <td>NaN</td>\n",
       "    </tr>\n",
       "    <tr>\n",
       "      <th>2</th>\n",
       "      <td>ZSHC/2017/82</td>\n",
       "      <td>飞鸟残骸鉴定（常规）</td>\n",
       "      <td>杭州萧山国际机场有限公司</td>\n",
       "      <td>2018.4.9</td>\n",
       "      <td>2018041645361</td>\n",
       "      <td>NaN</td>\n",
       "      <td>NaN</td>\n",
       "      <td>20180416</td>\n",
       "      <td>ZSHC-2017-82</td>\n",
       "      <td>45361</td>\n",
       "      <td>MF8026</td>\n",
       "      <td>3.0</td>\n",
       "      <td>NaN</td>\n",
       "      <td>NaN</td>\n",
       "      <td>NaN</td>\n",
       "      <td>NaN</td>\n",
       "      <td>NaN</td>\n",
       "      <td>NaN</td>\n",
       "      <td>NaN</td>\n",
       "    </tr>\n",
       "    <tr>\n",
       "      <th>3</th>\n",
       "      <td>ZSHC/2017/83</td>\n",
       "      <td>飞鸟残骸鉴定（常规）</td>\n",
       "      <td>杭州萧山国际机场有限公司</td>\n",
       "      <td>2018.4.9</td>\n",
       "      <td>2018041640074</td>\n",
       "      <td>NaN</td>\n",
       "      <td>NaN</td>\n",
       "      <td>20180416</td>\n",
       "      <td>ZSHC-2017-83</td>\n",
       "      <td>40074</td>\n",
       "      <td>JD5351</td>\n",
       "      <td>4.0</td>\n",
       "      <td>NaN</td>\n",
       "      <td>NaN</td>\n",
       "      <td>NaN</td>\n",
       "      <td>NaN</td>\n",
       "      <td>NaN</td>\n",
       "      <td>NaN</td>\n",
       "      <td>NaN</td>\n",
       "    </tr>\n",
       "    <tr>\n",
       "      <th>4</th>\n",
       "      <td>ZSHC/2018/01</td>\n",
       "      <td>飞鸟残骸鉴定（常规）</td>\n",
       "      <td>杭州萧山国际机场有限公司</td>\n",
       "      <td>2018.4.9</td>\n",
       "      <td>2018041679772</td>\n",
       "      <td>NaN</td>\n",
       "      <td>NaN</td>\n",
       "      <td>20180416</td>\n",
       "      <td>ZSHC-2018-01</td>\n",
       "      <td>79772</td>\n",
       "      <td>CA1704</td>\n",
       "      <td>5.0</td>\n",
       "      <td>NaN</td>\n",
       "      <td>NaN</td>\n",
       "      <td>NaN</td>\n",
       "      <td>NaN</td>\n",
       "      <td>NaN</td>\n",
       "      <td>NaN</td>\n",
       "      <td>NaN</td>\n",
       "    </tr>\n",
       "    <tr>\n",
       "      <th>...</th>\n",
       "      <td>...</td>\n",
       "      <td>...</td>\n",
       "      <td>...</td>\n",
       "      <td>...</td>\n",
       "      <td>...</td>\n",
       "      <td>...</td>\n",
       "      <td>...</td>\n",
       "      <td>...</td>\n",
       "      <td>...</td>\n",
       "      <td>...</td>\n",
       "      <td>...</td>\n",
       "      <td>...</td>\n",
       "      <td>...</td>\n",
       "      <td>...</td>\n",
       "      <td>...</td>\n",
       "      <td>...</td>\n",
       "      <td>...</td>\n",
       "      <td>...</td>\n",
       "      <td>...</td>\n",
       "    </tr>\n",
       "    <tr>\n",
       "      <th>3390</th>\n",
       "      <td>NaN</td>\n",
       "      <td>NaN</td>\n",
       "      <td>NaN</td>\n",
       "      <td>NaN</td>\n",
       "      <td>NaN</td>\n",
       "      <td>NaN</td>\n",
       "      <td>NaN</td>\n",
       "      <td>NaN</td>\n",
       "      <td>NaN</td>\n",
       "      <td>NaN</td>\n",
       "      <td>NaN</td>\n",
       "      <td>NaN</td>\n",
       "      <td>2535.0</td>\n",
       "      <td>20200825.0</td>\n",
       "      <td>NS</td>\n",
       "      <td>COI-1</td>\n",
       "      <td>NS8024-0205_COI-1_C2777.COI-1-bird-F.PW0090105...</td>\n",
       "      <td>bird_strike/20200825&amp;0826萧山机场4个&amp;北京大兴机场44个样品结果/...</td>\n",
       "      <td>NS8024-0205</td>\n",
       "    </tr>\n",
       "    <tr>\n",
       "      <th>3391</th>\n",
       "      <td>NaN</td>\n",
       "      <td>NaN</td>\n",
       "      <td>NaN</td>\n",
       "      <td>NaN</td>\n",
       "      <td>NaN</td>\n",
       "      <td>NaN</td>\n",
       "      <td>NaN</td>\n",
       "      <td>NaN</td>\n",
       "      <td>NaN</td>\n",
       "      <td>NaN</td>\n",
       "      <td>NaN</td>\n",
       "      <td>NaN</td>\n",
       "      <td>2570.0</td>\n",
       "      <td>20200825.0</td>\n",
       "      <td>NS</td>\n",
       "      <td>cytb</td>\n",
       "      <td>NS8024-0205_L14995-H16065_C2777.L14995.PW00902...</td>\n",
       "      <td>bird_strike/20200825&amp;0826萧山机场4个&amp;北京大兴机场44个样品结果/...</td>\n",
       "      <td>NS8024-0205</td>\n",
       "    </tr>\n",
       "    <tr>\n",
       "      <th>3392</th>\n",
       "      <td>NaN</td>\n",
       "      <td>NaN</td>\n",
       "      <td>NaN</td>\n",
       "      <td>NaN</td>\n",
       "      <td>NaN</td>\n",
       "      <td>NaN</td>\n",
       "      <td>NaN</td>\n",
       "      <td>NaN</td>\n",
       "      <td>NaN</td>\n",
       "      <td>NaN</td>\n",
       "      <td>NaN</td>\n",
       "      <td>NaN</td>\n",
       "      <td>2556.0</td>\n",
       "      <td>20200825.0</td>\n",
       "      <td>KN</td>\n",
       "      <td>cytb</td>\n",
       "      <td>KN5812-2020-8-18_L14995-H16065_C2777.L14995.PW...</td>\n",
       "      <td>bird_strike/20200825&amp;0826萧山机场4个&amp;北京大兴机场44个样品结果/...</td>\n",
       "      <td>KN5812-2020-8-18</td>\n",
       "    </tr>\n",
       "    <tr>\n",
       "      <th>3393</th>\n",
       "      <td>NaN</td>\n",
       "      <td>NaN</td>\n",
       "      <td>NaN</td>\n",
       "      <td>NaN</td>\n",
       "      <td>NaN</td>\n",
       "      <td>NaN</td>\n",
       "      <td>NaN</td>\n",
       "      <td>NaN</td>\n",
       "      <td>NaN</td>\n",
       "      <td>NaN</td>\n",
       "      <td>NaN</td>\n",
       "      <td>NaN</td>\n",
       "      <td>2571.0</td>\n",
       "      <td>20200825.0</td>\n",
       "      <td>KN</td>\n",
       "      <td>cytb</td>\n",
       "      <td>KN5622-2020-8-16_L14995-H16065_C2777.L14995.PW...</td>\n",
       "      <td>bird_strike/20200825&amp;0826萧山机场4个&amp;北京大兴机场44个样品结果/...</td>\n",
       "      <td>KN5622-2020-8-16</td>\n",
       "    </tr>\n",
       "    <tr>\n",
       "      <th>3394</th>\n",
       "      <td>NaN</td>\n",
       "      <td>NaN</td>\n",
       "      <td>NaN</td>\n",
       "      <td>NaN</td>\n",
       "      <td>NaN</td>\n",
       "      <td>NaN</td>\n",
       "      <td>NaN</td>\n",
       "      <td>NaN</td>\n",
       "      <td>NaN</td>\n",
       "      <td>NaN</td>\n",
       "      <td>NaN</td>\n",
       "      <td>NaN</td>\n",
       "      <td>2576.0</td>\n",
       "      <td>20200825.0</td>\n",
       "      <td>KN</td>\n",
       "      <td>cytb</td>\n",
       "      <td>KN5812-2020-7-4_L14995-H16065_C2777.L14995.PW0...</td>\n",
       "      <td>bird_strike/20200825&amp;0826萧山机场4个&amp;北京大兴机场44个样品结果/...</td>\n",
       "      <td>KN5812-2020-7-4</td>\n",
       "    </tr>\n",
       "  </tbody>\n",
       "</table>\n",
       "<p>3395 rows × 19 columns</p>\n",
       "</div>"
      ],
      "text/plain": [
       "     sample_code_x detection_items    department order_date      order_num  \\\n",
       "0     ZSHC/2017/81      飞鸟残骸鉴定（常规）  杭州萧山国际机场有限公司   2018.4.9  2018041664591   \n",
       "1     ZSHC/2017/80      飞鸟残骸鉴定（常规）  杭州萧山国际机场有限公司   2018.4.9  2018041664812   \n",
       "2     ZSHC/2017/82      飞鸟残骸鉴定（常规）  杭州萧山国际机场有限公司   2018.4.9  2018041645361   \n",
       "3     ZSHC/2017/83      飞鸟残骸鉴定（常规）  杭州萧山国际机场有限公司   2018.4.9  2018041640074   \n",
       "4     ZSHC/2018/01      飞鸟残骸鉴定（常规）  杭州萧山国际机场有限公司   2018.4.9  2018041679772   \n",
       "...            ...             ...           ...        ...            ...   \n",
       "3390           NaN             NaN           NaN        NaN            NaN   \n",
       "3391           NaN             NaN           NaN        NaN            NaN   \n",
       "3392           NaN             NaN           NaN        NaN            NaN   \n",
       "3393           NaN             NaN           NaN        NaN            NaN   \n",
       "3394           NaN             NaN           NaN        NaN            NaN   \n",
       "\n",
       "      report_date  conclusion receive_date sample_code_format random_num  \\\n",
       "0             NaN         NaN     20180416       ZSHC-2017-81      64591   \n",
       "1             NaN         NaN     20180416       ZSHC-2017-80      64812   \n",
       "2             NaN         NaN     20180416       ZSHC-2017-82      45361   \n",
       "3             NaN         NaN     20180416       ZSHC-2017-83      40074   \n",
       "4             NaN         NaN     20180416       ZSHC-2018-01      79772   \n",
       "...           ...         ...          ...                ...        ...   \n",
       "3390          NaN         NaN          NaN                NaN        NaN   \n",
       "3391          NaN         NaN          NaN                NaN        NaN   \n",
       "3392          NaN         NaN          NaN                NaN        NaN   \n",
       "3393          NaN         NaN          NaN                NaN        NaN   \n",
       "3394          NaN         NaN          NaN                NaN        NaN   \n",
       "\n",
       "     event_flight   id  Unnamed: 0        date code gene_name  \\\n",
       "0          9C8555  1.0         NaN         NaN  NaN       NaN   \n",
       "1          JD0472  2.0         NaN         NaN  NaN       NaN   \n",
       "2          MF8026  3.0         NaN         NaN  NaN       NaN   \n",
       "3          JD5351  4.0         NaN         NaN  NaN       NaN   \n",
       "4          CA1704  5.0         NaN         NaN  NaN       NaN   \n",
       "...           ...  ...         ...         ...  ...       ...   \n",
       "3390          NaN  NaN      2535.0  20200825.0   NS     COI-1   \n",
       "3391          NaN  NaN      2570.0  20200825.0   NS      cytb   \n",
       "3392          NaN  NaN      2556.0  20200825.0   KN      cytb   \n",
       "3393          NaN  NaN      2571.0  20200825.0   KN      cytb   \n",
       "3394          NaN  NaN      2576.0  20200825.0   KN      cytb   \n",
       "\n",
       "                                              file_name  \\\n",
       "0                                                   NaN   \n",
       "1                                                   NaN   \n",
       "2                                                   NaN   \n",
       "3                                                   NaN   \n",
       "4                                                   NaN   \n",
       "...                                                 ...   \n",
       "3390  NS8024-0205_COI-1_C2777.COI-1-bird-F.PW0090105...   \n",
       "3391  NS8024-0205_L14995-H16065_C2777.L14995.PW00902...   \n",
       "3392  KN5812-2020-8-18_L14995-H16065_C2777.L14995.PW...   \n",
       "3393  KN5622-2020-8-16_L14995-H16065_C2777.L14995.PW...   \n",
       "3394  KN5812-2020-7-4_L14995-H16065_C2777.L14995.PW0...   \n",
       "\n",
       "                                                   path     sample_code_y  \n",
       "0                                                   NaN               NaN  \n",
       "1                                                   NaN               NaN  \n",
       "2                                                   NaN               NaN  \n",
       "3                                                   NaN               NaN  \n",
       "4                                                   NaN               NaN  \n",
       "...                                                 ...               ...  \n",
       "3390  bird_strike/20200825&0826萧山机场4个&北京大兴机场44个样品结果/...       NS8024-0205  \n",
       "3391  bird_strike/20200825&0826萧山机场4个&北京大兴机场44个样品结果/...       NS8024-0205  \n",
       "3392  bird_strike/20200825&0826萧山机场4个&北京大兴机场44个样品结果/...  KN5812-2020-8-18  \n",
       "3393  bird_strike/20200825&0826萧山机场4个&北京大兴机场44个样品结果/...  KN5622-2020-8-16  \n",
       "3394  bird_strike/20200825&0826萧山机场4个&北京大兴机场44个样品结果/...   KN5812-2020-7-4  \n",
       "\n",
       "[3395 rows x 19 columns]"
      ]
     },
     "execution_count": 90,
     "metadata": {},
     "output_type": "execute_result"
    }
   ],
   "source": [
    "result_df"
   ]
  },
  {
   "cell_type": "code",
   "execution_count": 91,
   "metadata": {},
   "outputs": [
    {
     "data": {
      "text/plain": [
       "'ZBAD2021-jiaji1'"
      ]
     },
     "execution_count": 91,
     "metadata": {},
     "output_type": "execute_result"
    }
   ],
   "source": [
    "s = 'ZBAD2021-加急1'\n",
    "s.replace('加急','jiaji')"
   ]
  },
  {
   "cell_type": "code",
   "execution_count": 92,
   "metadata": {},
   "outputs": [],
   "source": [
    "# s"
   ]
  },
  {
   "cell_type": "code",
   "execution_count": 93,
   "metadata": {},
   "outputs": [],
   "source": [
    "# order_df.iloc[[1849,1850],:]"
   ]
  },
  {
   "cell_type": "code",
   "execution_count": 94,
   "metadata": {},
   "outputs": [
    {
     "name": "stdout",
     "output_type": "stream",
     "text": [
      "--\n"
     ]
    }
   ],
   "source": [
    "print('--')"
   ]
  },
  {
   "cell_type": "code",
   "execution_count": 95,
   "metadata": {},
   "outputs": [
    {
     "data": {
      "text/plain": [
       "0                                                     NaN\n",
       "1                                                     NaN\n",
       "2                                                     NaN\n",
       "3                                                     NaN\n",
       "4                                                     NaN\n",
       "                              ...                        \n",
       "3390    bird_strike/20200825&0826萧山机场4个&北京大兴机场44个样品结果/...\n",
       "3391    bird_strike/20200825&0826萧山机场4个&北京大兴机场44个样品结果/...\n",
       "3392    bird_strike/20200825&0826萧山机场4个&北京大兴机场44个样品结果/...\n",
       "3393    bird_strike/20200825&0826萧山机场4个&北京大兴机场44个样品结果/...\n",
       "3394    bird_strike/20200825&0826萧山机场4个&北京大兴机场44个样品结果/...\n",
       "Name: path, Length: 3395, dtype: object"
      ]
     },
     "execution_count": 95,
     "metadata": {},
     "output_type": "execute_result"
    }
   ],
   "source": [
    "result_df.path"
   ]
  },
  {
   "cell_type": "code",
   "execution_count": 96,
   "metadata": {},
   "outputs": [],
   "source": [
    "from app import create_app\n",
    "app = create_app()\n",
    "app_context =  app.app_context()\n",
    "app_context.push()\n",
    "\n",
    "\n",
    "\n",
    "from app.models1 import *\n",
    "from app.models import *\n",
    "import random\n",
    "from datetime import datetime"
   ]
  },
  {
   "cell_type": "code",
   "execution_count": 97,
   "metadata": {},
   "outputs": [],
   "source": [
    "result_df['id'] = result_df['id'].apply(lambda x : int(x) if not pd.isnull(x) else 0)\n",
    "# 导入数据库"
   ]
  },
  {
   "cell_type": "code",
   "execution_count": 139,
   "metadata": {},
   "outputs": [],
   "source": [
    "\n",
    "from app import create_app\n",
    "app = create_app()\n",
    "app_context =  app.app_context()\n",
    "app_context.push()\n",
    "\n",
    "from app.models1 import *\n",
    "from app.models import *\n",
    "import random\n",
    "from datetime import datetime\n"
   ]
  },
  {
   "cell_type": "code",
   "execution_count": 98,
   "metadata": {},
   "outputs": [
    {
     "name": "stdout",
     "output_type": "stream",
     "text": [
      "0       1\n",
      "1       2\n",
      "2       3\n",
      "3       4\n",
      "4       5\n",
      "       ..\n",
      "3390    0\n",
      "3391    0\n",
      "3392    0\n",
      "3393    0\n",
      "3394    0\n",
      "Name: id, Length: 3395, dtype: int64\n"
     ]
    }
   ],
   "source": [
    "# result_df['create_time'] = pd.to_datetime(result_df['create_time'],infer_datetime_format=True )\n",
    "# result_df['sample_date'] = pd.to_datetime(result_df['sample_date'],infer_datetime_format=True )\n",
    "# result_df['receive_date'] = pd.to_datetime(result_df['receive_date'],infer_datetime_format=True )\n",
    "# result_df['report_date'] = pd.to_datetime(result_df['report_date'],infer_datetime_format=True )\n",
    "# print(type(result_df['order_date']))\n",
    "# result_df['id'] = result_df['id'].apply(lambda x :  int(x)  if x else None  )\n",
    "# result_df['id'] = result_df['id'].astype('int64')\n",
    "# print(result_df.id )\n",
    "\n",
    "print(result_df['id'])"
   ]
  },
  {
   "cell_type": "code",
   "execution_count": null,
   "metadata": {},
   "outputs": [],
   "source": []
  },
  {
   "cell_type": "markdown",
   "metadata": {},
   "source": [
    "\n",
    "\n",
    "old_id = None\n",
    "i = 0\n",
    "# lst = []\n",
    "for ix,val in result_df.iterrows():\n",
    "    data = val.to_dict()\n",
    "    id =  data.get('id')\n",
    "    if not id :\n",
    "        continue   \n",
    "    else:\n",
    "#         print(val.get('id'))        \n",
    "        \n",
    "        o = OrderSeq.query.filter_by(id=id).first()\n",
    "        if not o:\n",
    "            o = OrderSeq()\n",
    "            o.from_dict(data)\n",
    "            db.session.add(o)\n",
    "        \n",
    "    if val.get('path') and not pd.isnull(val.get('path')):\n",
    "        seqData = SeqData()\n",
    "        seqData.from_dict(data)\n",
    " \n",
    "        with open (val.get('path')) as fh:\n",
    "            raw_data = fh.read()\n",
    "            seqData.raw_data = raw_data \n",
    "            \n",
    "        o.seqData.append(seqData)\n",
    "        db.session.add(seqData)\n",
    "    \n",
    "#     old_id = data.get('id')\n",
    "    \n",
    "    i+= 1\n",
    "    if i%100 == 0:\n",
    "#         print(lst)\n",
    "        db.session.commit()\n",
    "        \n",
    "db.session.commit()\n",
    "print('finish ')\n",
    "# app_context.pop()        \n",
    "        \n",
    "\n"
   ]
  },
  {
   "cell_type": "code",
   "execution_count": 119,
   "metadata": {},
   "outputs": [],
   "source": [
    "# OrderSeq.__table__.columns.keys()\n",
    "# db.session.rollback()"
   ]
  },
  {
   "cell_type": "code",
   "execution_count": null,
   "metadata": {},
   "outputs": [],
   "source": []
  },
  {
   "cell_type": "code",
   "execution_count": null,
   "metadata": {},
   "outputs": [],
   "source": [
    "# 导入dna_df 和 delivery_df "
   ]
  },
  {
   "cell_type": "markdown",
   "metadata": {},
   "source": [
    "# 导入dna_df表\n",
    "dna_df['id'] = dna_df.index + 1 \n",
    "# print(dna_df)\n",
    "\n",
    "\n",
    "for ix,val in dna_df.iterrows():\n",
    "    data = val.to_dict()\n",
    "#     print(data)\n",
    "    id =  data.get('id')\n",
    "    if not id :\n",
    "        continue   \n",
    "    else:\n",
    "#         print(val.get('id'))        \n",
    "        \n",
    "        o = OrderSeq.query.filter_by(id=id).first()\n",
    "        if not o:\n",
    "            print('can not find order: '+str(id))\n",
    "            continue\n",
    "         \n",
    "#     if val.get('path') and not pd.isnull(val.get('path')):\n",
    "        dnaInfo = DNAInfo()\n",
    "        dnaInfo.from_dict(data)\n",
    "             \n",
    "        o.DNA_info.append(dnaInfo)\n",
    "        db.session.add(dnaInfo)\n",
    "    \n",
    "#     old_id = data.get('id')\n",
    "    \n",
    "    i+= 1\n",
    "    if i%100 == 0:\n",
    "#         print(lst)\n",
    "        db.session.commit()\n",
    "        \n",
    "db.session.commit()\n",
    "print('finish ')\n",
    "# app_context.pop()        \n",
    "\n",
    "# db.session.rollback()"
   ]
  },
  {
   "cell_type": "markdown",
   "metadata": {},
   "source": [
    "# 导入Delivery表\n",
    "delivery_df['id'] = delivery_df.index + 1 \n",
    "\n",
    "dna_df[id] = dna_df.index + 1 \n",
    "\n",
    "for ix,val in delivery_df.iterrows():\n",
    "    data = val.to_dict()\n",
    "    id =  data.get('id')\n",
    "    if not id :\n",
    "        \n",
    "        continue   \n",
    "    else:\n",
    "#         print(val.get('id'))        \n",
    "        \n",
    "        o = OrderSeq.query.filter_by(id=id).first()\n",
    "        if not o:\n",
    "            print('can not find order: '+str(id))\n",
    "            continue\n",
    "         \n",
    "#     if val.get('path') and not pd.isnull(val.get('path')):\n",
    "        delivery = Delivery()\n",
    "        delivery.from_dict(data)\n",
    "             \n",
    "        o.delivery.append(delivery)\n",
    "        db.session.add(delivery)\n",
    "    \n",
    "#     old_id = data.get('id')\n",
    "    \n",
    "    i+= 1\n",
    "    if i%100 == 0:\n",
    "#         print(lst)\n",
    "        db.session.commit()\n",
    "        \n",
    "db.session.commit()\n",
    "print('finish ')\n",
    "# app_context.pop()   "
   ]
  },
  {
   "cell_type": "code",
   "execution_count": 124,
   "metadata": {},
   "outputs": [
    {
     "data": {
      "text/html": [
       "<div>\n",
       "<style scoped>\n",
       "    .dataframe tbody tr th:only-of-type {\n",
       "        vertical-align: middle;\n",
       "    }\n",
       "\n",
       "    .dataframe tbody tr th {\n",
       "        vertical-align: top;\n",
       "    }\n",
       "\n",
       "    .dataframe thead th {\n",
       "        text-align: right;\n",
       "    }\n",
       "</style>\n",
       "<table border=\"1\" class=\"dataframe\">\n",
       "  <thead>\n",
       "    <tr style=\"text-align: right;\">\n",
       "      <th></th>\n",
       "      <th>sample_code_x</th>\n",
       "      <th>detection_items</th>\n",
       "      <th>department</th>\n",
       "      <th>order_date</th>\n",
       "      <th>order_num</th>\n",
       "      <th>report_date</th>\n",
       "      <th>conclusion</th>\n",
       "      <th>receive_date</th>\n",
       "      <th>sample_code_format</th>\n",
       "      <th>random_num</th>\n",
       "      <th>event_flight</th>\n",
       "      <th>id</th>\n",
       "      <th>Unnamed: 0</th>\n",
       "      <th>date</th>\n",
       "      <th>code</th>\n",
       "      <th>gene_name</th>\n",
       "      <th>file_name</th>\n",
       "      <th>path</th>\n",
       "      <th>sample_code_y</th>\n",
       "    </tr>\n",
       "  </thead>\n",
       "  <tbody>\n",
       "    <tr>\n",
       "      <th>0</th>\n",
       "      <td>ZSHC/2017/81</td>\n",
       "      <td>飞鸟残骸鉴定（常规）</td>\n",
       "      <td>杭州萧山国际机场有限公司</td>\n",
       "      <td>2018.4.9</td>\n",
       "      <td>2018041664591</td>\n",
       "      <td>NaN</td>\n",
       "      <td>NaN</td>\n",
       "      <td>20180416</td>\n",
       "      <td>ZSHC-2017-81</td>\n",
       "      <td>64591</td>\n",
       "      <td>9C8555</td>\n",
       "      <td>1</td>\n",
       "      <td>NaN</td>\n",
       "      <td>NaN</td>\n",
       "      <td>NaN</td>\n",
       "      <td>NaN</td>\n",
       "      <td>NaN</td>\n",
       "      <td>NaN</td>\n",
       "      <td>NaN</td>\n",
       "    </tr>\n",
       "    <tr>\n",
       "      <th>1</th>\n",
       "      <td>ZSHC/2017/80</td>\n",
       "      <td>飞鸟残骸鉴定（常规）</td>\n",
       "      <td>杭州萧山国际机场有限公司</td>\n",
       "      <td>2018.4.9</td>\n",
       "      <td>2018041664812</td>\n",
       "      <td>NaN</td>\n",
       "      <td>NaN</td>\n",
       "      <td>20180416</td>\n",
       "      <td>ZSHC-2017-80</td>\n",
       "      <td>64812</td>\n",
       "      <td>JD0472</td>\n",
       "      <td>2</td>\n",
       "      <td>NaN</td>\n",
       "      <td>NaN</td>\n",
       "      <td>NaN</td>\n",
       "      <td>NaN</td>\n",
       "      <td>NaN</td>\n",
       "      <td>NaN</td>\n",
       "      <td>NaN</td>\n",
       "    </tr>\n",
       "    <tr>\n",
       "      <th>2</th>\n",
       "      <td>ZSHC/2017/82</td>\n",
       "      <td>飞鸟残骸鉴定（常规）</td>\n",
       "      <td>杭州萧山国际机场有限公司</td>\n",
       "      <td>2018.4.9</td>\n",
       "      <td>2018041645361</td>\n",
       "      <td>NaN</td>\n",
       "      <td>NaN</td>\n",
       "      <td>20180416</td>\n",
       "      <td>ZSHC-2017-82</td>\n",
       "      <td>45361</td>\n",
       "      <td>MF8026</td>\n",
       "      <td>3</td>\n",
       "      <td>NaN</td>\n",
       "      <td>NaN</td>\n",
       "      <td>NaN</td>\n",
       "      <td>NaN</td>\n",
       "      <td>NaN</td>\n",
       "      <td>NaN</td>\n",
       "      <td>NaN</td>\n",
       "    </tr>\n",
       "    <tr>\n",
       "      <th>3</th>\n",
       "      <td>ZSHC/2017/83</td>\n",
       "      <td>飞鸟残骸鉴定（常规）</td>\n",
       "      <td>杭州萧山国际机场有限公司</td>\n",
       "      <td>2018.4.9</td>\n",
       "      <td>2018041640074</td>\n",
       "      <td>NaN</td>\n",
       "      <td>NaN</td>\n",
       "      <td>20180416</td>\n",
       "      <td>ZSHC-2017-83</td>\n",
       "      <td>40074</td>\n",
       "      <td>JD5351</td>\n",
       "      <td>4</td>\n",
       "      <td>NaN</td>\n",
       "      <td>NaN</td>\n",
       "      <td>NaN</td>\n",
       "      <td>NaN</td>\n",
       "      <td>NaN</td>\n",
       "      <td>NaN</td>\n",
       "      <td>NaN</td>\n",
       "    </tr>\n",
       "    <tr>\n",
       "      <th>4</th>\n",
       "      <td>ZSHC/2018/01</td>\n",
       "      <td>飞鸟残骸鉴定（常规）</td>\n",
       "      <td>杭州萧山国际机场有限公司</td>\n",
       "      <td>2018.4.9</td>\n",
       "      <td>2018041679772</td>\n",
       "      <td>NaN</td>\n",
       "      <td>NaN</td>\n",
       "      <td>20180416</td>\n",
       "      <td>ZSHC-2018-01</td>\n",
       "      <td>79772</td>\n",
       "      <td>CA1704</td>\n",
       "      <td>5</td>\n",
       "      <td>NaN</td>\n",
       "      <td>NaN</td>\n",
       "      <td>NaN</td>\n",
       "      <td>NaN</td>\n",
       "      <td>NaN</td>\n",
       "      <td>NaN</td>\n",
       "      <td>NaN</td>\n",
       "    </tr>\n",
       "  </tbody>\n",
       "</table>\n",
       "</div>"
      ],
      "text/plain": [
       "  sample_code_x detection_items    department order_date      order_num  \\\n",
       "0  ZSHC/2017/81      飞鸟残骸鉴定（常规）  杭州萧山国际机场有限公司   2018.4.9  2018041664591   \n",
       "1  ZSHC/2017/80      飞鸟残骸鉴定（常规）  杭州萧山国际机场有限公司   2018.4.9  2018041664812   \n",
       "2  ZSHC/2017/82      飞鸟残骸鉴定（常规）  杭州萧山国际机场有限公司   2018.4.9  2018041645361   \n",
       "3  ZSHC/2017/83      飞鸟残骸鉴定（常规）  杭州萧山国际机场有限公司   2018.4.9  2018041640074   \n",
       "4  ZSHC/2018/01      飞鸟残骸鉴定（常规）  杭州萧山国际机场有限公司   2018.4.9  2018041679772   \n",
       "\n",
       "   report_date  conclusion receive_date sample_code_format random_num  \\\n",
       "0          NaN         NaN     20180416       ZSHC-2017-81      64591   \n",
       "1          NaN         NaN     20180416       ZSHC-2017-80      64812   \n",
       "2          NaN         NaN     20180416       ZSHC-2017-82      45361   \n",
       "3          NaN         NaN     20180416       ZSHC-2017-83      40074   \n",
       "4          NaN         NaN     20180416       ZSHC-2018-01      79772   \n",
       "\n",
       "  event_flight  id  Unnamed: 0  date code gene_name file_name path  \\\n",
       "0       9C8555   1         NaN   NaN  NaN       NaN       NaN  NaN   \n",
       "1       JD0472   2         NaN   NaN  NaN       NaN       NaN  NaN   \n",
       "2       MF8026   3         NaN   NaN  NaN       NaN       NaN  NaN   \n",
       "3       JD5351   4         NaN   NaN  NaN       NaN       NaN  NaN   \n",
       "4       CA1704   5         NaN   NaN  NaN       NaN       NaN  NaN   \n",
       "\n",
       "  sample_code_y  \n",
       "0           NaN  \n",
       "1           NaN  \n",
       "2           NaN  \n",
       "3           NaN  \n",
       "4           NaN  "
      ]
     },
     "execution_count": 124,
     "metadata": {},
     "output_type": "execute_result"
    }
   ],
   "source": [
    "\n",
    "\n",
    "# 订单关联到各个渠道\n",
    "result_df.head()"
   ]
  },
  {
   "cell_type": "markdown",
   "metadata": {},
   "source": [
    "由于订单里的渠道名不统一，且同一个渠道还有不同的名，在此统一一下：\n",
    "```\n",
    "珠港机场管理有限公司\t珠港机场管理有限公司\n",
    "重庆机场集团公司飞行区管理部\t重庆机场集团公司飞行区管理部\n",
    "郑州新郑国际机场场道管理部鸟击防范室\t郑州新郑国际机场场道管理部鸟击防范室\n",
    "浙江省义乌机场管理有限公司\t浙江省义乌机场管理有限公司\n",
    "长沙黄花国际机场分公司飞行区管理部\t长沙黄花国际机场分公司飞行区管理部\n",
    "徐州机场\t徐州机场\n",
    "武汉机场\t武汉机场\n",
    "天津滨海国际机场\t天津滨海国际机场\n",
    "深圳市机场股份有限公司\t深圳机场\n",
    "深圳机场股份有限公司\t深圳机场\n",
    "深圳机场\t深圳机场\n",
    "上海浦东国际机场\t上海浦东国际机场\n",
    "山东临沂机场\t山东临沂机场\n",
    "南通兴东国际机场\t南通兴东国际机场\n",
    "南宁吴圩国际机场\t南宁吴圩国际机场\n",
    "南宁机场修缮动力部\t南宁吴圩国际机场\n",
    "揭阳潮汕机场\t揭阳潮汕机场\n",
    "杭州萧山国际机场有限公司\t杭州萧山国际机场\n",
    "杭州萧山国际机场股份公司飞行区管理中心\t杭州萧山国际机场\n",
    "杭州萧山国际机场\t杭州萧山国际机场\n",
    "广州白云国际机场股份有限公司\t广州白云国际机场\n",
    "广州白云国际机场飞行区管理部生态管理部\t广州白云国际机场\n",
    "广州白云国际机场\t广州白云国际机场\n",
    "大连周水子国际机场\t大连周水子国际机场\n",
    "大连国际机场股份公司飞行区管理部\t大连周水子国际机场\n",
    "常州国际机场有限公司\t常州国际机场有限公司\n",
    "北京大兴国际机场\t北京大兴国际机场\n",
    "\n",
    "```"
   ]
  },
  {
   "cell_type": "code",
   "execution_count": 143,
   "metadata": {},
   "outputs": [
    {
     "name": "stdout",
     "output_type": "stream",
     "text": [
      "{'珠港机场管理有限公司': '珠港机场管理有限公司', '重庆机场集团公司飞行区管理部': '重庆机场集团公司飞行区管理部', '郑州新郑国际机场场道管理部鸟击防范室': '郑州新郑国际机场场道管理部鸟击防范室', '浙江省义乌机场管理有限公司': '浙江省义乌机场管理有限公司', '长沙黄花国际机场分公司飞行区管理部': '长沙黄花国际机场分公司飞行区管理部', '徐州机场': '徐州机场', '武汉机场': '武汉机场', '天津滨海国际机场': '天津滨海国际机场', '深圳市机场股份有限公司': '深圳机场', '深圳机场股份有限公司': '深圳机场', '深圳机场': '深圳机场', '上海浦东国际机场': '上海浦东国际机场', '山东临沂机场': '山东临沂机场', '南通兴东国际机场': '南通兴东国际机场', '南宁吴圩国际机场': '南宁吴圩国际机场', '南宁机场修缮动力部': '南宁吴圩国际机场', '揭阳潮汕机场': '揭阳潮汕机场', '杭州萧山国际机场有限公司': '杭州萧山国际机场', '杭州萧山国际机场股份公司飞行区管理中心': '杭州萧山国际机场', '杭州萧山国际机场': '杭州萧山国际机场', '广州白云国际机场股份有限公司': '广州白云国际机场', '广州白云国际机场飞行区管理部生态管理部': '广州白云国际机场', '广州白云国际机场': '广州白云国际机场', '大连周水子国际机场': '大连周水子国际机场', '大连国际机场股份公司飞行区管理部': '大连周水子国际机场', '常州国际机场有限公司': '常州国际机场有限公司', '北京大兴国际机场': '北京大兴国际机场'}\n"
     ]
    }
   ],
   "source": [
    "diff_lst = ['珠港机场管理有限公司','重庆机场集团公司飞行区管理部','郑州新郑国际机场场道管理部鸟击防范室','浙江省义乌机场管理有限公司','长沙黄花国际机场分公司飞行区管理部',\n",
    "            '徐州机场','武汉机场','天津滨海国际机场','深圳市机场股份有限公司','深圳机场股份有限公司','深圳机场','上海浦东国际机场','山东临沂机场','南通兴东国际机场',\n",
    "            '南宁吴圩国际机场','南宁机场修缮动力部','揭阳潮汕机场','杭州萧山国际机场有限公司','杭州萧山国际机场股份公司飞行区管理中心','杭州萧山国际机场','广州白云国际机场股份有限公司',\n",
    "            '广州白云国际机场飞行区管理部生态管理部','广州白云国际机场','大连周水子国际机场','大连国际机场股份公司飞行区管理部','常州国际机场有限公司','北京大兴国际机场']\n",
    "\n",
    "same_lst = ['珠港机场管理有限公司','重庆机场集团公司飞行区管理部','郑州新郑国际机场场道管理部鸟击防范室','浙江省义乌机场管理有限公司','长沙黄花国际机场分公司飞行区管理部',\n",
    "'徐州机场','武汉机场','天津滨海国际机场','深圳机场','深圳机场','深圳机场','上海浦东国际机场','山东临沂机场','南通兴东国际机场','南宁吴圩国际机场','南宁吴圩国际机场','揭阳潮汕机场',\n",
    "'杭州萧山国际机场','杭州萧山国际机场','杭州萧山国际机场','广州白云国际机场','广州白云国际机场','广州白云国际机场','大连周水子国际机场','大连周水子国际机场','常州国际机场有限公司','北京大兴国际机场']\n",
    "\n",
    "airport_dict = dict(zip(diff_lst,same_lst))\n",
    "\n",
    "print(airport_dict)"
   ]
  },
  {
   "cell_type": "code",
   "execution_count": 128,
   "metadata": {},
   "outputs": [],
   "source": [
    "# 加入各个机场（渠道）信息\n",
    "for i in range(len(same_lst)):\n",
    "    c = Channel.query.filter_by(name=same_lst[i]).first()\n",
    "    if not c :\n",
    "        c = Channel('',same_lst[i])\n",
    "        db.session.add(c)\n",
    "db.session.commit()"
   ]
  },
  {
   "cell_type": "code",
   "execution_count": 130,
   "metadata": {},
   "outputs": [],
   "source": [
    "# 创建用户信息：\n",
    "for i in range(len(same_lst)):\n",
    "    u = User.query.filter_by(username=same_lst[i]).first()\n",
    "    if not u :\n",
    "        u = User()\n",
    "        u.username = same_lst[i]\n",
    "        u.set_password('123456')\n",
    "        \n",
    "        c = Channel.query.filter_by(name=same_lst[i]).first()\n",
    "        u.channel =c \n",
    "        db.session.add(u)\n",
    "db.session.commit()"
   ]
  },
  {
   "cell_type": "code",
   "execution_count": 144,
   "metadata": {},
   "outputs": [
    {
     "name": "stdout",
     "output_type": "stream",
     "text": [
      "finish\n"
     ]
    }
   ],
   "source": [
    "\n",
    "# 将订单与渠道管理\n",
    "\n",
    "order_lst = OrderSeq.query.all()\n",
    "i = 0\n",
    "for o in order_lst:\n",
    "#     print(o.department)\n",
    "#     print(o)\n",
    "#     i +=1\n",
    "#     if i ==5:\n",
    "#         break\n",
    "        \n",
    "    u = User.query.filter_by(username = airport_dict.get( o.department)).first()\n",
    "    if u:\n",
    "        o.owner = u\n",
    "        \n",
    "db.session.commit()\n",
    "print('finish')"
   ]
  },
  {
   "cell_type": "code",
   "execution_count": 145,
   "metadata": {},
   "outputs": [
    {
     "name": "stdout",
     "output_type": "stream",
     "text": [
      "<User 杭州萧山国际机场>\n",
      "--\n"
     ]
    }
   ],
   "source": [
    "o = OrderSeq.query.first()\n",
    "print(o.owner)\n",
    "# users = User.query.all()\n",
    "# for u in users:\n",
    "#     print(u.orders_seq.all())\n",
    "print('--')"
   ]
  },
  {
   "cell_type": "code",
   "execution_count": null,
   "metadata": {},
   "outputs": [],
   "source": []
  }
 ],
 "metadata": {
  "kernelspec": {
   "display_name": "bird_strike_venvpy3",
   "language": "python",
   "name": "bird_strike_venvpy3"
  },
  "language_info": {
   "codemirror_mode": {
    "name": "ipython",
    "version": 3
   },
   "file_extension": ".py",
   "mimetype": "text/x-python",
   "name": "python",
   "nbconvert_exporter": "python",
   "pygments_lexer": "ipython3",
   "version": "3.7.2"
  }
 },
 "nbformat": 4,
 "nbformat_minor": 2
}
