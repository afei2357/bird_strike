{
 "cells": [
  {
   "cell_type": "code",
   "execution_count": 1,
   "metadata": {},
   "outputs": [],
   "source": [
    "import pandas as pd\n",
    "import numpy as np\n",
    "from numpy import nan \n",
    "import random"
   ]
  },
  {
   "cell_type": "code",
   "execution_count": 2,
   "metadata": {},
   "outputs": [],
   "source": [
    "order_df = pd.read_csv('order.table.xls',header=0,sep='\\t')\n",
    "dna_df = pd.read_csv('DNA.table.xls',header=0,sep='\\t')\n",
    "delivery_df = pd.read_csv('delivery.table.xls',header=0,sep='\\t')\n",
    " "
   ]
  },
  {
   "cell_type": "code",
   "execution_count": 3,
   "metadata": {},
   "outputs": [
    {
     "data": {
      "text/html": [
       "<div>\n",
       "<style scoped>\n",
       "    .dataframe tbody tr th:only-of-type {\n",
       "        vertical-align: middle;\n",
       "    }\n",
       "\n",
       "    .dataframe tbody tr th {\n",
       "        vertical-align: top;\n",
       "    }\n",
       "\n",
       "    .dataframe thead th {\n",
       "        text-align: right;\n",
       "    }\n",
       "</style>\n",
       "<table border=\"1\" class=\"dataframe\">\n",
       "  <thead>\n",
       "    <tr style=\"text-align: right;\">\n",
       "      <th></th>\n",
       "      <th>sample_code</th>\n",
       "      <th>detection_items</th>\n",
       "      <th>department</th>\n",
       "      <th>order_date</th>\n",
       "      <th>order_num</th>\n",
       "      <th>report_date</th>\n",
       "      <th>conclusion</th>\n",
       "    </tr>\n",
       "  </thead>\n",
       "  <tbody>\n",
       "    <tr>\n",
       "      <th>0</th>\n",
       "      <td>ZSHC/2017/81</td>\n",
       "      <td>飞鸟残骸鉴定（常规）</td>\n",
       "      <td>杭州萧山国际机场有限公司</td>\n",
       "      <td>2018.4.9</td>\n",
       "      <td>NaN</td>\n",
       "      <td>NaN</td>\n",
       "      <td>NaN</td>\n",
       "    </tr>\n",
       "    <tr>\n",
       "      <th>1</th>\n",
       "      <td>ZSHC/2017/80</td>\n",
       "      <td>飞鸟残骸鉴定（常规）</td>\n",
       "      <td>杭州萧山国际机场有限公司</td>\n",
       "      <td>2018.4.9</td>\n",
       "      <td>NaN</td>\n",
       "      <td>NaN</td>\n",
       "      <td>NaN</td>\n",
       "    </tr>\n",
       "    <tr>\n",
       "      <th>2</th>\n",
       "      <td>ZSHC/2017/82</td>\n",
       "      <td>飞鸟残骸鉴定（常规）</td>\n",
       "      <td>杭州萧山国际机场有限公司</td>\n",
       "      <td>2018.4.9</td>\n",
       "      <td>NaN</td>\n",
       "      <td>NaN</td>\n",
       "      <td>NaN</td>\n",
       "    </tr>\n",
       "    <tr>\n",
       "      <th>3</th>\n",
       "      <td>ZSHC/2017/83</td>\n",
       "      <td>飞鸟残骸鉴定（常规）</td>\n",
       "      <td>杭州萧山国际机场有限公司</td>\n",
       "      <td>2018.4.9</td>\n",
       "      <td>NaN</td>\n",
       "      <td>NaN</td>\n",
       "      <td>NaN</td>\n",
       "    </tr>\n",
       "    <tr>\n",
       "      <th>4</th>\n",
       "      <td>ZSHC/2018/01</td>\n",
       "      <td>飞鸟残骸鉴定（常规）</td>\n",
       "      <td>杭州萧山国际机场有限公司</td>\n",
       "      <td>2018.4.9</td>\n",
       "      <td>NaN</td>\n",
       "      <td>NaN</td>\n",
       "      <td>NaN</td>\n",
       "    </tr>\n",
       "    <tr>\n",
       "      <th>...</th>\n",
       "      <td>...</td>\n",
       "      <td>...</td>\n",
       "      <td>...</td>\n",
       "      <td>...</td>\n",
       "      <td>...</td>\n",
       "      <td>...</td>\n",
       "      <td>...</td>\n",
       "    </tr>\n",
       "    <tr>\n",
       "      <th>2022</th>\n",
       "      <td>20210429-0-014</td>\n",
       "      <td>飞鸟残骸鉴定（常规）</td>\n",
       "      <td>南宁吴圩国际机场</td>\n",
       "      <td>2021-05-10 00:00:00</td>\n",
       "      <td>NaN</td>\n",
       "      <td>NaN</td>\n",
       "      <td>NaN</td>\n",
       "    </tr>\n",
       "    <tr>\n",
       "      <th>2023</th>\n",
       "      <td>20210429-0-015</td>\n",
       "      <td>飞鸟残骸鉴定（常规）</td>\n",
       "      <td>南宁吴圩国际机场</td>\n",
       "      <td>2021-05-10 00:00:00</td>\n",
       "      <td>NaN</td>\n",
       "      <td>NaN</td>\n",
       "      <td>NaN</td>\n",
       "    </tr>\n",
       "    <tr>\n",
       "      <th>2024</th>\n",
       "      <td>20210429-0-016</td>\n",
       "      <td>飞鸟残骸鉴定（常规）</td>\n",
       "      <td>南宁吴圩国际机场</td>\n",
       "      <td>2021-05-10 00:00:00</td>\n",
       "      <td>NaN</td>\n",
       "      <td>NaN</td>\n",
       "      <td>NaN</td>\n",
       "    </tr>\n",
       "    <tr>\n",
       "      <th>2025</th>\n",
       "      <td>20210429-0-017</td>\n",
       "      <td>飞鸟残骸鉴定（常规）</td>\n",
       "      <td>南宁吴圩国际机场</td>\n",
       "      <td>2021-05-10 00:00:00</td>\n",
       "      <td>NaN</td>\n",
       "      <td>NaN</td>\n",
       "      <td>NaN</td>\n",
       "    </tr>\n",
       "    <tr>\n",
       "      <th>2026</th>\n",
       "      <td>ZSPD2021-003</td>\n",
       "      <td>飞鸟残骸鉴定（常规）</td>\n",
       "      <td>上海浦东国际机场</td>\n",
       "      <td>2021-05-11 00:00:00</td>\n",
       "      <td>NaN</td>\n",
       "      <td>NaN</td>\n",
       "      <td>NaN</td>\n",
       "    </tr>\n",
       "  </tbody>\n",
       "</table>\n",
       "<p>2027 rows × 7 columns</p>\n",
       "</div>"
      ],
      "text/plain": [
       "         sample_code detection_items    department           order_date  \\\n",
       "0       ZSHC/2017/81      飞鸟残骸鉴定（常规）  杭州萧山国际机场有限公司             2018.4.9   \n",
       "1       ZSHC/2017/80      飞鸟残骸鉴定（常规）  杭州萧山国际机场有限公司             2018.4.9   \n",
       "2       ZSHC/2017/82      飞鸟残骸鉴定（常规）  杭州萧山国际机场有限公司             2018.4.9   \n",
       "3       ZSHC/2017/83      飞鸟残骸鉴定（常规）  杭州萧山国际机场有限公司             2018.4.9   \n",
       "4       ZSHC/2018/01      飞鸟残骸鉴定（常规）  杭州萧山国际机场有限公司             2018.4.9   \n",
       "...              ...             ...           ...                  ...   \n",
       "2022  20210429-0-014      飞鸟残骸鉴定（常规）      南宁吴圩国际机场  2021-05-10 00:00:00   \n",
       "2023  20210429-0-015      飞鸟残骸鉴定（常规）      南宁吴圩国际机场  2021-05-10 00:00:00   \n",
       "2024  20210429-0-016      飞鸟残骸鉴定（常规）      南宁吴圩国际机场  2021-05-10 00:00:00   \n",
       "2025  20210429-0-017      飞鸟残骸鉴定（常规）      南宁吴圩国际机场  2021-05-10 00:00:00   \n",
       "2026    ZSPD2021-003      飞鸟残骸鉴定（常规）      上海浦东国际机场  2021-05-11 00:00:00   \n",
       "\n",
       "      order_num  report_date  conclusion  \n",
       "0           NaN          NaN         NaN  \n",
       "1           NaN          NaN         NaN  \n",
       "2           NaN          NaN         NaN  \n",
       "3           NaN          NaN         NaN  \n",
       "4           NaN          NaN         NaN  \n",
       "...         ...          ...         ...  \n",
       "2022        NaN          NaN         NaN  \n",
       "2023        NaN          NaN         NaN  \n",
       "2024        NaN          NaN         NaN  \n",
       "2025        NaN          NaN         NaN  \n",
       "2026        NaN          NaN         NaN  \n",
       "\n",
       "[2027 rows x 7 columns]"
      ]
     },
     "execution_count": 3,
     "metadata": {},
     "output_type": "execute_result"
    }
   ],
   "source": [
    "# order_df\n",
    "# dna_df\n",
    "# delivery_df"
   ]
  },
  {
   "cell_type": "code",
   "execution_count": 4,
   "metadata": {},
   "outputs": [],
   "source": [
    "order_df['receive_date'] = delivery_df['receive_date']"
   ]
  },
  {
   "cell_type": "code",
   "execution_count": 5,
   "metadata": {},
   "outputs": [
    {
     "data": {
      "text/plain": [
       "0        2018.4.16\n",
       "1        2018.4.16\n",
       "2        2018.4.16\n",
       "3        2018.4.16\n",
       "4        2018.4.16\n",
       "           ...    \n",
       "2022    2021-05-12\n",
       "2023    2021-05-12\n",
       "2024    2021-05-12\n",
       "2025    2021-05-12\n",
       "2026    2021-05-12\n",
       "Name: receive_date, Length: 2027, dtype: object"
      ]
     },
     "execution_count": 5,
     "metadata": {},
     "output_type": "execute_result"
    }
   ],
   "source": [
    "# order_df['receive_date'] "
   ]
  },
  {
   "cell_type": "code",
   "execution_count": 6,
   "metadata": {},
   "outputs": [],
   "source": [
    "order_df['receive_date'] = order_df['receive_date'].str.strip(' 00:00:00').str.replace('-','.')"
   ]
  },
  {
   "cell_type": "code",
   "execution_count": 7,
   "metadata": {},
   "outputs": [],
   "source": [
    "# 部分样品编码含有反斜杠，这些反斜杠在数据保存的路径被‘-’代替了 \n",
    "order_df['sample_code_format'] =  order_df['sample_code'].str.replace('/','-').str.replace(' ','-').str.replace(u'加急','jiaji')"
   ]
  },
  {
   "cell_type": "code",
   "execution_count": 8,
   "metadata": {},
   "outputs": [
    {
     "data": {
      "text/plain": [
       "sample_code                  ZBAD2021-加急1\n",
       "detection_items                飞鸟残骸鉴定（加急）\n",
       "department                       北京大兴国际机场\n",
       "order_date            2021-04-28 00:00:00\n",
       "order_num                             NaN\n",
       "report_date                           NaN\n",
       "conclusion                            NaN\n",
       "receive_date                    2021.04.3\n",
       "sample_code_format        ZBAD2021-jiaji1\n",
       "Name: 1958, dtype: object"
      ]
     },
     "execution_count": 8,
     "metadata": {},
     "output_type": "execute_result"
    }
   ],
   "source": [
    "order_df.iloc[1958,:]"
   ]
  },
  {
   "cell_type": "code",
   "execution_count": 9,
   "metadata": {},
   "outputs": [],
   "source": [
    "# 找到那些不含有日期的字符，使他为nan：\n",
    "order_df[order_df['receive_date'] == '.'] = nan\n",
    "# 填充空缺的日期：\n",
    "order_df['receive_date'].fillna(method='ffill',axis=0,inplace=True)\n",
    "\n"
   ]
  },
  {
   "cell_type": "code",
   "execution_count": 10,
   "metadata": {},
   "outputs": [],
   "source": [
    "# order_df[order_df['receive_date'].str.contains('\\b\\.\\b')]\n",
    "\n",
    "# 由于日期格式不统一，所以 将字符串都转为日期类型：\n",
    "order_df['receive_date'] = order_df['receive_date'].apply(pd.to_datetime,infer_datetime_format=True)\n"
   ]
  },
  {
   "cell_type": "code",
   "execution_count": 11,
   "metadata": {},
   "outputs": [],
   "source": [
    "# order_df['receive_date'].apply(pd.to_datetime,infer_datetime_format=True)\n",
    "# 再将日期转回字符串：\n",
    "order_df['receive_date'] = order_df['receive_date'].apply(lambda x : x.strftime('%Y%m%d'))"
   ]
  },
  {
   "cell_type": "code",
   "execution_count": 12,
   "metadata": {},
   "outputs": [],
   "source": [
    "length_df = len(order_df['receive_date'])\n",
    "order_df['random_num'] = [str(random.randint(10000, 99999)) for i in range(length_df) ]"
   ]
  },
  {
   "cell_type": "code",
   "execution_count": 13,
   "metadata": {},
   "outputs": [
    {
     "data": {
      "text/plain": [
       "0       2018041623781\n",
       "1       2018041631048\n",
       "2       2018041623287\n",
       "3       2018041680913\n",
       "4       2018041678545\n",
       "            ...      \n",
       "2022    2021051284874\n",
       "2023    2021051224897\n",
       "2024    2021051260035\n",
       "2025    2021051271675\n",
       "2026    2021051292958\n",
       "Name: order_num, Length: 2027, dtype: object"
      ]
     },
     "execution_count": 13,
     "metadata": {},
     "output_type": "execute_result"
    }
   ],
   "source": [
    "# order_df.random_num\n",
    "order_df['order_num'] = order_df['receive_date']+ order_df['random_num'] \n",
    "\n",
    "# order_df['order_num'] "
   ]
  },
  {
   "cell_type": "code",
   "execution_count": 14,
   "metadata": {},
   "outputs": [],
   "source": [
    "# 由于有部分测序路径的文件名是以航班号而非样本名来命名，所以有必要吧航班号放进来：\n",
    "order_df['event_flight']  = delivery_df['event_flight']"
   ]
  },
  {
   "cell_type": "code",
   "execution_count": 15,
   "metadata": {},
   "outputs": [],
   "source": [
    "# 测试填空值：\n",
    "# df = pd.DataFrame(np.random.randn(6,3))\n",
    "# df.iloc[1:4,1] = nan\n",
    "# df.iloc[2:5,2] = nan\n",
    "# df.fillna(method='ffill',axis=0)"
   ]
  },
  {
   "cell_type": "code",
   "execution_count": 16,
   "metadata": {},
   "outputs": [
    {
     "name": "stdout",
     "output_type": "stream",
     "text": [
      "---1\n"
     ]
    }
   ],
   "source": [
    "order_df['id'] = order_df.index +1 \n",
    "# del order_df['random_num']\n",
    "# del order_df['receive_date']\n",
    "order_df.to_csv('order_df.tsv',encoding='utf_8_sig',index=False)\n",
    "print('---1')"
   ]
  },
  {
   "cell_type": "code",
   "execution_count": 17,
   "metadata": {},
   "outputs": [],
   "source": [
    "#有些样品是没有样品名的，先挑出来，以后在处理这些样品。\n",
    "order_df_null_samplecode = order_df[order_df['sample_code'].isnull()]\n",
    "order_df_null_samplecode.to_csv('order_df_null_samplecode.tsv',encoding='utf_8_sig',index=False)"
   ]
  },
  {
   "cell_type": "code",
   "execution_count": 18,
   "metadata": {},
   "outputs": [
    {
     "data": {
      "text/plain": [
       "8     ZGGG-2018-07\n",
       "9              NaN\n",
       "10    ZGGG-2018-05\n",
       "Name: sample_code, dtype: object"
      ]
     },
     "execution_count": 18,
     "metadata": {},
     "output_type": "execute_result"
    }
   ],
   "source": [
    "\n",
    "# order_df.loc[[8,9,10],'sample_code']\n",
    "\n"
   ]
  },
  {
   "cell_type": "code",
   "execution_count": 19,
   "metadata": {},
   "outputs": [],
   "source": [
    "dna_df.to_csv('dna_df.tsv',encoding='utf_8_sig',index=False)"
   ]
  },
  {
   "cell_type": "code",
   "execution_count": 20,
   "metadata": {},
   "outputs": [],
   "source": [
    "delivery_df.to_csv('delivery_df.tsv',encoding='utf_8_sig',index=False)"
   ]
  },
  {
   "cell_type": "code",
   "execution_count": null,
   "metadata": {},
   "outputs": [],
   "source": []
  },
  {
   "cell_type": "code",
   "execution_count": 21,
   "metadata": {},
   "outputs": [],
   "source": [
    "path_df = pd.read_csv('airport.csv',header=0,sep=',')"
   ]
  },
  {
   "cell_type": "code",
   "execution_count": 22,
   "metadata": {},
   "outputs": [
    {
     "data": {
      "text/plain": [
       "<bound method NDFrame.head of       Unnamed: 0      date  code gene_name  \\\n",
       "0              0  20200427  ZSHC      cytb   \n",
       "1              1  20200427  ZSHC      cytb   \n",
       "2              2  20200427  ZSHC      cytb   \n",
       "3              3  20200427  JYCS      cytb   \n",
       "4              4  20200427  ZSHC      cytb   \n",
       "...          ...       ...   ...       ...   \n",
       "2581        2581  20200825    KN      cytb   \n",
       "2582        2582  20200825    MF      cytb   \n",
       "2583        2583  20200825    CZ      cytb   \n",
       "2584        2584  20200413  JYCS      cytb   \n",
       "2585        2585  20200413  JYCS     COI-1   \n",
       "\n",
       "                                              file_name  \\\n",
       "0     ZSHC-2020-07_L14995-H16065_C2291.L14995.PW0050...   \n",
       "1     ZSHC-2020-04_L14995-H16065_C2291.L14995.PW0050...   \n",
       "2     ZSHC-2020-02_L14995-H16065_C2291.L14995.PW0050...   \n",
       "3     JYCS2020-03_L14995-H16065_C2291.L14995.PW00509...   \n",
       "4     ZSHC-2020-03_L14995-H16065_C2291.L14995.PW0050...   \n",
       "...                                                 ...   \n",
       "2581  KN2928_L14995-H16065_C2777.L14995.PW009022109.seq   \n",
       "2582  MF8169_L14995-H16065_C2777.L14995.PW009022080.seq   \n",
       "2583  CZ6715_L14995-H16065_C2777.L14995.PW009022092.seq   \n",
       "2584  JYCS2020-01_L14995-H16065_C2243.L14995.PW00417...   \n",
       "2585  JYCS2020-01_COI-1_C2243.COI-1-bird-F.PW0041701...   \n",
       "\n",
       "                                                   path   sample_code  \n",
       "0     bird_strike/20200427&20200506潮汕机场2个萧山机场7个样品结果/...  ZSHC-2020-07  \n",
       "1     bird_strike/20200427&20200506潮汕机场2个萧山机场7个样品结果/...  ZSHC-2020-04  \n",
       "2     bird_strike/20200427&20200506潮汕机场2个萧山机场7个样品结果/...  ZSHC-2020-02  \n",
       "3     bird_strike/20200427&20200506潮汕机场2个萧山机场7个样品结果/...   JYCS2020-03  \n",
       "4     bird_strike/20200427&20200506潮汕机场2个萧山机场7个样品结果/...  ZSHC-2020-03  \n",
       "...                                                 ...           ...  \n",
       "2581  bird_strike/20200825&0826萧山机场4个&北京大兴机场44个样品结果/...        KN2928  \n",
       "2582  bird_strike/20200825&0826萧山机场4个&北京大兴机场44个样品结果/...        MF8169  \n",
       "2583  bird_strike/20200825&0826萧山机场4个&北京大兴机场44个样品结果/...        CZ6715  \n",
       "2584  bird_strike/20200413潮汕机场1个样品结果/测序结果/cytb/JYCS2...   JYCS2020-01  \n",
       "2585  bird_strike/20200413潮汕机场1个样品结果/测序结果/COI/JYCS20...   JYCS2020-01  \n",
       "\n",
       "[2586 rows x 7 columns]>"
      ]
     },
     "execution_count": 22,
     "metadata": {},
     "output_type": "execute_result"
    }
   ],
   "source": [
    "# path_df.head"
   ]
  },
  {
   "cell_type": "code",
   "execution_count": 23,
   "metadata": {},
   "outputs": [],
   "source": [
    "result_df = pd.merge(order_df,path_df,left_on=['sample_code_format'],right_on=['sample_code'],how='outer')\n",
    "result_df_event_flight = pd.merge(order_df,path_df,left_on=['event_flight'],right_on=['sample_code'],how='inner') # "
   ]
  },
  {
   "cell_type": "code",
   "execution_count": 24,
   "metadata": {},
   "outputs": [],
   "source": [
    "result_df.to_csv('result_df.tsv',encoding='utf_8_sig',index=False)\n",
    "result_df_event_flight.to_csv('result_df_event_flight.tsv',encoding='utf_8_sig',index=False)"
   ]
  },
  {
   "cell_type": "code",
   "execution_count": 25,
   "metadata": {},
   "outputs": [
    {
     "data": {
      "text/plain": [
       "'ZBAD2021-jiaji1'"
      ]
     },
     "execution_count": 25,
     "metadata": {},
     "output_type": "execute_result"
    }
   ],
   "source": [
    "s = 'ZBAD2021-加急1'\n",
    "s.replace('加急','jiaji')"
   ]
  },
  {
   "cell_type": "code",
   "execution_count": 26,
   "metadata": {},
   "outputs": [
    {
     "data": {
      "text/plain": [
       "'ZBAD2021-加急1'"
      ]
     },
     "execution_count": 26,
     "metadata": {},
     "output_type": "execute_result"
    }
   ],
   "source": [
    "# s"
   ]
  },
  {
   "cell_type": "code",
   "execution_count": 27,
   "metadata": {},
   "outputs": [
    {
     "data": {
      "text/html": [
       "<div>\n",
       "<style scoped>\n",
       "    .dataframe tbody tr th:only-of-type {\n",
       "        vertical-align: middle;\n",
       "    }\n",
       "\n",
       "    .dataframe tbody tr th {\n",
       "        vertical-align: top;\n",
       "    }\n",
       "\n",
       "    .dataframe thead th {\n",
       "        text-align: right;\n",
       "    }\n",
       "</style>\n",
       "<table border=\"1\" class=\"dataframe\">\n",
       "  <thead>\n",
       "    <tr style=\"text-align: right;\">\n",
       "      <th></th>\n",
       "      <th>sample_code</th>\n",
       "      <th>detection_items</th>\n",
       "      <th>department</th>\n",
       "      <th>order_date</th>\n",
       "      <th>order_num</th>\n",
       "      <th>report_date</th>\n",
       "      <th>conclusion</th>\n",
       "      <th>receive_date</th>\n",
       "      <th>sample_code_format</th>\n",
       "      <th>random_num</th>\n",
       "      <th>event_flight</th>\n",
       "      <th>id</th>\n",
       "    </tr>\n",
       "  </thead>\n",
       "  <tbody>\n",
       "    <tr>\n",
       "      <th>1849</th>\n",
       "      <td>ZGGG-2020-62</td>\n",
       "      <td>飞鸟残骸鉴定（常规）</td>\n",
       "      <td>广州白云国际机场飞行区管理部生态管理部</td>\n",
       "      <td>2020-12-20 00:00:00</td>\n",
       "      <td>2020122245946</td>\n",
       "      <td>NaN</td>\n",
       "      <td>NaN</td>\n",
       "      <td>20201222</td>\n",
       "      <td>ZGGG-2020-62</td>\n",
       "      <td>45946</td>\n",
       "      <td>ZGGG-2020-194</td>\n",
       "      <td>1850</td>\n",
       "    </tr>\n",
       "    <tr>\n",
       "      <th>1850</th>\n",
       "      <td>ZGGG-2020-63</td>\n",
       "      <td>飞鸟残骸鉴定（常规）</td>\n",
       "      <td>广州白云国际机场飞行区管理部生态管理部</td>\n",
       "      <td>2020-12-20 00:00:00</td>\n",
       "      <td>2020122231010</td>\n",
       "      <td>NaN</td>\n",
       "      <td>NaN</td>\n",
       "      <td>20201222</td>\n",
       "      <td>ZGGG-2020-63</td>\n",
       "      <td>31010</td>\n",
       "      <td>ZGGG-2020-202</td>\n",
       "      <td>1851</td>\n",
       "    </tr>\n",
       "  </tbody>\n",
       "</table>\n",
       "</div>"
      ],
      "text/plain": [
       "       sample_code detection_items           department           order_date  \\\n",
       "1849  ZGGG-2020-62      飞鸟残骸鉴定（常规）  广州白云国际机场飞行区管理部生态管理部  2020-12-20 00:00:00   \n",
       "1850  ZGGG-2020-63      飞鸟残骸鉴定（常规）  广州白云国际机场飞行区管理部生态管理部  2020-12-20 00:00:00   \n",
       "\n",
       "          order_num  report_date  conclusion receive_date sample_code_format  \\\n",
       "1849  2020122245946          NaN         NaN     20201222       ZGGG-2020-62   \n",
       "1850  2020122231010          NaN         NaN     20201222       ZGGG-2020-63   \n",
       "\n",
       "     random_num   event_flight    id  \n",
       "1849      45946  ZGGG-2020-194  1850  \n",
       "1850      31010  ZGGG-2020-202  1851  "
      ]
     },
     "execution_count": 27,
     "metadata": {},
     "output_type": "execute_result"
    }
   ],
   "source": [
    "# order_df.iloc[[1849,1850],:]"
   ]
  },
  {
   "cell_type": "code",
   "execution_count": 28,
   "metadata": {},
   "outputs": [
    {
     "name": "stdout",
     "output_type": "stream",
     "text": [
      "--\n"
     ]
    }
   ],
   "source": [
    "print('--')"
   ]
  },
  {
   "cell_type": "code",
   "execution_count": 29,
   "metadata": {},
   "outputs": [
    {
     "data": {
      "text/plain": [
       "0       9C8555\n",
       "1       JD0472\n",
       "2       MF8026\n",
       "3       JD5351\n",
       "4       CA1704\n",
       "         ...  \n",
       "2022    HU7095\n",
       "2023    CZ5776\n",
       "2024    CZ5762\n",
       "2025    CA1433\n",
       "2026    CA1866\n",
       "Name: event_flight, Length: 2027, dtype: object"
      ]
     },
     "execution_count": 29,
     "metadata": {},
     "output_type": "execute_result"
    }
   ],
   "source": [
    "# delivery_df['event_flight']"
   ]
  },
  {
   "cell_type": "code",
   "execution_count": 30,
   "metadata": {},
   "outputs": [],
   "source": [
    "from app import create_app\n",
    "app = create_app()\n",
    "app_context =  app.app_context()\n",
    "app_context.push()\n",
    "\n",
    "\n",
    "\n",
    "from app.models1 import *\n",
    "from app.models import *\n",
    "import random\n",
    "from datetime import datetime\n",
    "\n",
    "# 导入数据库"
   ]
  },
  {
   "cell_type": "code",
   "execution_count": 31,
   "metadata": {},
   "outputs": [
    {
     "ename": "ArgumentError",
     "evalue": "relationship 'DNA_info' expects a class or a mapper argument (received: <class 'sqlalchemy.sql.schema.Table'>)",
     "output_type": "error",
     "traceback": [
      "\u001b[0;31m---------------------------------------------------------------------------\u001b[0m",
      "\u001b[0;31mArgumentError\u001b[0m                             Traceback (most recent call last)",
      "\u001b[0;32m<ipython-input-31-ef3bd0b19462>\u001b[0m in \u001b[0;36m<module>\u001b[0;34m\u001b[0m\n\u001b[1;32m     11\u001b[0m         \u001b[0mdb\u001b[0m\u001b[0;34m.\u001b[0m\u001b[0msession\u001b[0m\u001b[0;34m.\u001b[0m\u001b[0madd\u001b[0m\u001b[0;34m(\u001b[0m\u001b[0mo\u001b[0m\u001b[0;34m)\u001b[0m\u001b[0;34m\u001b[0m\u001b[0;34m\u001b[0m\u001b[0m\n\u001b[1;32m     12\u001b[0m     \u001b[0;32melse\u001b[0m\u001b[0;34m:\u001b[0m\u001b[0;34m\u001b[0m\u001b[0;34m\u001b[0m\u001b[0m\n\u001b[0;32m---> 13\u001b[0;31m         \u001b[0mo\u001b[0m \u001b[0;34m=\u001b[0m \u001b[0mOrderSeq\u001b[0m\u001b[0;34m(\u001b[0m\u001b[0;34m)\u001b[0m\u001b[0;34m\u001b[0m\u001b[0;34m\u001b[0m\u001b[0m\n\u001b[0m\u001b[1;32m     14\u001b[0m         \u001b[0mo\u001b[0m\u001b[0;34m.\u001b[0m\u001b[0mfrom_dict\u001b[0m\u001b[0;34m(\u001b[0m\u001b[0mdata\u001b[0m\u001b[0;34m)\u001b[0m\u001b[0;34m\u001b[0m\u001b[0;34m\u001b[0m\u001b[0m\n\u001b[1;32m     15\u001b[0m     \u001b[0mseqData\u001b[0m \u001b[0;34m=\u001b[0m \u001b[0mSeqData\u001b[0m\u001b[0;34m(\u001b[0m\u001b[0;34m)\u001b[0m\u001b[0;34m.\u001b[0m\u001b[0mfrom_dict\u001b[0m\u001b[0;34m(\u001b[0m\u001b[0mdata\u001b[0m\u001b[0;34m)\u001b[0m\u001b[0;34m\u001b[0m\u001b[0;34m\u001b[0m\u001b[0m\n",
      "\u001b[0;32m<string>\u001b[0m in \u001b[0;36m__init__\u001b[0;34m(self, **kwargs)\u001b[0m\n",
      "\u001b[0;32m/ifs1/Reotech/project/www/bird_strike/venv/lib/python3.7/site-packages/sqlalchemy/orm/instrumentation.py\u001b[0m in \u001b[0;36m_new_state_if_none\u001b[0;34m(self, instance)\u001b[0m\n\u001b[1;32m    389\u001b[0m                 \u001b[0m_new_state_if_none\u001b[0m\u001b[0;34m(\u001b[0m\u001b[0minstance\u001b[0m\u001b[0;34m)\u001b[0m\u001b[0;34m\u001b[0m\u001b[0;34m\u001b[0m\u001b[0m\n\u001b[1;32m    390\u001b[0m         \u001b[0;32melse\u001b[0m\u001b[0;34m:\u001b[0m\u001b[0;34m\u001b[0m\u001b[0;34m\u001b[0m\u001b[0m\n\u001b[0;32m--> 391\u001b[0;31m             \u001b[0mstate\u001b[0m \u001b[0;34m=\u001b[0m \u001b[0mself\u001b[0m\u001b[0;34m.\u001b[0m\u001b[0m_state_constructor\u001b[0m\u001b[0;34m(\u001b[0m\u001b[0minstance\u001b[0m\u001b[0;34m,\u001b[0m \u001b[0mself\u001b[0m\u001b[0;34m)\u001b[0m\u001b[0;34m\u001b[0m\u001b[0;34m\u001b[0m\u001b[0m\n\u001b[0m\u001b[1;32m    392\u001b[0m             \u001b[0mself\u001b[0m\u001b[0;34m.\u001b[0m\u001b[0m_state_setter\u001b[0m\u001b[0;34m(\u001b[0m\u001b[0minstance\u001b[0m\u001b[0;34m,\u001b[0m \u001b[0mstate\u001b[0m\u001b[0;34m)\u001b[0m\u001b[0;34m\u001b[0m\u001b[0;34m\u001b[0m\u001b[0m\n\u001b[1;32m    393\u001b[0m             \u001b[0;32mreturn\u001b[0m \u001b[0mstate\u001b[0m\u001b[0;34m\u001b[0m\u001b[0;34m\u001b[0m\u001b[0m\n",
      "\u001b[0;32m/ifs1/Reotech/project/www/bird_strike/venv/lib/python3.7/site-packages/sqlalchemy/util/langhelpers.py\u001b[0m in \u001b[0;36m__get__\u001b[0;34m(self, obj, cls)\u001b[0m\n\u001b[1;32m    765\u001b[0m         \u001b[0;32mif\u001b[0m \u001b[0mobj\u001b[0m \u001b[0;32mis\u001b[0m \u001b[0;32mNone\u001b[0m\u001b[0;34m:\u001b[0m\u001b[0;34m\u001b[0m\u001b[0;34m\u001b[0m\u001b[0m\n\u001b[1;32m    766\u001b[0m             \u001b[0;32mreturn\u001b[0m \u001b[0mself\u001b[0m\u001b[0;34m\u001b[0m\u001b[0;34m\u001b[0m\u001b[0m\n\u001b[0;32m--> 767\u001b[0;31m         \u001b[0mobj\u001b[0m\u001b[0;34m.\u001b[0m\u001b[0m__dict__\u001b[0m\u001b[0;34m[\u001b[0m\u001b[0mself\u001b[0m\u001b[0;34m.\u001b[0m\u001b[0m__name__\u001b[0m\u001b[0;34m]\u001b[0m \u001b[0;34m=\u001b[0m \u001b[0mresult\u001b[0m \u001b[0;34m=\u001b[0m \u001b[0mself\u001b[0m\u001b[0;34m.\u001b[0m\u001b[0mfget\u001b[0m\u001b[0;34m(\u001b[0m\u001b[0mobj\u001b[0m\u001b[0;34m)\u001b[0m\u001b[0;34m\u001b[0m\u001b[0;34m\u001b[0m\u001b[0m\n\u001b[0m\u001b[1;32m    768\u001b[0m         \u001b[0;32mreturn\u001b[0m \u001b[0mresult\u001b[0m\u001b[0;34m\u001b[0m\u001b[0;34m\u001b[0m\u001b[0m\n\u001b[1;32m    769\u001b[0m \u001b[0;34m\u001b[0m\u001b[0m\n",
      "\u001b[0;32m/ifs1/Reotech/project/www/bird_strike/venv/lib/python3.7/site-packages/sqlalchemy/orm/instrumentation.py\u001b[0m in \u001b[0;36m_state_constructor\u001b[0;34m(self)\u001b[0m\n\u001b[1;32m    219\u001b[0m     \u001b[0;34m@\u001b[0m\u001b[0mutil\u001b[0m\u001b[0;34m.\u001b[0m\u001b[0mmemoized_property\u001b[0m\u001b[0;34m\u001b[0m\u001b[0;34m\u001b[0m\u001b[0m\n\u001b[1;32m    220\u001b[0m     \u001b[0;32mdef\u001b[0m \u001b[0m_state_constructor\u001b[0m\u001b[0;34m(\u001b[0m\u001b[0mself\u001b[0m\u001b[0;34m)\u001b[0m\u001b[0;34m:\u001b[0m\u001b[0;34m\u001b[0m\u001b[0;34m\u001b[0m\u001b[0m\n\u001b[0;32m--> 221\u001b[0;31m         \u001b[0mself\u001b[0m\u001b[0;34m.\u001b[0m\u001b[0mdispatch\u001b[0m\u001b[0;34m.\u001b[0m\u001b[0mfirst_init\u001b[0m\u001b[0;34m(\u001b[0m\u001b[0mself\u001b[0m\u001b[0;34m,\u001b[0m \u001b[0mself\u001b[0m\u001b[0;34m.\u001b[0m\u001b[0mclass_\u001b[0m\u001b[0;34m)\u001b[0m\u001b[0;34m\u001b[0m\u001b[0;34m\u001b[0m\u001b[0m\n\u001b[0m\u001b[1;32m    222\u001b[0m         \u001b[0;32mreturn\u001b[0m \u001b[0mstate\u001b[0m\u001b[0;34m.\u001b[0m\u001b[0mInstanceState\u001b[0m\u001b[0;34m\u001b[0m\u001b[0;34m\u001b[0m\u001b[0m\n\u001b[1;32m    223\u001b[0m \u001b[0;34m\u001b[0m\u001b[0m\n",
      "\u001b[0;32m/ifs1/Reotech/project/www/bird_strike/venv/lib/python3.7/site-packages/sqlalchemy/event/attr.py\u001b[0m in \u001b[0;36m__call__\u001b[0;34m(self, *args, **kw)\u001b[0m\n\u001b[1;32m    282\u001b[0m             \u001b[0mfn\u001b[0m\u001b[0;34m(\u001b[0m\u001b[0;34m*\u001b[0m\u001b[0margs\u001b[0m\u001b[0;34m,\u001b[0m \u001b[0;34m**\u001b[0m\u001b[0mkw\u001b[0m\u001b[0;34m)\u001b[0m\u001b[0;34m\u001b[0m\u001b[0;34m\u001b[0m\u001b[0m\n\u001b[1;32m    283\u001b[0m         \u001b[0;32mfor\u001b[0m \u001b[0mfn\u001b[0m \u001b[0;32min\u001b[0m \u001b[0mself\u001b[0m\u001b[0;34m.\u001b[0m\u001b[0mlisteners\u001b[0m\u001b[0;34m:\u001b[0m\u001b[0;34m\u001b[0m\u001b[0;34m\u001b[0m\u001b[0m\n\u001b[0;32m--> 284\u001b[0;31m             \u001b[0mfn\u001b[0m\u001b[0;34m(\u001b[0m\u001b[0;34m*\u001b[0m\u001b[0margs\u001b[0m\u001b[0;34m,\u001b[0m \u001b[0;34m**\u001b[0m\u001b[0mkw\u001b[0m\u001b[0;34m)\u001b[0m\u001b[0;34m\u001b[0m\u001b[0;34m\u001b[0m\u001b[0m\n\u001b[0m\u001b[1;32m    285\u001b[0m \u001b[0;34m\u001b[0m\u001b[0m\n\u001b[1;32m    286\u001b[0m     \u001b[0;32mdef\u001b[0m \u001b[0m__len__\u001b[0m\u001b[0;34m(\u001b[0m\u001b[0mself\u001b[0m\u001b[0;34m)\u001b[0m\u001b[0;34m:\u001b[0m\u001b[0;34m\u001b[0m\u001b[0;34m\u001b[0m\u001b[0m\n",
      "\u001b[0;32m/ifs1/Reotech/project/www/bird_strike/venv/lib/python3.7/site-packages/sqlalchemy/orm/mapper.py\u001b[0m in \u001b[0;36m_event_on_first_init\u001b[0;34m(manager, cls)\u001b[0m\n\u001b[1;32m   3141\u001b[0m     \u001b[0;32mif\u001b[0m \u001b[0minstrumenting_mapper\u001b[0m\u001b[0;34m:\u001b[0m\u001b[0;34m\u001b[0m\u001b[0;34m\u001b[0m\u001b[0m\n\u001b[1;32m   3142\u001b[0m         \u001b[0;32mif\u001b[0m \u001b[0mMapper\u001b[0m\u001b[0;34m.\u001b[0m\u001b[0m_new_mappers\u001b[0m\u001b[0;34m:\u001b[0m\u001b[0;34m\u001b[0m\u001b[0;34m\u001b[0m\u001b[0m\n\u001b[0;32m-> 3143\u001b[0;31m             \u001b[0mconfigure_mappers\u001b[0m\u001b[0;34m(\u001b[0m\u001b[0;34m)\u001b[0m\u001b[0;34m\u001b[0m\u001b[0;34m\u001b[0m\u001b[0m\n\u001b[0m\u001b[1;32m   3144\u001b[0m \u001b[0;34m\u001b[0m\u001b[0m\n\u001b[1;32m   3145\u001b[0m \u001b[0;34m\u001b[0m\u001b[0m\n",
      "\u001b[0;32m/ifs1/Reotech/project/www/bird_strike/venv/lib/python3.7/site-packages/sqlalchemy/orm/mapper.py\u001b[0m in \u001b[0;36mconfigure_mappers\u001b[0;34m()\u001b[0m\n\u001b[1;32m   3031\u001b[0m                 \u001b[0;32mif\u001b[0m \u001b[0;32mnot\u001b[0m \u001b[0mmapper\u001b[0m\u001b[0;34m.\u001b[0m\u001b[0mconfigured\u001b[0m\u001b[0;34m:\u001b[0m\u001b[0;34m\u001b[0m\u001b[0;34m\u001b[0m\u001b[0m\n\u001b[1;32m   3032\u001b[0m                     \u001b[0;32mtry\u001b[0m\u001b[0;34m:\u001b[0m\u001b[0;34m\u001b[0m\u001b[0;34m\u001b[0m\u001b[0m\n\u001b[0;32m-> 3033\u001b[0;31m                         \u001b[0mmapper\u001b[0m\u001b[0;34m.\u001b[0m\u001b[0m_post_configure_properties\u001b[0m\u001b[0;34m(\u001b[0m\u001b[0;34m)\u001b[0m\u001b[0;34m\u001b[0m\u001b[0;34m\u001b[0m\u001b[0m\n\u001b[0m\u001b[1;32m   3034\u001b[0m                         \u001b[0mmapper\u001b[0m\u001b[0;34m.\u001b[0m\u001b[0m_expire_memoizations\u001b[0m\u001b[0;34m(\u001b[0m\u001b[0;34m)\u001b[0m\u001b[0;34m\u001b[0m\u001b[0;34m\u001b[0m\u001b[0m\n\u001b[1;32m   3035\u001b[0m                         mapper.dispatch.mapper_configured(\n",
      "\u001b[0;32m/ifs1/Reotech/project/www/bird_strike/venv/lib/python3.7/site-packages/sqlalchemy/orm/mapper.py\u001b[0m in \u001b[0;36m_post_configure_properties\u001b[0;34m(self)\u001b[0m\n\u001b[1;32m   1830\u001b[0m \u001b[0;34m\u001b[0m\u001b[0m\n\u001b[1;32m   1831\u001b[0m             \u001b[0;32mif\u001b[0m \u001b[0mprop\u001b[0m\u001b[0;34m.\u001b[0m\u001b[0mparent\u001b[0m \u001b[0;32mis\u001b[0m \u001b[0mself\u001b[0m \u001b[0;32mand\u001b[0m \u001b[0;32mnot\u001b[0m \u001b[0mprop\u001b[0m\u001b[0;34m.\u001b[0m\u001b[0m_configure_started\u001b[0m\u001b[0;34m:\u001b[0m\u001b[0;34m\u001b[0m\u001b[0;34m\u001b[0m\u001b[0m\n\u001b[0;32m-> 1832\u001b[0;31m                 \u001b[0mprop\u001b[0m\u001b[0;34m.\u001b[0m\u001b[0minit\u001b[0m\u001b[0;34m(\u001b[0m\u001b[0;34m)\u001b[0m\u001b[0;34m\u001b[0m\u001b[0;34m\u001b[0m\u001b[0m\n\u001b[0m\u001b[1;32m   1833\u001b[0m \u001b[0;34m\u001b[0m\u001b[0m\n\u001b[1;32m   1834\u001b[0m             \u001b[0;32mif\u001b[0m \u001b[0mprop\u001b[0m\u001b[0;34m.\u001b[0m\u001b[0m_configure_finished\u001b[0m\u001b[0;34m:\u001b[0m\u001b[0;34m\u001b[0m\u001b[0;34m\u001b[0m\u001b[0m\n",
      "\u001b[0;32m/ifs1/Reotech/project/www/bird_strike/venv/lib/python3.7/site-packages/sqlalchemy/orm/interfaces.py\u001b[0m in \u001b[0;36minit\u001b[0;34m(self)\u001b[0m\n\u001b[1;32m    181\u001b[0m         \"\"\"\n\u001b[1;32m    182\u001b[0m         \u001b[0mself\u001b[0m\u001b[0;34m.\u001b[0m\u001b[0m_configure_started\u001b[0m \u001b[0;34m=\u001b[0m \u001b[0;32mTrue\u001b[0m\u001b[0;34m\u001b[0m\u001b[0;34m\u001b[0m\u001b[0m\n\u001b[0;32m--> 183\u001b[0;31m         \u001b[0mself\u001b[0m\u001b[0;34m.\u001b[0m\u001b[0mdo_init\u001b[0m\u001b[0;34m(\u001b[0m\u001b[0;34m)\u001b[0m\u001b[0;34m\u001b[0m\u001b[0;34m\u001b[0m\u001b[0m\n\u001b[0m\u001b[1;32m    184\u001b[0m         \u001b[0mself\u001b[0m\u001b[0;34m.\u001b[0m\u001b[0m_configure_finished\u001b[0m \u001b[0;34m=\u001b[0m \u001b[0;32mTrue\u001b[0m\u001b[0;34m\u001b[0m\u001b[0;34m\u001b[0m\u001b[0m\n\u001b[1;32m    185\u001b[0m \u001b[0;34m\u001b[0m\u001b[0m\n",
      "\u001b[0;32m/ifs1/Reotech/project/www/bird_strike/venv/lib/python3.7/site-packages/sqlalchemy/orm/relationships.py\u001b[0m in \u001b[0;36mdo_init\u001b[0;34m(self)\u001b[0m\n\u001b[1;32m   1653\u001b[0m     \u001b[0;32mdef\u001b[0m \u001b[0mdo_init\u001b[0m\u001b[0;34m(\u001b[0m\u001b[0mself\u001b[0m\u001b[0;34m)\u001b[0m\u001b[0;34m:\u001b[0m\u001b[0;34m\u001b[0m\u001b[0;34m\u001b[0m\u001b[0m\n\u001b[1;32m   1654\u001b[0m         \u001b[0mself\u001b[0m\u001b[0;34m.\u001b[0m\u001b[0m_check_conflicts\u001b[0m\u001b[0;34m(\u001b[0m\u001b[0;34m)\u001b[0m\u001b[0;34m\u001b[0m\u001b[0;34m\u001b[0m\u001b[0m\n\u001b[0;32m-> 1655\u001b[0;31m         \u001b[0mself\u001b[0m\u001b[0;34m.\u001b[0m\u001b[0m_process_dependent_arguments\u001b[0m\u001b[0;34m(\u001b[0m\u001b[0;34m)\u001b[0m\u001b[0;34m\u001b[0m\u001b[0;34m\u001b[0m\u001b[0m\n\u001b[0m\u001b[1;32m   1656\u001b[0m         \u001b[0mself\u001b[0m\u001b[0;34m.\u001b[0m\u001b[0m_setup_join_conditions\u001b[0m\u001b[0;34m(\u001b[0m\u001b[0;34m)\u001b[0m\u001b[0;34m\u001b[0m\u001b[0;34m\u001b[0m\u001b[0m\n\u001b[1;32m   1657\u001b[0m         \u001b[0mself\u001b[0m\u001b[0;34m.\u001b[0m\u001b[0m_check_cascade_settings\u001b[0m\u001b[0;34m(\u001b[0m\u001b[0mself\u001b[0m\u001b[0;34m.\u001b[0m\u001b[0m_cascade\u001b[0m\u001b[0;34m)\u001b[0m\u001b[0;34m\u001b[0m\u001b[0;34m\u001b[0m\u001b[0m\n",
      "\u001b[0;32m/ifs1/Reotech/project/www/bird_strike/venv/lib/python3.7/site-packages/sqlalchemy/orm/relationships.py\u001b[0m in \u001b[0;36m_process_dependent_arguments\u001b[0;34m(self)\u001b[0m\n\u001b[1;32m   1710\u001b[0m                 util.to_column_set(self.remote_side))\n\u001b[1;32m   1711\u001b[0m \u001b[0;34m\u001b[0m\u001b[0m\n\u001b[0;32m-> 1712\u001b[0;31m         \u001b[0mself\u001b[0m\u001b[0;34m.\u001b[0m\u001b[0mtarget\u001b[0m \u001b[0;34m=\u001b[0m \u001b[0mself\u001b[0m\u001b[0;34m.\u001b[0m\u001b[0mmapper\u001b[0m\u001b[0;34m.\u001b[0m\u001b[0mmapped_table\u001b[0m\u001b[0;34m\u001b[0m\u001b[0;34m\u001b[0m\u001b[0m\n\u001b[0m\u001b[1;32m   1713\u001b[0m \u001b[0;34m\u001b[0m\u001b[0m\n\u001b[1;32m   1714\u001b[0m     \u001b[0;32mdef\u001b[0m \u001b[0m_setup_join_conditions\u001b[0m\u001b[0;34m(\u001b[0m\u001b[0mself\u001b[0m\u001b[0;34m)\u001b[0m\u001b[0;34m:\u001b[0m\u001b[0;34m\u001b[0m\u001b[0;34m\u001b[0m\u001b[0m\n",
      "\u001b[0;32m/ifs1/Reotech/project/www/bird_strike/venv/lib/python3.7/site-packages/sqlalchemy/util/langhelpers.py\u001b[0m in \u001b[0;36m__get__\u001b[0;34m(self, obj, cls)\u001b[0m\n\u001b[1;32m    765\u001b[0m         \u001b[0;32mif\u001b[0m \u001b[0mobj\u001b[0m \u001b[0;32mis\u001b[0m \u001b[0;32mNone\u001b[0m\u001b[0;34m:\u001b[0m\u001b[0;34m\u001b[0m\u001b[0;34m\u001b[0m\u001b[0m\n\u001b[1;32m    766\u001b[0m             \u001b[0;32mreturn\u001b[0m \u001b[0mself\u001b[0m\u001b[0;34m\u001b[0m\u001b[0;34m\u001b[0m\u001b[0m\n\u001b[0;32m--> 767\u001b[0;31m         \u001b[0mobj\u001b[0m\u001b[0;34m.\u001b[0m\u001b[0m__dict__\u001b[0m\u001b[0;34m[\u001b[0m\u001b[0mself\u001b[0m\u001b[0;34m.\u001b[0m\u001b[0m__name__\u001b[0m\u001b[0;34m]\u001b[0m \u001b[0;34m=\u001b[0m \u001b[0mresult\u001b[0m \u001b[0;34m=\u001b[0m \u001b[0mself\u001b[0m\u001b[0;34m.\u001b[0m\u001b[0mfget\u001b[0m\u001b[0;34m(\u001b[0m\u001b[0mobj\u001b[0m\u001b[0;34m)\u001b[0m\u001b[0;34m\u001b[0m\u001b[0;34m\u001b[0m\u001b[0m\n\u001b[0m\u001b[1;32m    768\u001b[0m         \u001b[0;32mreturn\u001b[0m \u001b[0mresult\u001b[0m\u001b[0;34m\u001b[0m\u001b[0;34m\u001b[0m\u001b[0m\n\u001b[1;32m    769\u001b[0m \u001b[0;34m\u001b[0m\u001b[0m\n",
      "\u001b[0;32m/ifs1/Reotech/project/www/bird_strike/venv/lib/python3.7/site-packages/sqlalchemy/orm/relationships.py\u001b[0m in \u001b[0;36mmapper\u001b[0;34m(self)\u001b[0m\n\u001b[1;32m   1639\u001b[0m                 \u001b[0;34m\"relationship '%s' expects \"\u001b[0m\u001b[0;34m\u001b[0m\u001b[0;34m\u001b[0m\u001b[0m\n\u001b[1;32m   1640\u001b[0m                 \u001b[0;34m\"a class or a mapper argument (received: %s)\"\u001b[0m\u001b[0;34m\u001b[0m\u001b[0;34m\u001b[0m\u001b[0m\n\u001b[0;32m-> 1641\u001b[0;31m                 % (self.key, type(argument)))\n\u001b[0m\u001b[1;32m   1642\u001b[0m         \u001b[0;32mreturn\u001b[0m \u001b[0mmapper_\u001b[0m\u001b[0;34m\u001b[0m\u001b[0;34m\u001b[0m\u001b[0m\n\u001b[1;32m   1643\u001b[0m \u001b[0;34m\u001b[0m\u001b[0m\n",
      "\u001b[0;31mArgumentError\u001b[0m: relationship 'DNA_info' expects a class or a mapper argument (received: <class 'sqlalchemy.sql.schema.Table'>)"
     ]
    }
   ],
   "source": [
    "old_id = None\n",
    "i = 0\n",
    "for ix,val in result_df.iterrows():\n",
    "    data = val.to_dict()\n",
    "    id =  data.get('id')\n",
    "    if not id:\n",
    "        break\n",
    "    if old_id == id: # 说明上一行已经保存过了，只需要将测序记录联系在这个订单上即可\n",
    "        o = OrderSeq.query.filter_by(id=id).first()\n",
    "#         pass\n",
    "        db.session.add(o)\n",
    "    else:\n",
    "        o = OrderSeq()\n",
    "        o.from_dict(data)\n",
    "    seqData = SeqData()\n",
    "    seqData.from_dict(data)\n",
    "    o.seqData.append(seqData)\n",
    "    db.session.add(seqData)\n",
    "    \n",
    "    old_id = data.get('id')\n",
    "    \n",
    "    i+= 1\n",
    "    if i%100 == 0:\n",
    "        db.session.commit()\n",
    "        \n",
    "db.session.commit()\n",
    "print('finish ')\n",
    "app_context.pop()"
   ]
  },
  {
   "cell_type": "code",
   "execution_count": null,
   "metadata": {},
   "outputs": [],
   "source": [
    "# OrderSeq.__table__.columns.keys()"
   ]
  },
  {
   "cell_type": "code",
   "execution_count": null,
   "metadata": {},
   "outputs": [],
   "source": []
  }
 ],
 "metadata": {
  "kernelspec": {
   "display_name": "bird_strike_venvpy3",
   "language": "python",
   "name": "bird_strike_venvpy3"
  },
  "language_info": {
   "codemirror_mode": {
    "name": "ipython",
    "version": 3
   },
   "file_extension": ".py",
   "mimetype": "text/x-python",
   "name": "python",
   "nbconvert_exporter": "python",
   "pygments_lexer": "ipython3",
   "version": "3.7.2"
  }
 },
 "nbformat": 4,
 "nbformat_minor": 2
}
