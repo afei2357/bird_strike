{
 "cells": [
  {
   "cell_type": "code",
   "execution_count": 1,
   "metadata": {},
   "outputs": [],
   "source": [
    "import glob\n",
    "import pandas as pd\n",
    "import numpy as np\n",
    "import re,os\n",
    "import time,random"
   ]
  },
  {
   "cell_type": "code",
   "execution_count": 2,
   "metadata": {},
   "outputs": [
    {
     "name": "stdout",
     "output_type": "stream",
     "text": [
      "2586\n"
     ]
    }
   ],
   "source": [
    "files_seq = []\n",
    "for fi_seq in glob.iglob('bird_strike/*20*/**/*.seq', recursive=True) :\n",
    "# for fi_seq in glob.iglob('*.seq', recursive=True) :\n",
    "    files_seq.append(fi_seq)\n",
    "print(len(files_seq))"
   ]
  },
  {
   "cell_type": "code",
   "execution_count": 3,
   "metadata": {},
   "outputs": [
    {
     "data": {
      "text/plain": [
       "('20200427',)"
      ]
     },
     "execution_count": 3,
     "metadata": {},
     "output_type": "execute_result"
    }
   ],
   "source": [
    "s = 'bird_strike20200427&20200506潮汕机场2个萧山机场7个样品结果/测序结果/cytb/良好/ZSHC-2020-07_L14995-H16065_C2291.L14995.PW005090042.seq'\n",
    "re.search(r'(?<=bird_strike)(\\d+)',s).groups()"
   ]
  },
  {
   "cell_type": "code",
   "execution_count": 4,
   "metadata": {},
   "outputs": [
    {
     "name": "stdout",
     "output_type": "stream",
     "text": [
      "bird_strike/20200427&20200506潮汕机场2个萧山机场7个样品结果/测序结果/cytb/良好/ZSHC-2020-07_L14995-H16065_C2291.L14995.PW005090042.seq\n",
      "bird_strike/20200427&20200506潮汕机场2个萧山机场7个样品结果/测序结果/cytb/良好/ZSHC-2020-04_L14995-H16065_C2291.L14995.PW005090036.seq\n",
      "bird_strike/20200427&20200506潮汕机场2个萧山机场7个样品结果/测序结果/cytb/良好/ZSHC-2020-02_L14995-H16065_C2291.L14995.PW005090028.seq\n"
     ]
    },
    {
     "data": {
      "text/plain": [
       "[None, None, None]"
      ]
     },
     "execution_count": 4,
     "metadata": {},
     "output_type": "execute_result"
    }
   ],
   "source": [
    "[print(i) for i in files_seq[:3]]"
   ]
  },
  {
   "cell_type": "code",
   "execution_count": 5,
   "metadata": {},
   "outputs": [
    {
     "name": "stdout",
     "output_type": "stream",
     "text": [
      "bird_strike/20200427&20200506潮汕机场2个萧山机场7个样品结果/测序结果/cytb/良好/ZSHC-2020-02_L14995-H16065_C2291.L14995.PW005090028.seq\n",
      "---------------\n",
      "date:\n",
      "20200427\n",
      "infoall:\n",
      "['bird_strike', '20200427&20200506潮汕机场2个萧山机场7个样品结果', '测序结果', 'cytb', '良好', 'ZSHC-2020-02_L14995-H16065_C2291.L14995.PW005090028.seq']\n",
      "---\n",
      "file_name:\n",
      "ZSHC-2020-02_L14995-H16065_C2291.L14995.PW005090028.seq\n",
      "info：\n",
      "['ZSHC-2020-02_', 'L14995', '-', 'H16065', '_C2291.', 'L14995', '.PW005090028.seq']\n",
      "info.strip:\n",
      "ZSHC-2020-02\n",
      "---------------\n"
     ]
    }
   ],
   "source": [
    "i = 'bird_strike/20200427&20200506潮汕机场2个萧山机场7个样品结果/测序结果/cytb/良好/ZSHC-2020-02_L14995-H16065_C2291.L14995.PW005090028.seq'\n",
    "date = re.search(r'(?<=bird_strike/)(\\d+)',i).groups()[0]\n",
    "infoall = i.split('/')\n",
    "file_name = os.path.basename(i)\n",
    "info = re.split(r'(COI-1|COI-2|L6615|H7956|cytb|L14995|H16065|BirdF1|BirdR1|Vercytb|L14841|H15149|ND2|L5219|H6313)',file_name)\n",
    "print(i)\n",
    "print('---------------')\n",
    "print('date:')\n",
    "print(date)\n",
    "\n",
    "print('infoall:')\n",
    "print(infoall)\n",
    "print('---')\n",
    "print('file_name:')\n",
    "print(file_name)\n",
    "print('info：')\n",
    "print(info)\n",
    "print('info.strip:')\n",
    "print(info[0].strip('(_|-)'))\n",
    "print('---------------')"
   ]
  },
  {
   "cell_type": "code",
   "execution_count": 6,
   "metadata": {},
   "outputs": [
    {
     "name": "stdout",
     "output_type": "stream",
     "text": [
      "2586\n",
      "2586\n",
      "2586\n",
      "2586\n",
      "not gene:28\n"
     ]
    }
   ],
   "source": [
    "gene_lst = []\n",
    "code_lst = []\n",
    "file_name_lst = []\n",
    "date_lst = []\n",
    "path_lst = []\n",
    "not_gene = 0\n",
    "for i in files_seq:\n",
    "    date = re.search(r'(?<=bird_strike/)(\\d+)',i).groups()[0]\n",
    "    infoall = i.split('/')\n",
    "    file_name = os.path.basename(i)\n",
    "#     file_name = re.sub(r'(?<=[a-zA-Z])-?\\d.*\\b','',file_name)\n",
    "    try:\n",
    "        date_lst.append(date)\n",
    "        file_name_lst.append(file_name)\n",
    "        info = re.split(r'(COI-1|COI-2|L6615|H7956|cytb|L14995|H16065|BirdF1|BirdR1|Vercytb|L14841|H15149|ND2|L5219|H6313|cytB|COI)',file_name)\n",
    "        code = info[0].strip('(_|-)')\n",
    "#         name_lst.append(info[0].strip('(_|-)'))  \n",
    "        code = re.sub(r'(?<=[a-zA-Z])-?\\d.*\\b','',code)\n",
    "        code_lst.append(code)\n",
    "        if len(info)>1:\n",
    "            gene_lst.append(info[1])\n",
    "        else:\n",
    "            gene_lst.append('-')\n",
    "            not_gene += 1\n",
    "#              if len(info)>0:\n",
    "        path_lst.append(i)\n",
    "    except Exception as e:\n",
    "        print(file_name)\n",
    "        print(e)\n",
    "        raise(e)\n",
    "#         pass\n",
    "df_m = pd.DataFrame([date_lst,code_lst,gene_lst,file_name_lst,path_lst]).T\n",
    "print(len(gene_lst))\n",
    "print(len(file_name_lst))\n",
    "print(len(date_lst))\n",
    "print(len(path_lst))\n",
    "print('not gene:'+str(not_gene))"
   ]
  },
  {
   "cell_type": "code",
   "execution_count": 7,
   "metadata": {},
   "outputs": [
    {
     "data": {
      "text/html": [
       "<div>\n",
       "<style scoped>\n",
       "    .dataframe tbody tr th:only-of-type {\n",
       "        vertical-align: middle;\n",
       "    }\n",
       "\n",
       "    .dataframe tbody tr th {\n",
       "        vertical-align: top;\n",
       "    }\n",
       "\n",
       "    .dataframe thead th {\n",
       "        text-align: right;\n",
       "    }\n",
       "</style>\n",
       "<table border=\"1\" class=\"dataframe\">\n",
       "  <thead>\n",
       "    <tr style=\"text-align: right;\">\n",
       "      <th></th>\n",
       "      <th>date</th>\n",
       "      <th>code</th>\n",
       "      <th>gene_name</th>\n",
       "      <th>file_name</th>\n",
       "      <th>path</th>\n",
       "    </tr>\n",
       "  </thead>\n",
       "  <tbody>\n",
       "    <tr>\n",
       "      <th>0</th>\n",
       "      <td>20200427</td>\n",
       "      <td>ZSHC</td>\n",
       "      <td>L14995</td>\n",
       "      <td>ZSHC-2020-07_L14995-H16065_C2291.L14995.PW0050...</td>\n",
       "      <td>bird_strike/20200427&amp;20200506潮汕机场2个萧山机场7个样品结果/...</td>\n",
       "    </tr>\n",
       "    <tr>\n",
       "      <th>1</th>\n",
       "      <td>20200427</td>\n",
       "      <td>ZSHC</td>\n",
       "      <td>L14995</td>\n",
       "      <td>ZSHC-2020-04_L14995-H16065_C2291.L14995.PW0050...</td>\n",
       "      <td>bird_strike/20200427&amp;20200506潮汕机场2个萧山机场7个样品结果/...</td>\n",
       "    </tr>\n",
       "    <tr>\n",
       "      <th>2</th>\n",
       "      <td>20200427</td>\n",
       "      <td>ZSHC</td>\n",
       "      <td>L14995</td>\n",
       "      <td>ZSHC-2020-02_L14995-H16065_C2291.L14995.PW0050...</td>\n",
       "      <td>bird_strike/20200427&amp;20200506潮汕机场2个萧山机场7个样品结果/...</td>\n",
       "    </tr>\n",
       "    <tr>\n",
       "      <th>3</th>\n",
       "      <td>20200427</td>\n",
       "      <td>JYCS</td>\n",
       "      <td>L14995</td>\n",
       "      <td>JYCS2020-03_L14995-H16065_C2291.L14995.PW00509...</td>\n",
       "      <td>bird_strike/20200427&amp;20200506潮汕机场2个萧山机场7个样品结果/...</td>\n",
       "    </tr>\n",
       "    <tr>\n",
       "      <th>4</th>\n",
       "      <td>20200427</td>\n",
       "      <td>ZSHC</td>\n",
       "      <td>L14995</td>\n",
       "      <td>ZSHC-2020-03_L14995-H16065_C2291.L14995.PW0050...</td>\n",
       "      <td>bird_strike/20200427&amp;20200506潮汕机场2个萧山机场7个样品结果/...</td>\n",
       "    </tr>\n",
       "    <tr>\n",
       "      <th>...</th>\n",
       "      <td>...</td>\n",
       "      <td>...</td>\n",
       "      <td>...</td>\n",
       "      <td>...</td>\n",
       "      <td>...</td>\n",
       "    </tr>\n",
       "    <tr>\n",
       "      <th>2581</th>\n",
       "      <td>20200825</td>\n",
       "      <td>KN</td>\n",
       "      <td>L14995</td>\n",
       "      <td>KN2928_L14995-H16065_C2777.L14995.PW009022109.seq</td>\n",
       "      <td>bird_strike/20200825&amp;0826萧山机场4个&amp;北京大兴机场44个样品结果/...</td>\n",
       "    </tr>\n",
       "    <tr>\n",
       "      <th>2582</th>\n",
       "      <td>20200825</td>\n",
       "      <td>MF</td>\n",
       "      <td>L14995</td>\n",
       "      <td>MF8169_L14995-H16065_C2777.L14995.PW009022080.seq</td>\n",
       "      <td>bird_strike/20200825&amp;0826萧山机场4个&amp;北京大兴机场44个样品结果/...</td>\n",
       "    </tr>\n",
       "    <tr>\n",
       "      <th>2583</th>\n",
       "      <td>20200825</td>\n",
       "      <td>CZ</td>\n",
       "      <td>L14995</td>\n",
       "      <td>CZ6715_L14995-H16065_C2777.L14995.PW009022092.seq</td>\n",
       "      <td>bird_strike/20200825&amp;0826萧山机场4个&amp;北京大兴机场44个样品结果/...</td>\n",
       "    </tr>\n",
       "    <tr>\n",
       "      <th>2584</th>\n",
       "      <td>20200413</td>\n",
       "      <td>JYCS</td>\n",
       "      <td>L14995</td>\n",
       "      <td>JYCS2020-01_L14995-H16065_C2243.L14995.PW00417...</td>\n",
       "      <td>bird_strike/20200413潮汕机场1个样品结果/测序结果/cytb/JYCS2...</td>\n",
       "    </tr>\n",
       "    <tr>\n",
       "      <th>2585</th>\n",
       "      <td>20200413</td>\n",
       "      <td>JYCS</td>\n",
       "      <td>COI-1</td>\n",
       "      <td>JYCS2020-01_COI-1_C2243.COI-1-bird-F.PW0041701...</td>\n",
       "      <td>bird_strike/20200413潮汕机场1个样品结果/测序结果/COI/JYCS20...</td>\n",
       "    </tr>\n",
       "  </tbody>\n",
       "</table>\n",
       "<p>2586 rows × 5 columns</p>\n",
       "</div>"
      ],
      "text/plain": [
       "          date  code gene_name  \\\n",
       "0     20200427  ZSHC    L14995   \n",
       "1     20200427  ZSHC    L14995   \n",
       "2     20200427  ZSHC    L14995   \n",
       "3     20200427  JYCS    L14995   \n",
       "4     20200427  ZSHC    L14995   \n",
       "...        ...   ...       ...   \n",
       "2581  20200825    KN    L14995   \n",
       "2582  20200825    MF    L14995   \n",
       "2583  20200825    CZ    L14995   \n",
       "2584  20200413  JYCS    L14995   \n",
       "2585  20200413  JYCS     COI-1   \n",
       "\n",
       "                                              file_name  \\\n",
       "0     ZSHC-2020-07_L14995-H16065_C2291.L14995.PW0050...   \n",
       "1     ZSHC-2020-04_L14995-H16065_C2291.L14995.PW0050...   \n",
       "2     ZSHC-2020-02_L14995-H16065_C2291.L14995.PW0050...   \n",
       "3     JYCS2020-03_L14995-H16065_C2291.L14995.PW00509...   \n",
       "4     ZSHC-2020-03_L14995-H16065_C2291.L14995.PW0050...   \n",
       "...                                                 ...   \n",
       "2581  KN2928_L14995-H16065_C2777.L14995.PW009022109.seq   \n",
       "2582  MF8169_L14995-H16065_C2777.L14995.PW009022080.seq   \n",
       "2583  CZ6715_L14995-H16065_C2777.L14995.PW009022092.seq   \n",
       "2584  JYCS2020-01_L14995-H16065_C2243.L14995.PW00417...   \n",
       "2585  JYCS2020-01_COI-1_C2243.COI-1-bird-F.PW0041701...   \n",
       "\n",
       "                                                   path  \n",
       "0     bird_strike/20200427&20200506潮汕机场2个萧山机场7个样品结果/...  \n",
       "1     bird_strike/20200427&20200506潮汕机场2个萧山机场7个样品结果/...  \n",
       "2     bird_strike/20200427&20200506潮汕机场2个萧山机场7个样品结果/...  \n",
       "3     bird_strike/20200427&20200506潮汕机场2个萧山机场7个样品结果/...  \n",
       "4     bird_strike/20200427&20200506潮汕机场2个萧山机场7个样品结果/...  \n",
       "...                                                 ...  \n",
       "2581  bird_strike/20200825&0826萧山机场4个&北京大兴机场44个样品结果/...  \n",
       "2582  bird_strike/20200825&0826萧山机场4个&北京大兴机场44个样品结果/...  \n",
       "2583  bird_strike/20200825&0826萧山机场4个&北京大兴机场44个样品结果/...  \n",
       "2584  bird_strike/20200413潮汕机场1个样品结果/测序结果/cytb/JYCS2...  \n",
       "2585  bird_strike/20200413潮汕机场1个样品结果/测序结果/COI/JYCS20...  \n",
       "\n",
       "[2586 rows x 5 columns]"
      ]
     },
     "execution_count": 7,
     "metadata": {},
     "output_type": "execute_result"
    }
   ],
   "source": [
    "df_m.columns = ['date','code','gene_name','file_name','path']\n",
    "df_m"
   ]
  },
  {
   "cell_type": "code",
   "execution_count": 8,
   "metadata": {},
   "outputs": [],
   "source": [
    "# df_m.iloc[:,[0,1,2,3]].replace('L14995','cytb',inplace=True) \n",
    "df_m.replace({'gene_name':'L14995'},'cytb',inplace=True)"
   ]
  },
  {
   "cell_type": "code",
   "execution_count": 9,
   "metadata": {},
   "outputs": [
    {
     "data": {
      "text/html": [
       "<div>\n",
       "<style scoped>\n",
       "    .dataframe tbody tr th:only-of-type {\n",
       "        vertical-align: middle;\n",
       "    }\n",
       "\n",
       "    .dataframe tbody tr th {\n",
       "        vertical-align: top;\n",
       "    }\n",
       "\n",
       "    .dataframe thead th {\n",
       "        text-align: right;\n",
       "    }\n",
       "</style>\n",
       "<table border=\"1\" class=\"dataframe\">\n",
       "  <thead>\n",
       "    <tr style=\"text-align: right;\">\n",
       "      <th></th>\n",
       "      <th>date</th>\n",
       "      <th>code</th>\n",
       "      <th>gene_name</th>\n",
       "      <th>file_name</th>\n",
       "      <th>path</th>\n",
       "    </tr>\n",
       "  </thead>\n",
       "  <tbody>\n",
       "    <tr>\n",
       "      <th>0</th>\n",
       "      <td>20200427</td>\n",
       "      <td>ZSHC</td>\n",
       "      <td>cytb</td>\n",
       "      <td>ZSHC-2020-07_L14995-H16065_C2291.L14995.PW0050...</td>\n",
       "      <td>bird_strike/20200427&amp;20200506潮汕机场2个萧山机场7个样品结果/...</td>\n",
       "    </tr>\n",
       "    <tr>\n",
       "      <th>1</th>\n",
       "      <td>20200427</td>\n",
       "      <td>ZSHC</td>\n",
       "      <td>cytb</td>\n",
       "      <td>ZSHC-2020-04_L14995-H16065_C2291.L14995.PW0050...</td>\n",
       "      <td>bird_strike/20200427&amp;20200506潮汕机场2个萧山机场7个样品结果/...</td>\n",
       "    </tr>\n",
       "    <tr>\n",
       "      <th>2</th>\n",
       "      <td>20200427</td>\n",
       "      <td>ZSHC</td>\n",
       "      <td>cytb</td>\n",
       "      <td>ZSHC-2020-02_L14995-H16065_C2291.L14995.PW0050...</td>\n",
       "      <td>bird_strike/20200427&amp;20200506潮汕机场2个萧山机场7个样品结果/...</td>\n",
       "    </tr>\n",
       "  </tbody>\n",
       "</table>\n",
       "</div>"
      ],
      "text/plain": [
       "       date  code gene_name  \\\n",
       "0  20200427  ZSHC      cytb   \n",
       "1  20200427  ZSHC      cytb   \n",
       "2  20200427  ZSHC      cytb   \n",
       "\n",
       "                                           file_name  \\\n",
       "0  ZSHC-2020-07_L14995-H16065_C2291.L14995.PW0050...   \n",
       "1  ZSHC-2020-04_L14995-H16065_C2291.L14995.PW0050...   \n",
       "2  ZSHC-2020-02_L14995-H16065_C2291.L14995.PW0050...   \n",
       "\n",
       "                                                path  \n",
       "0  bird_strike/20200427&20200506潮汕机场2个萧山机场7个样品结果/...  \n",
       "1  bird_strike/20200427&20200506潮汕机场2个萧山机场7个样品结果/...  \n",
       "2  bird_strike/20200427&20200506潮汕机场2个萧山机场7个样品结果/...  "
      ]
     },
     "execution_count": 9,
     "metadata": {},
     "output_type": "execute_result"
    }
   ],
   "source": [
    "df_m.iloc[[0,1,2],]"
   ]
  },
  {
   "cell_type": "code",
   "execution_count": 10,
   "metadata": {},
   "outputs": [
    {
     "data": {
      "text/html": [
       "<div>\n",
       "<style scoped>\n",
       "    .dataframe tbody tr th:only-of-type {\n",
       "        vertical-align: middle;\n",
       "    }\n",
       "\n",
       "    .dataframe tbody tr th {\n",
       "        vertical-align: top;\n",
       "    }\n",
       "\n",
       "    .dataframe thead th {\n",
       "        text-align: right;\n",
       "    }\n",
       "</style>\n",
       "<table border=\"1\" class=\"dataframe\">\n",
       "  <thead>\n",
       "    <tr style=\"text-align: right;\">\n",
       "      <th></th>\n",
       "      <th>date</th>\n",
       "      <th>code</th>\n",
       "      <th>gene_name</th>\n",
       "      <th>file_name</th>\n",
       "      <th>path</th>\n",
       "    </tr>\n",
       "  </thead>\n",
       "  <tbody>\n",
       "    <tr>\n",
       "      <th>0</th>\n",
       "      <td>20200427</td>\n",
       "      <td>ZSHC</td>\n",
       "      <td>cytb</td>\n",
       "      <td>ZSHC-2020-07_L14995-H16065_C2291.L14995.PW0050...</td>\n",
       "      <td>bird_strike/20200427&amp;20200506潮汕机场2个萧山机场7个样品结果/...</td>\n",
       "    </tr>\n",
       "    <tr>\n",
       "      <th>1</th>\n",
       "      <td>20200427</td>\n",
       "      <td>ZSHC</td>\n",
       "      <td>cytb</td>\n",
       "      <td>ZSHC-2020-04_L14995-H16065_C2291.L14995.PW0050...</td>\n",
       "      <td>bird_strike/20200427&amp;20200506潮汕机场2个萧山机场7个样品结果/...</td>\n",
       "    </tr>\n",
       "    <tr>\n",
       "      <th>2</th>\n",
       "      <td>20200427</td>\n",
       "      <td>ZSHC</td>\n",
       "      <td>cytb</td>\n",
       "      <td>ZSHC-2020-02_L14995-H16065_C2291.L14995.PW0050...</td>\n",
       "      <td>bird_strike/20200427&amp;20200506潮汕机场2个萧山机场7个样品结果/...</td>\n",
       "    </tr>\n",
       "  </tbody>\n",
       "</table>\n",
       "</div>"
      ],
      "text/plain": [
       "       date  code gene_name  \\\n",
       "0  20200427  ZSHC      cytb   \n",
       "1  20200427  ZSHC      cytb   \n",
       "2  20200427  ZSHC      cytb   \n",
       "\n",
       "                                           file_name  \\\n",
       "0  ZSHC-2020-07_L14995-H16065_C2291.L14995.PW0050...   \n",
       "1  ZSHC-2020-04_L14995-H16065_C2291.L14995.PW0050...   \n",
       "2  ZSHC-2020-02_L14995-H16065_C2291.L14995.PW0050...   \n",
       "\n",
       "                                                path  \n",
       "0  bird_strike/20200427&20200506潮汕机场2个萧山机场7个样品结果/...  \n",
       "1  bird_strike/20200427&20200506潮汕机场2个萧山机场7个样品结果/...  \n",
       "2  bird_strike/20200427&20200506潮汕机场2个萧山机场7个样品结果/...  "
      ]
     },
     "execution_count": 10,
     "metadata": {},
     "output_type": "execute_result"
    }
   ],
   "source": [
    "df_m.iloc[[0,1,2],]"
   ]
  },
  {
   "cell_type": "code",
   "execution_count": 11,
   "metadata": {},
   "outputs": [],
   "source": [
    "df_m.to_csv('airport.csv',encoding='utf_8_sig')"
   ]
  },
  {
   "cell_type": "code",
   "execution_count": 12,
   "metadata": {},
   "outputs": [
    {
     "data": {
      "text/plain": [
       "0        True\n",
       "1        True\n",
       "2        True\n",
       "3        True\n",
       "4        True\n",
       "        ...  \n",
       "2581     True\n",
       "2582     True\n",
       "2583     True\n",
       "2584    False\n",
       "2585    False\n",
       "Name: path, Length: 2586, dtype: bool"
      ]
     },
     "execution_count": 12,
     "metadata": {},
     "output_type": "execute_result"
    }
   ],
   "source": [
    "df_m.iloc[:,4].str.contains('&')"
   ]
  },
  {
   "cell_type": "code",
   "execution_count": 13,
   "metadata": {},
   "outputs": [
    {
     "data": {
      "text/plain": [
       "0       False\n",
       "1       False\n",
       "2       False\n",
       "3       False\n",
       "4       False\n",
       "        ...  \n",
       "2581    False\n",
       "2582    False\n",
       "2583    False\n",
       "2584     True\n",
       "2585     True\n",
       "Name: path, Length: 2586, dtype: bool"
      ]
     },
     "execution_count": 13,
     "metadata": {},
     "output_type": "execute_result"
    }
   ],
   "source": [
    "~df_m.iloc[:,4].str.contains('&')"
   ]
  },
  {
   "cell_type": "code",
   "execution_count": 14,
   "metadata": {},
   "outputs": [
    {
     "data": {
      "text/plain": [
       "12      bird_strike/20210428北京大兴机场1个检测结果/测序结果/COI-1/ZB...\n",
       "13      bird_strike/20210428北京大兴机场1个检测结果/测序结果/COI-1/ZB...\n",
       "14      bird_strike/20210428北京大兴机场1个检测结果/测序结果/ND2/ZBAD...\n",
       "15      bird_strike/20210428北京大兴机场1个检测结果/测序结果/ND2/ZBAD...\n",
       "16      bird_strike/20210428北京大兴机场1个检测结果/测序结果/Cytb/ZBA...\n",
       "                              ...                        \n",
       "2510    bird_strike/20200612萧山机场1个加急样品结果/测序结果/ND2/ZSHC...\n",
       "2511    bird_strike/20200612萧山机场1个加急样品结果/测序结果/COI-2/ZS...\n",
       "2512    bird_strike/20200612萧山机场1个加急样品结果/测序结果/COI-2/ZS...\n",
       "2584    bird_strike/20200413潮汕机场1个样品结果/测序结果/cytb/JYCS2...\n",
       "2585    bird_strike/20200413潮汕机场1个样品结果/测序结果/COI/JYCS20...\n",
       "Name: path, Length: 1777, dtype: object"
      ]
     },
     "execution_count": 14,
     "metadata": {},
     "output_type": "execute_result"
    }
   ],
   "source": [
    "df_m[~df_m.iloc[:,4].str.contains('&')].iloc[:,4]"
   ]
  },
  {
   "cell_type": "code",
   "execution_count": 15,
   "metadata": {},
   "outputs": [],
   "source": [
    "single_df = df_m[~df_m.iloc[:,4].str.contains('&')]"
   ]
  },
  {
   "cell_type": "code",
   "execution_count": 16,
   "metadata": {},
   "outputs": [],
   "source": [
    "single_df.to_csv('single_df.csv',encoding='utf_8_sig')"
   ]
  },
  {
   "cell_type": "code",
   "execution_count": null,
   "metadata": {},
   "outputs": [],
   "source": []
  },
  {
   "cell_type": "code",
   "execution_count": 17,
   "metadata": {},
   "outputs": [
    {
     "data": {
      "text/plain": [
       "'20200305北京大兴机场12个样品结果'"
      ]
     },
     "execution_count": 17,
     "metadata": {},
     "output_type": "execute_result"
    }
   ],
   "source": [
    "s = '20200305北京大兴机场12个样品结果/测序结果/Cytb/ZBAD2020-09_L14995-H16065_C2175.L14995.PW003110010.seq'\n",
    "s.split('/')[0]"
   ]
  },
  {
   "cell_type": "code",
   "execution_count": null,
   "metadata": {},
   "outputs": [],
   "source": []
  },
  {
   "cell_type": "code",
   "execution_count": 18,
   "metadata": {},
   "outputs": [
    {
     "data": {
      "text/plain": [
       "'2601'"
      ]
     },
     "execution_count": 18,
     "metadata": {},
     "output_type": "execute_result"
    }
   ],
   "source": [
    "randnum = str(random.randint(1000, 9999))\n",
    "randnum            \n"
   ]
  },
  {
   "cell_type": "code",
   "execution_count": 19,
   "metadata": {},
   "outputs": [
    {
     "data": {
      "text/html": [
       "<div>\n",
       "<style scoped>\n",
       "    .dataframe tbody tr th:only-of-type {\n",
       "        vertical-align: middle;\n",
       "    }\n",
       "\n",
       "    .dataframe tbody tr th {\n",
       "        vertical-align: top;\n",
       "    }\n",
       "\n",
       "    .dataframe thead th {\n",
       "        text-align: right;\n",
       "    }\n",
       "</style>\n",
       "<table border=\"1\" class=\"dataframe\">\n",
       "  <thead>\n",
       "    <tr style=\"text-align: right;\">\n",
       "      <th></th>\n",
       "      <th>date</th>\n",
       "      <th>code</th>\n",
       "      <th>gene_name</th>\n",
       "      <th>file_name</th>\n",
       "      <th>path</th>\n",
       "    </tr>\n",
       "  </thead>\n",
       "  <tbody>\n",
       "    <tr>\n",
       "      <th>0</th>\n",
       "      <td>20200427</td>\n",
       "      <td>ZSHC</td>\n",
       "      <td>cytb</td>\n",
       "      <td>ZSHC-2020-07_L14995-H16065_C2291.L14995.PW0050...</td>\n",
       "      <td>bird_strike/20200427&amp;20200506潮汕机场2个萧山机场7个样品结果/...</td>\n",
       "    </tr>\n",
       "    <tr>\n",
       "      <th>1</th>\n",
       "      <td>20200427</td>\n",
       "      <td>ZSHC</td>\n",
       "      <td>cytb</td>\n",
       "      <td>ZSHC-2020-04_L14995-H16065_C2291.L14995.PW0050...</td>\n",
       "      <td>bird_strike/20200427&amp;20200506潮汕机场2个萧山机场7个样品结果/...</td>\n",
       "    </tr>\n",
       "    <tr>\n",
       "      <th>2</th>\n",
       "      <td>20200427</td>\n",
       "      <td>ZSHC</td>\n",
       "      <td>cytb</td>\n",
       "      <td>ZSHC-2020-02_L14995-H16065_C2291.L14995.PW0050...</td>\n",
       "      <td>bird_strike/20200427&amp;20200506潮汕机场2个萧山机场7个样品结果/...</td>\n",
       "    </tr>\n",
       "    <tr>\n",
       "      <th>3</th>\n",
       "      <td>20200427</td>\n",
       "      <td>JYCS</td>\n",
       "      <td>cytb</td>\n",
       "      <td>JYCS2020-03_L14995-H16065_C2291.L14995.PW00509...</td>\n",
       "      <td>bird_strike/20200427&amp;20200506潮汕机场2个萧山机场7个样品结果/...</td>\n",
       "    </tr>\n",
       "    <tr>\n",
       "      <th>4</th>\n",
       "      <td>20200427</td>\n",
       "      <td>ZSHC</td>\n",
       "      <td>cytb</td>\n",
       "      <td>ZSHC-2020-03_L14995-H16065_C2291.L14995.PW0050...</td>\n",
       "      <td>bird_strike/20200427&amp;20200506潮汕机场2个萧山机场7个样品结果/...</td>\n",
       "    </tr>\n",
       "    <tr>\n",
       "      <th>...</th>\n",
       "      <td>...</td>\n",
       "      <td>...</td>\n",
       "      <td>...</td>\n",
       "      <td>...</td>\n",
       "      <td>...</td>\n",
       "    </tr>\n",
       "    <tr>\n",
       "      <th>2581</th>\n",
       "      <td>20200825</td>\n",
       "      <td>KN</td>\n",
       "      <td>cytb</td>\n",
       "      <td>KN2928_L14995-H16065_C2777.L14995.PW009022109.seq</td>\n",
       "      <td>bird_strike/20200825&amp;0826萧山机场4个&amp;北京大兴机场44个样品结果/...</td>\n",
       "    </tr>\n",
       "    <tr>\n",
       "      <th>2582</th>\n",
       "      <td>20200825</td>\n",
       "      <td>MF</td>\n",
       "      <td>cytb</td>\n",
       "      <td>MF8169_L14995-H16065_C2777.L14995.PW009022080.seq</td>\n",
       "      <td>bird_strike/20200825&amp;0826萧山机场4个&amp;北京大兴机场44个样品结果/...</td>\n",
       "    </tr>\n",
       "    <tr>\n",
       "      <th>2583</th>\n",
       "      <td>20200825</td>\n",
       "      <td>CZ</td>\n",
       "      <td>cytb</td>\n",
       "      <td>CZ6715_L14995-H16065_C2777.L14995.PW009022092.seq</td>\n",
       "      <td>bird_strike/20200825&amp;0826萧山机场4个&amp;北京大兴机场44个样品结果/...</td>\n",
       "    </tr>\n",
       "    <tr>\n",
       "      <th>2584</th>\n",
       "      <td>20200413</td>\n",
       "      <td>JYCS</td>\n",
       "      <td>cytb</td>\n",
       "      <td>JYCS2020-01_L14995-H16065_C2243.L14995.PW00417...</td>\n",
       "      <td>bird_strike/20200413潮汕机场1个样品结果/测序结果/cytb/JYCS2...</td>\n",
       "    </tr>\n",
       "    <tr>\n",
       "      <th>2585</th>\n",
       "      <td>20200413</td>\n",
       "      <td>JYCS</td>\n",
       "      <td>COI-1</td>\n",
       "      <td>JYCS2020-01_COI-1_C2243.COI-1-bird-F.PW0041701...</td>\n",
       "      <td>bird_strike/20200413潮汕机场1个样品结果/测序结果/COI/JYCS20...</td>\n",
       "    </tr>\n",
       "  </tbody>\n",
       "</table>\n",
       "<p>2586 rows × 5 columns</p>\n",
       "</div>"
      ],
      "text/plain": [
       "          date  code gene_name  \\\n",
       "0     20200427  ZSHC      cytb   \n",
       "1     20200427  ZSHC      cytb   \n",
       "2     20200427  ZSHC      cytb   \n",
       "3     20200427  JYCS      cytb   \n",
       "4     20200427  ZSHC      cytb   \n",
       "...        ...   ...       ...   \n",
       "2581  20200825    KN      cytb   \n",
       "2582  20200825    MF      cytb   \n",
       "2583  20200825    CZ      cytb   \n",
       "2584  20200413  JYCS      cytb   \n",
       "2585  20200413  JYCS     COI-1   \n",
       "\n",
       "                                              file_name  \\\n",
       "0     ZSHC-2020-07_L14995-H16065_C2291.L14995.PW0050...   \n",
       "1     ZSHC-2020-04_L14995-H16065_C2291.L14995.PW0050...   \n",
       "2     ZSHC-2020-02_L14995-H16065_C2291.L14995.PW0050...   \n",
       "3     JYCS2020-03_L14995-H16065_C2291.L14995.PW00509...   \n",
       "4     ZSHC-2020-03_L14995-H16065_C2291.L14995.PW0050...   \n",
       "...                                                 ...   \n",
       "2581  KN2928_L14995-H16065_C2777.L14995.PW009022109.seq   \n",
       "2582  MF8169_L14995-H16065_C2777.L14995.PW009022080.seq   \n",
       "2583  CZ6715_L14995-H16065_C2777.L14995.PW009022092.seq   \n",
       "2584  JYCS2020-01_L14995-H16065_C2243.L14995.PW00417...   \n",
       "2585  JYCS2020-01_COI-1_C2243.COI-1-bird-F.PW0041701...   \n",
       "\n",
       "                                                   path  \n",
       "0     bird_strike/20200427&20200506潮汕机场2个萧山机场7个样品结果/...  \n",
       "1     bird_strike/20200427&20200506潮汕机场2个萧山机场7个样品结果/...  \n",
       "2     bird_strike/20200427&20200506潮汕机场2个萧山机场7个样品结果/...  \n",
       "3     bird_strike/20200427&20200506潮汕机场2个萧山机场7个样品结果/...  \n",
       "4     bird_strike/20200427&20200506潮汕机场2个萧山机场7个样品结果/...  \n",
       "...                                                 ...  \n",
       "2581  bird_strike/20200825&0826萧山机场4个&北京大兴机场44个样品结果/...  \n",
       "2582  bird_strike/20200825&0826萧山机场4个&北京大兴机场44个样品结果/...  \n",
       "2583  bird_strike/20200825&0826萧山机场4个&北京大兴机场44个样品结果/...  \n",
       "2584  bird_strike/20200413潮汕机场1个样品结果/测序结果/cytb/JYCS2...  \n",
       "2585  bird_strike/20200413潮汕机场1个样品结果/测序结果/COI/JYCS20...  \n",
       "\n",
       "[2586 rows x 5 columns]"
      ]
     },
     "execution_count": 19,
     "metadata": {},
     "output_type": "execute_result"
    }
   ],
   "source": [
    "df_m"
   ]
  },
  {
   "cell_type": "code",
   "execution_count": 20,
   "metadata": {},
   "outputs": [
    {
     "data": {
      "text/plain": [
       "0       ZSHC-2020-07_L14995-H16065_C2291.L14995.PW0050...\n",
       "1       ZSHC-2020-04_L14995-H16065_C2291.L14995.PW0050...\n",
       "2       ZSHC-2020-02_L14995-H16065_C2291.L14995.PW0050...\n",
       "3       JYCS2020-03_L14995-H16065_C2291.L14995.PW00509...\n",
       "4       ZSHC-2020-03_L14995-H16065_C2291.L14995.PW0050...\n",
       "                              ...                        \n",
       "2581    KN2928_L14995-H16065_C2777.L14995.PW009022109.seq\n",
       "2582    MF8169_L14995-H16065_C2777.L14995.PW009022080.seq\n",
       "2583    CZ6715_L14995-H16065_C2777.L14995.PW009022092.seq\n",
       "2584    JYCS2020-01_L14995-H16065_C2243.L14995.PW00417...\n",
       "2585    JYCS2020-01_COI-1_C2243.COI-1-bird-F.PW0041701...\n",
       "Name: file_name, Length: 2586, dtype: object"
      ]
     },
     "execution_count": 20,
     "metadata": {},
     "output_type": "execute_result"
    }
   ],
   "source": [
    "df_m['file_name']"
   ]
  },
  {
   "cell_type": "code",
   "execution_count": 21,
   "metadata": {},
   "outputs": [
    {
     "data": {
      "text/plain": [
       "'ZBAD2021-jiaji1'"
      ]
     },
     "execution_count": 21,
     "metadata": {},
     "output_type": "execute_result"
    }
   ],
   "source": [
    "s  = 'ZBAD2021-jiaji1'\n",
    "s.strip('\\d.*?')"
   ]
  },
  {
   "cell_type": "code",
   "execution_count": 22,
   "metadata": {},
   "outputs": [
    {
     "data": {
      "text/plain": [
       "'ZBAD'"
      ]
     },
     "execution_count": 22,
     "metadata": {},
     "output_type": "execute_result"
    }
   ],
   "source": [
    "re.sub(r'\\d.*\\b','',s)"
   ]
  },
  {
   "cell_type": "code",
   "execution_count": 23,
   "metadata": {},
   "outputs": [
    {
     "data": {
      "text/plain": [
       "'ZBAD'"
      ]
     },
     "execution_count": 23,
     "metadata": {},
     "output_type": "execute_result"
    }
   ],
   "source": [
    "# s = '92'\n",
    "s  = 'ZBAD-2021-jiaji1'\n",
    "re.sub(r'(?<=[a-zA-Z])-?\\d.*\\b','',s)"
   ]
  },
  {
   "cell_type": "code",
   "execution_count": 24,
   "metadata": {},
   "outputs": [
    {
     "data": {
      "text/plain": [
       "''"
      ]
     },
     "execution_count": 24,
     "metadata": {},
     "output_type": "execute_result"
    }
   ],
   "source": [
    "s = '92'\n",
    "# s  = 'ZBAD2021-jiaji1'\n",
    "re.sub(r'\\w+','',s)"
   ]
  },
  {
   "cell_type": "code",
   "execution_count": 25,
   "metadata": {},
   "outputs": [
    {
     "data": {
      "text/plain": [
       "'ZSHC'"
      ]
     },
     "execution_count": 25,
     "metadata": {},
     "output_type": "execute_result"
    }
   ],
   "source": [
    "s = 'ZSHC-2019-87_L'\n",
    "re.sub(r'(?<=[a-zA-Z])-\\d.*\\b','',s)"
   ]
  },
  {
   "cell_type": "code",
   "execution_count": null,
   "metadata": {},
   "outputs": [],
   "source": []
  },
  {
   "cell_type": "code",
   "execution_count": null,
   "metadata": {},
   "outputs": [],
   "source": []
  }
 ],
 "metadata": {
  "kernelspec": {
   "display_name": "venvpy3",
   "language": "python",
   "name": "venvpy3"
  },
  "language_info": {
   "codemirror_mode": {
    "name": "ipython",
    "version": 3
   },
   "file_extension": ".py",
   "mimetype": "text/x-python",
   "name": "python",
   "nbconvert_exporter": "python",
   "pygments_lexer": "ipython3",
   "version": "3.6.7"
  }
 },
 "nbformat": 4,
 "nbformat_minor": 2
}
