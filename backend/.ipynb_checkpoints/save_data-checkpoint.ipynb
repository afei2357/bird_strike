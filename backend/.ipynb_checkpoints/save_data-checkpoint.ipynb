{
 "cells": [
  {
   "cell_type": "code",
   "execution_count": 1,
   "metadata": {},
   "outputs": [],
   "source": [
    "from app import create_app\n",
    "app = create_app()\n",
    "app_context =  app.app_context()\n",
    "app_context.push()\n",
    "# app_context.pop()"
   ]
  },
  {
   "cell_type": "code",
   "execution_count": 2,
   "metadata": {},
   "outputs": [],
   "source": [
    "from app.models1 import *\n",
    "from app.models import *\n",
    "import random\n",
    "from datetime import datetime\n"
   ]
  },
  {
   "cell_type": "code",
   "execution_count": 3,
   "metadata": {},
   "outputs": [
    {
     "name": "stdout",
     "output_type": "stream",
     "text": [
      "<Channel 1>\n"
     ]
    }
   ],
   "source": [
    "c = Channel.query.filter_by(id=1).first()\n",
    "print(c)"
   ]
  },
  {
   "cell_type": "markdown",
   "metadata": {},
   "source": [
    "各个机场代码如下：其中山东临沂机场没有代码，而南宁吴圩国际机场和上海浦东国际机场有两个，在存数据库时用其中一个\n",
    "```\n",
    "ZYTL\t大连周水子国际机场\n",
    "ZGGG\t广州白云国际机场\n",
    "ZSHC\t杭州萧山国际机场\n",
    "WHJC\t武汉机场\n",
    "ZGSD\t珠港机场\n",
    "JYCS\t揭阳潮汕机场\n",
    "nng\t南宁吴圩国际机场\n",
    "NNG\t南宁吴圩国际机场\n",
    "#\t山东临沂机场\n",
    "ZSPD\t上海浦东国际机场\n",
    "ZSPDbs\t上海浦东国际机场\n",
    "ZGSZ\t深圳机场\n",
    "ZBTJ\t天津滨海国际机场\n",
    "YW\t浙江省义乌机场\n",
    "ZHCC\t郑州新郑国际机场\n",
    "ZUCK\t重庆机场集团公司飞行区管理部\n",
    "SCX\t长沙黄花国际机场\n",
    "CZX\t常州国际机场有限公司\n",
    "XZ\t徐州机场\n",
    "ZBAD\t北京大兴国际机场\n",
    "ZSNT\t南通兴东国际机场\n",
    "```\n"
   ]
  },
  {
   "cell_type": "code",
   "execution_count": 4,
   "metadata": {},
   "outputs": [
    {
     "data": {
      "text/plain": [
       "18"
      ]
     },
     "execution_count": 4,
     "metadata": {},
     "output_type": "execute_result"
    }
   ],
   "source": [
    "code1 = ['ZYTL','ZGGG','ZSHC','WHJC','ZGSD','JYCS','NNG','ZSPD',\n",
    "        'ZGSZ','ZBTJ','YW','ZHCC','ZUCK','SCX','CZX','XZ','ZBAD','ZSNT']\n",
    "name1 = ['大连周水子国际机场','广州白云国际机场','杭州萧山国际机场','武汉机场','珠港机场','揭阳潮汕机场',\n",
    "        '南宁吴圩国际机场','上海浦东国际机场','深圳机场',\n",
    "        '天津滨海国际机场','浙江省义乌机场','郑州新郑国际机场','重庆机场集团公司飞行区管理部',\n",
    "        '长沙黄花国际机场','常州国际机场有限公司','徐州机场','北京大兴国际机场','南通兴东国际机场']\n",
    "len(name1)"
   ]
  },
  {
   "cell_type": "markdown",
   "metadata": {},
   "source": [
    "# 加入各个机场（渠道）信息\n",
    "for i in range(18):\n",
    "    c = Channel.query.filter_by(code=code1[i]).first()\n",
    "    if not c :\n",
    "        c = Channel(code1[i],name1[i])\n",
    "        db.session.add(c)\n",
    "db.session.commit()"
   ]
  },
  {
   "cell_type": "markdown",
   "metadata": {},
   "source": [
    "# 创建用户信息：\n",
    "for i in range(18):\n",
    "    u = User.query.filter_by(username=name1[i]).first()\n",
    "    if not u :\n",
    "        u = User()\n",
    "        u.username = name1[i]\n",
    "        u.set_password(code1[i])\n",
    "        \n",
    "        c = Channel.query.filter_by(code=code1[i]).first()\n",
    "        u.channel =c \n",
    "        db.session.add(u)\n",
    "db.session.commit()"
   ]
  },
  {
   "cell_type": "code",
   "execution_count": 5,
   "metadata": {},
   "outputs": [
    {
     "data": {
      "text/plain": [
       "[<User 大连周水子国际机场>,\n",
       " <User 广州白云国际机场>,\n",
       " <User 杭州萧山国际机场>,\n",
       " <User 武汉机场>,\n",
       " <User 珠港机场>,\n",
       " <User 揭阳潮汕机场>,\n",
       " <User 南宁吴圩国际机场>,\n",
       " <User 上海浦东国际机场>,\n",
       " <User 深圳机场>,\n",
       " <User 天津滨海国际机场>,\n",
       " <User 浙江省义乌机场>,\n",
       " <User 郑州新郑国际机场>,\n",
       " <User 重庆机场集团公司飞行区管理部>,\n",
       " <User 长沙黄花国际机场>,\n",
       " <User 常州国际机场有限公司>,\n",
       " <User 徐州机场>,\n",
       " <User 北京大兴国际机场>,\n",
       " <User 南通兴东国际机场>]"
      ]
     },
     "execution_count": 5,
     "metadata": {},
     "output_type": "execute_result"
    }
   ],
   "source": [
    "User.query.all()"
   ]
  },
  {
   "cell_type": "code",
   "execution_count": 6,
   "metadata": {},
   "outputs": [
    {
     "data": {
      "text/plain": [
       "20"
      ]
     },
     "execution_count": 6,
     "metadata": {},
     "output_type": "execute_result"
    }
   ],
   "source": [
    "# 由于测序数据的code并不统一，有些机场有两个编码：\n",
    "code = ['ZYTL','ZGGG','ZSHC','WHJC','ZGSD','JYCS','nng','NNG','ZSPD','ZSPDbs',\n",
    "        'ZGSZ','ZBTJ','YW','ZHCC','ZUCK','SCX','CZX','XZ','ZBAD','ZSNT']\n",
    "name = ['大连周水子国际机场','广州白云国际机场','杭州萧山国际机场','武汉机场','珠港机场','揭阳潮汕机场',\n",
    "        '南宁吴圩国际机场','南宁吴圩国际机场','上海浦东国际机场','上海浦东国际机场','深圳机场',\n",
    "        '天津滨海国际机场','浙江省义乌机场','郑州新郑国际机场','重庆机场集团公司飞行区管理部',\n",
    "        '长沙黄花国际机场','常州国际机场有限公司','徐州机场','北京大兴国际机场','南通兴东国际机场']\n",
    "len(name)"
   ]
  },
  {
   "cell_type": "code",
   "execution_count": 7,
   "metadata": {},
   "outputs": [
    {
     "name": "stdout",
     "output_type": "stream",
     "text": [
      "{'ZYTL': '大连周水子国际机场', 'ZGGG': '广州白云国际机场', 'ZSHC': '杭州萧山国际机场', 'WHJC': '武汉机场', 'ZGSD': '珠港机场', 'JYCS': '揭阳潮汕机场', 'nng': '南宁吴圩国际机场', 'NNG': '南宁吴圩国际机场', 'ZSPD': '上海浦东国际机场', 'ZSPDbs': '上海浦东国际机场', 'ZGSZ': '深圳机场', 'ZBTJ': '天津滨海国际机场', 'YW': '浙江省义乌机场', 'ZHCC': '郑州新郑国际机场', 'ZUCK': '重庆机场集团公司飞行区管理部', 'SCX': '长沙黄花国际机场', 'CZX': '常州国际机场有限公司', 'XZ': '徐州机场', 'ZBAD': '北京大兴国际机场', 'ZSNT': '南通兴东国际机场'}\n"
     ]
    }
   ],
   "source": [
    "airport_dict = dict(zip(code,name))\n",
    "print(airport_dict)"
   ]
  },
  {
   "cell_type": "code",
   "execution_count": 11,
   "metadata": {},
   "outputs": [],
   "source": [
    "# old_date和old_code的目的是为了判断是否是同一个订单同一个机场\n",
    "old_code = ''\n",
    "old_date = ''\n",
    "old_order  = None\n",
    "i = 0\n",
    "with open('airport.csv') as fh,open('cannot_find_code.tsv','w') as out:\n",
    "    header  = fh.readline()\n",
    "    for line in fh:\n",
    "        line = line.strip()\n",
    "        if line:\n",
    "            lst = line.split(',')\n",
    "#             print(lst)\n",
    "            date = lst[1]\n",
    "#             sample_date = datetime.strptime(date,'%Y%m%d')\n",
    "            sample_date = datetime.now()\n",
    "            code = lst[2]\n",
    "            gene = lst[3]\n",
    "            path = lst[5]\n",
    "            # \n",
    "#             data = SeqData(path,gene,'F',sample_date,'')\n",
    "            data = SeqData(path,gene,'F',sample_date,'')\n",
    "\n",
    "#             break\n",
    "\n",
    "            channel = Channel.query.filter_by(code=code).first()\n",
    "            if channel:\n",
    "                if old_date == date: #相同则说明是同一天下单测序的：\n",
    "                    if old_code == code : #相同则说明是同一个订单同一个机场（渠道）\n",
    "                        order = old_order\n",
    "                        order.seqData.append(data)\n",
    "                    else:\n",
    "                        randnum = str(random.randint(1000, 9999))\n",
    "                        order_num = date+'_'+randnum\n",
    "                        order = OrderSeq(order_num,sample_date)\n",
    "                        db.session.add(order)\n",
    "                else: # 不同一天，就建立新的订单：  \n",
    "                    randnum = str(random.randint(1000, 9999))\n",
    "                    order_num = date+'_'+randnum\n",
    "                    order = OrderSeq(order_num,sample_date)\n",
    "\n",
    "                u = User.query.filter_by(username = channel.name).first()\n",
    "                if order not in u.orders_seq:\n",
    "                    u.orders_seq.append(order)\n",
    "                db.session.add(data)\n",
    "            else:\n",
    "                #找不到对应的编码的机场就记录下来：\n",
    "                out.write(line+'\\n')\n",
    "\n",
    "            old_date = date\n",
    "            old_code = code\n",
    "            old_order = order\n",
    "            \n",
    "\n",
    "db.session.commit()            "
   ]
  },
  {
   "cell_type": "code",
   "execution_count": 19,
   "metadata": {},
   "outputs": [],
   "source": [
    "date = '20200427'"
   ]
  },
  {
   "cell_type": "code",
   "execution_count": 20,
   "metadata": {},
   "outputs": [
    {
     "data": {
      "text/plain": [
       "datetime.datetime(2021, 5, 28, 15, 19, 55, 431634)"
      ]
     },
     "execution_count": 20,
     "metadata": {},
     "output_type": "execute_result"
    }
   ],
   "source": [
    "datetime.now()"
   ]
  },
  {
   "cell_type": "code",
   "execution_count": 21,
   "metadata": {},
   "outputs": [
    {
     "data": {
      "text/plain": [
       "datetime.datetime(2020, 4, 27, 0, 0)"
      ]
     },
     "execution_count": 21,
     "metadata": {},
     "output_type": "execute_result"
    }
   ],
   "source": [
    "datetime.strptime(date,'%Y%m%d')"
   ]
  },
  {
   "cell_type": "code",
   "execution_count": 18,
   "metadata": {},
   "outputs": [
    {
     "name": "stdout",
     "output_type": "stream",
     "text": [
      "[]\n",
      "[<OrderSeq 7>, <OrderSeq 14>, <OrderSeq 19>, <OrderSeq 74>, <OrderSeq 76>, <OrderSeq 78>, <OrderSeq 80>, <OrderSeq 82>, <OrderSeq 84>, <OrderSeq 86>, <OrderSeq 88>, <OrderSeq 90>, <OrderSeq 92>, <OrderSeq 94>, <OrderSeq 96>, <OrderSeq 104>, <OrderSeq 176>, <OrderSeq 178>, <OrderSeq 180>, <OrderSeq 182>]\n",
      "[<OrderSeq 1>, <OrderSeq 3>, <OrderSeq 5>, <OrderSeq 13>, <OrderSeq 15>, <OrderSeq 16>, <OrderSeq 21>, <OrderSeq 23>, <OrderSeq 26>, <OrderSeq 39>, <OrderSeq 41>, <OrderSeq 43>, <OrderSeq 45>, <OrderSeq 47>, <OrderSeq 49>, <OrderSeq 51>, <OrderSeq 53>, <OrderSeq 55>, <OrderSeq 57>, <OrderSeq 59>, <OrderSeq 61>, <OrderSeq 63>, <OrderSeq 65>, <OrderSeq 67>, <OrderSeq 68>, <OrderSeq 70>, <OrderSeq 72>, <OrderSeq 75>, <OrderSeq 77>, <OrderSeq 79>, <OrderSeq 81>, <OrderSeq 83>, <OrderSeq 85>, <OrderSeq 87>, <OrderSeq 89>, <OrderSeq 91>, <OrderSeq 93>, <OrderSeq 95>, <OrderSeq 97>, <OrderSeq 98>, <OrderSeq 99>, <OrderSeq 101>, <OrderSeq 103>, <OrderSeq 105>, <OrderSeq 106>, <OrderSeq 107>, <OrderSeq 108>, <OrderSeq 109>, <OrderSeq 110>, <OrderSeq 111>, <OrderSeq 112>, <OrderSeq 113>, <OrderSeq 115>, <OrderSeq 131>, <OrderSeq 140>, <OrderSeq 154>, <OrderSeq 157>, <OrderSeq 158>, <OrderSeq 159>, <OrderSeq 160>, <OrderSeq 161>, <OrderSeq 162>, <OrderSeq 163>, <OrderSeq 165>, <OrderSeq 168>, <OrderSeq 169>, <OrderSeq 170>, <OrderSeq 173>, <OrderSeq 175>, <OrderSeq 177>, <OrderSeq 179>, <OrderSeq 181>, <OrderSeq 183>, <OrderSeq 184>, <OrderSeq 185>, <OrderSeq 186>, <OrderSeq 187>, <OrderSeq 188>, <OrderSeq 189>, <OrderSeq 190>, <OrderSeq 193>, <OrderSeq 195>, <OrderSeq 197>, <OrderSeq 199>, <OrderSeq 200>, <OrderSeq 201>, <OrderSeq 202>, <OrderSeq 203>, <OrderSeq 204>, <OrderSeq 205>, <OrderSeq 206>, <OrderSeq 207>, <OrderSeq 221>, <OrderSeq 222>, <OrderSeq 223>, <OrderSeq 224>, <OrderSeq 226>, <OrderSeq 228>, <OrderSeq 229>, <OrderSeq 230>, <OrderSeq 231>, <OrderSeq 232>, <OrderSeq 233>, <OrderSeq 234>, <OrderSeq 235>, <OrderSeq 236>]\n",
      "[<OrderSeq 141>, <OrderSeq 143>, <OrderSeq 145>, <OrderSeq 147>, <OrderSeq 149>, <OrderSeq 151>, <OrderSeq 153>, <OrderSeq 225>]\n",
      "[<OrderSeq 25>, <OrderSeq 27>, <OrderSeq 167>]\n",
      "[<OrderSeq 2>, <OrderSeq 4>, <OrderSeq 156>, <OrderSeq 217>, <OrderSeq 219>, <OrderSeq 237>]\n",
      "[<OrderSeq 30>, <OrderSeq 32>, <OrderSeq 34>, <OrderSeq 36>]\n",
      "[<OrderSeq 166>]\n",
      "[]\n",
      "[]\n",
      "[]\n",
      "[]\n",
      "[<OrderSeq 12>, <OrderSeq 28>, <OrderSeq 29>, <OrderSeq 31>, <OrderSeq 33>, <OrderSeq 35>, <OrderSeq 37>, <OrderSeq 40>, <OrderSeq 42>, <OrderSeq 44>, <OrderSeq 46>, <OrderSeq 48>, <OrderSeq 50>, <OrderSeq 52>, <OrderSeq 54>, <OrderSeq 56>, <OrderSeq 58>, <OrderSeq 60>, <OrderSeq 62>, <OrderSeq 64>, <OrderSeq 66>, <OrderSeq 73>, <OrderSeq 142>, <OrderSeq 144>, <OrderSeq 146>, <OrderSeq 148>, <OrderSeq 150>, <OrderSeq 152>]\n",
      "[<OrderSeq 216>, <OrderSeq 218>, <OrderSeq 220>]\n",
      "[<OrderSeq 11>, <OrderSeq 17>, <OrderSeq 69>, <OrderSeq 71>, <OrderSeq 100>, <OrderSeq 102>, <OrderSeq 117>, <OrderSeq 119>, <OrderSeq 121>, <OrderSeq 123>, <OrderSeq 125>, <OrderSeq 127>, <OrderSeq 129>, <OrderSeq 155>, <OrderSeq 164>, <OrderSeq 172>, <OrderSeq 227>]\n",
      "[<OrderSeq 24>]\n",
      "[<OrderSeq 6>, <OrderSeq 8>, <OrderSeq 10>, <OrderSeq 18>, <OrderSeq 20>, <OrderSeq 22>, <OrderSeq 114>, <OrderSeq 116>, <OrderSeq 118>, <OrderSeq 120>, <OrderSeq 122>, <OrderSeq 124>, <OrderSeq 126>, <OrderSeq 128>, <OrderSeq 130>, <OrderSeq 132>, <OrderSeq 134>, <OrderSeq 136>, <OrderSeq 138>, <OrderSeq 171>, <OrderSeq 174>, <OrderSeq 191>, <OrderSeq 192>, <OrderSeq 194>, <OrderSeq 196>, <OrderSeq 198>, <OrderSeq 208>, <OrderSeq 209>, <OrderSeq 210>, <OrderSeq 211>, <OrderSeq 212>, <OrderSeq 213>, <OrderSeq 214>, <OrderSeq 215>]\n",
      "[<OrderSeq 9>, <OrderSeq 38>, <OrderSeq 133>, <OrderSeq 135>, <OrderSeq 137>, <OrderSeq 139>]\n"
     ]
    }
   ],
   "source": [
    "us = User.query.all()\n",
    "for  i in us:\n",
    "# u\n",
    "    print(i.orders_seq.all())"
   ]
  },
  {
   "cell_type": "code",
   "execution_count": null,
   "metadata": {},
   "outputs": [],
   "source": []
  }
 ],
 "metadata": {
  "kernelspec": {
   "display_name": "bird_strike_venvpy3",
   "language": "python",
   "name": "bird_strike_venvpy3"
  },
  "language_info": {
   "codemirror_mode": {
    "name": "ipython",
    "version": 3
   },
   "file_extension": ".py",
   "mimetype": "text/x-python",
   "name": "python",
   "nbconvert_exporter": "python",
   "pygments_lexer": "ipython3",
   "version": "3.7.2"
  }
 },
 "nbformat": 4,
 "nbformat_minor": 2
}
